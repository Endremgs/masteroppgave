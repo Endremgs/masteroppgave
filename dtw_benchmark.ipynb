{
 "cells": [
  {
   "cell_type": "code",
   "execution_count": 8,
   "metadata": {},
   "outputs": [],
   "source": [
    "# Importing nescessary modules\n",
    "import os\n",
    "import re\n",
    "import shutil\n",
    "import numpy as np\n",
    "import pandas as pd\n",
    "\n",
    "\n",
    "from processing.utils import metafile_handler as mfh\n",
    "from processing.utils import file_handler as fh\n",
    "from utils import dtw\n",
    "\n",
    "# from benchmarks import frechet"
   ]
  },
  {
   "cell_type": "code",
   "execution_count": 9,
   "metadata": {},
   "outputs": [],
   "source": [
    "DATA_ROME = \"dataset/rome/output/\"\n",
    "TEST_SET_ROME = \"dataset/rome/output/META-50.txt\"\n",
    "FULL_SET_ROME = \"dataset/rome/output/META-1000.txt\"\n",
    "SIMILARITIES_OUTPUT_FOLDER_ROME = \"benchmarks/similarities/rome/\"\n",
    "DTW_FILENAME_ROME = \"rome-dtw-fullset.csv\"\n",
    "DTW_FILENAME_TEST_ROME = \"rome-dtw-testset.csv\"\n",
    "\n",
    "DATA_PORTO = \"dataset/porto/output/\"\n",
    "TEST_SET_PORTO = \"dataset/porto/output/META-50.txt\"\n",
    "FULL_SET_PORTO = \"dataset/porto/output/META-1000.txt\"\n",
    "SIMILARITIES_OUTPUT_FOLDER_PORTO = \"benchmarks/similarities/porto/\"\n",
    "DTW_FILENAME_PORTO = \"porto-dtw-fullset.csv\"\n",
    "DTW_FILENAME_TEST_PORTO = \"porto-dtw-testset.csv\"\n",
    "\n",
    "DATA_KOLUMBUS = \"dataset/kolumbus/output/\"\n",
    "TEST_SET_KOLUMBUS = \"dataset/kolumbus/output/META-50.txt\"\n",
    "FULL_SET_KOLUMBUS = \"dataset/kolumbus/output/META-1000.txt\"\n",
    "SIMILARITIES_OUTPUT_FOLDER_KOLUMBUS = \"benchmarks/similarities/kolumbus/\"\n",
    "DTW_FILENAME_KOLUMBUS = \"kolumbus-dtw-fullset.csv\"\n",
    "DTW_FILENAME_TEST_KOLUMBUS = \"kolumbus-dtw-testset.csv\""
   ]
  },
  {
   "cell_type": "code",
   "execution_count": 17,
   "metadata": {},
   "outputs": [],
   "source": [
    "def deleteFile(file_name: str, folder_name: str) -> None:\n",
    "    file_path = os.path.join(folder_name, file_name)\n",
    "    try:\n",
    "        if os.path.isfile(file_path) or os.path.islink(file_path):\n",
    "            os.unlink(file_path)\n",
    "        elif os.path.isdir(file_path):\n",
    "            shutil.rmtree(file_path)\n",
    "    except Exception as e:\n",
    "        print(\"Failed to remove %s. Reason: %s\" % (file_path, e))\n",
    "\n",
    "\n",
    "def romeSet(file_size: int) -> str:\n",
    "    return f\"dataset/rome/output/META-{file_size}.txt\"\n",
    "\n",
    "def portoSet(file_size: int) -> str:\n",
    "    return f\"dataset/porto/output/META-{file_size}.txt\"\n"
   ]
  },
  {
   "cell_type": "code",
   "execution_count": 11,
   "metadata": {},
   "outputs": [],
   "source": [
    "# Using Cython DTW, to speed things up\n",
    "\n",
    "\n",
    "def generate_dtw_similarities(\n",
    "    data_folder: str, meta_file: str, file_name: str, similarities_output_folder: str\n",
    "):\n",
    "    deleteFile(file_name, similarities_output_folder)\n",
    "\n",
    "    files = mfh.read_meta_file(meta_file)\n",
    "    trajectories = fh.load_trajectory_files(files, data_folder)\n",
    "\n",
    "    df = dtw.cy_dtw(trajectories)\n",
    "\n",
    "    df.to_csv(os.path.join(similarities_output_folder, file_name))\n",
    "\n",
    "\n",
    "def generate_parallell_dtw_similarities(\n",
    "    data_folder: str, meta_file: str, file_name: str, similarities_output_folder: str\n",
    "):\n",
    "    deleteFile(file_name, similarities_output_folder)\n",
    "\n",
    "    files = mfh.read_meta_file(meta_file)\n",
    "    trajectories = fh.load_trajectory_files(files, data_folder)\n",
    "\n",
    "    df = dtw.cy_dtw_pool(trajectories)\n",
    "    df.to_csv(os.path.join(similarities_output_folder, file_name))"
   ]
  },
  {
   "cell_type": "code",
   "execution_count": 6,
   "metadata": {},
   "outputs": [],
   "source": [
    "# DTW similarities for Rome\n",
    "\n",
    "# Test set\n",
    "# generate_dtw_similarities(\n",
    "#     DATA_ROME, TEST_SET_ROME, DTW_FILENAME_TEST_ROME, SIMILARITIES_OUTPUT_FOLDER_ROME\n",
    "# )\n",
    "generate_parallell_dtw_similarities(\n",
    "    DATA_ROME, TEST_SET_ROME, DTW_FILENAME_TEST_ROME, SIMILARITIES_OUTPUT_FOLDER_ROME\n",
    ")\n",
    "\n",
    "# Full set\n",
    "# generate_dtw_similarities(DATA_ROME, FULL_SET_ROME, DTW_FILENAME_ROME)\n",
    "generate_parallell_dtw_similarities(\n",
    "    DATA_ROME, FULL_SET_ROME, DTW_FILENAME_ROME, SIMILARITIES_OUTPUT_FOLDER_ROME\n",
    ")"
   ]
  },
  {
   "cell_type": "code",
   "execution_count": 12,
   "metadata": {},
   "outputs": [],
   "source": [
    "# DTW similarities for Porto\n",
    "# Test set\n",
    "# generate_dtw_similarities(\n",
    "#     DATA_PORTO,\n",
    "#     TEST_SET_PORTO,\n",
    "#     DTW_FILENAME_TEST_PORTO,\n",
    "#     SIMILARITIES_OUTPUT_FOLDER_PORTO,\n",
    "# )\n",
    "generate_parallell_dtw_similarities(\n",
    "    DATA_PORTO,\n",
    "    TEST_SET_PORTO,\n",
    "    DTW_FILENAME_TEST_PORTO,\n",
    "    SIMILARITIES_OUTPUT_FOLDER_PORTO,\n",
    ")\n",
    "\n",
    "# Full set\n",
    "# generate_dtw_similarities(\n",
    "#     DATA_PORTO, FULL_SET_PORTO, DTW_FILENAME_PORTO, SIMILARITIES_OUTPUT_FOLDER_PORTO\n",
    "# )\n",
    "generate_parallell_dtw_similarities(\n",
    "    DATA_PORTO, FULL_SET_PORTO, DTW_FILENAME_PORTO, SIMILARITIES_OUTPUT_FOLDER_PORTO\n",
    ")"
   ]
  },
  {
   "cell_type": "code",
   "execution_count": 8,
   "metadata": {},
   "outputs": [],
   "source": [
    "# DTW similarities for KOLUMBUS\n",
    "# Test set\n",
    "# generate_dtw_similarities(DATA_KOLUMBUS, TEST_SET_KOLUMBUS, DTW_FILENAME_TEST_KOLUMBUS, SIMILARITIES_OUTPUT_FOLDER_KOLUMBUS)\n",
    "generate_parallell_dtw_similarities(\n",
    "    DATA_KOLUMBUS,\n",
    "    TEST_SET_KOLUMBUS,\n",
    "    DTW_FILENAME_TEST_KOLUMBUS,\n",
    "    SIMILARITIES_OUTPUT_FOLDER_KOLUMBUS,\n",
    ")\n",
    "\n",
    "# Full set\n",
    "# generate_dtw_similarities(\n",
    "#     DATA_PORTO, FULL_SET_PORTO, DTW_FILENAME_PORTO, SIMILARITIES_OUTPUT_FOLDER_PORTO\n",
    "# )\n",
    "# generate_dtw_similarities(DATA_KOLUMBUS, FULL_SET_KOLUMBUS, DTW_FILENAME_KOLUMBUS, SIMILARITIES_OUTPUT_FOLDER_KOLUMBUS)\n",
    "generate_parallell_dtw_similarities(\n",
    "    DATA_KOLUMBUS,\n",
    "    FULL_SET_KOLUMBUS,\n",
    "    DTW_FILENAME_KOLUMBUS,\n",
    "    SIMILARITIES_OUTPUT_FOLDER_KOLUMBUS,\n",
    ")"
   ]
  },
  {
   "cell_type": "code",
   "execution_count": 13,
   "metadata": {},
   "outputs": [],
   "source": [
    "#Time Efficiency\n",
    "from multiprocessing import Pool\n",
    "\n",
    "# Using Python, for measuring computation time fairly against the hash computations\n",
    "\n",
    "sim = {\n",
    "    \"dtw_py\" : dtw.measure_py_dtw,\n",
    "    # \"frechet_py\" : frechet.measure_py_frechet,\n",
    "    \"dtw_cy\" : dtw.measure_cy_dtw,\n",
    "    # \"frechet_cy\" : frechet.measure_cy_frechet\n",
    "}\n",
    "\n",
    "def measure_similarities(measure: str, data_folder: str, meta_file: str, parallell_jobs: int = 10):\n",
    "    \"\"\" Common method for measuring the efficiency of the similarity algorithms \"\"\"\n",
    "    files = mfh.read_meta_file(meta_file)\n",
    "    trajectories = fh.load_trajectory_files(files, data_folder)\n",
    "\n",
    "    with Pool() as pool:\n",
    "        result = pool.map(sim[measure], [[trajectories, 1, 1] for _ in range(10)])\n",
    "    return result"
   ]
  },
  {
   "cell_type": "code",
   "execution_count": 18,
   "metadata": {},
   "outputs": [
    {
     "data": {
      "text/plain": [
       "[[9.056223],\n",
       " [8.561636],\n",
       " [8.652308],\n",
       " [8.630231],\n",
       " [8.674166],\n",
       " [8.592920000000001],\n",
       " [8.515234999999999],\n",
       " [8.507482000000001],\n",
       " [8.480445],\n",
       " [8.80237]]"
      ]
     },
     "execution_count": 18,
     "metadata": {},
     "output_type": "execute_result"
    }
   ],
   "source": [
    "measure_similarities(\"dtw_py\", DATA_PORTO, portoSet(50))"
   ]
  },
  {
   "cell_type": "code",
   "execution_count": null,
   "metadata": {},
   "outputs": [],
   "source": [
    "measure_similarities(\"dtw_cy\", DATA_PORTO, portoSet(1000))"
   ]
  },
  {
   "cell_type": "code",
   "execution_count": null,
   "metadata": {},
   "outputs": [],
   "source": [
    "# Measuring the computation times of true similarities\n",
    "\n",
    "runs = 10\n",
    "data_sets = range(500,501,100)\n",
    "output_folder = \"../code/experiments/timing/\"\n",
    "file_name = \"similarity_runtimes_true_dtw_rome_500.csv\"\n",
    "\n",
    "df = pd.DataFrame( index=[f\"run_{x+1}\" for x in range(runs)], columns=[x for x in data_sets])\n",
    "\n",
    "for size in data_sets:\n",
    "    print(f\"Computing size {size}\", end=\"\\r\")\n",
    "    execution_times = measure_similarities(\"dtw_py\", DATA_ROME, romeSet(size), parallell_jobs=runs)\n",
    "    df[size] = [element[0] for element in execution_times]\n",
    "\n",
    "df.to_csv(os.path.join(output_folder, file_name))\n",
    "df\n",
    "of = pd.read_csv(\"C:\\\\Users\\\\bafla\\\\Desktop\\\\Projects\\\\master\\\\code\\\\experiments\\\\timing\\\\similarity_runtimes_true_dtw_rome.csv\", index_col=0)\n",
    "f1 = pd.read_csv(\"C:\\\\Users\\\\bafla\\\\Desktop\\\\Projects\\\\master\\\\code\\\\experiments\\\\timing\\\\similarity_runtimes_true_dtw_rome_500.csv\", index_col=0)\n",
    "\n",
    "of[\"500\"] = f1[\"500\"]\n",
    "#of[\"700\"] = f1[\"700\"]\n",
    "\n",
    "of.to_csv(\"C:\\\\Users\\\\bafla\\\\Desktop\\\\Projects\\\\master\\\\code\\\\experiments\\\\timing\\\\similarity_runtimes_true_dtw_rome.csv\")\n",
    "20"
   ]
  }
 ],
 "metadata": {
  "kernelspec": {
   "display_name": "Python 3",
   "language": "python",
   "name": "python3"
  },
  "language_info": {
   "codemirror_mode": {
    "name": "ipython",
    "version": 3
   },
   "file_extension": ".py",
   "mimetype": "text/x-python",
   "name": "python",
   "nbconvert_exporter": "python",
   "pygments_lexer": "ipython3",
   "version": "3.11.6+"
  }
 },
 "nbformat": 4,
 "nbformat_minor": 2
}
