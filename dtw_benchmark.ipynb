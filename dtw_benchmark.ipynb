{
 "cells": [
  {
   "cell_type": "code",
   "execution_count": 67,
   "metadata": {},
   "outputs": [],
   "source": [
    "# Importing nescessary modules\n",
    "import os\n",
    "import re\n",
    "import shutil\n",
    "import numpy as np\n",
    "import pandas as pd\n",
    "\n",
    "\n",
    "from processing.utils import metafile_handler as mfh\n",
    "from processing.utils import file_handler as fh\n",
    "\n",
    "from utils import dtw\n",
    "\n",
    "# from benchmarks import frechet"
   ]
  },
  {
   "cell_type": "code",
   "execution_count": 68,
   "metadata": {},
   "outputs": [],
   "source": [
    "# DATA_ROME = \"../data/chosen_data/rome/\"\n",
    "DATA_ROME = \"dataset/rome/output/\"\n",
    "# SIM_OUT_FOLDER = \"../code/benchmarks/similarities/\"\n",
    "SIM_OUT_FOLDER = \"similarities/\"\n",
    "\n",
    "# ROME_FULL_SET = \"../data/chosen_data/rome/META-1000.txt\"\n",
    "\n",
    "# TEST_SET_ROME = \"../data/chosen_data/rome/META-50.txt\"\n",
    "# TEST_SET_ROME = \"dataset/rome/output/META-50-bjorn.txt\"\n",
    "TEST_SET_ROME = \"dataset/rome/output/META-1000.txt\"\n",
    "\n",
    "ROME_DTW_FILE = \"rome-dtw.csv\"\n",
    "\n",
    "ROME_DTW_FILE_TEST = \"rome-dtw-test.csv\""
   ]
  },
  {
   "cell_type": "code",
   "execution_count": 69,
   "metadata": {},
   "outputs": [],
   "source": [
    "def deleteFile(file_name: str) -> None:\n",
    "    file_path = os.path.join(SIM_OUT_FOLDER, file_name)\n",
    "    try:\n",
    "        if os.path.isfile(file_path) or os.path.islink(file_path):\n",
    "            os.unlink(file_path)\n",
    "        elif os.path.isdir(file_path):\n",
    "            shutil.rmtree(file_path)\n",
    "    except Exception as e:\n",
    "        print(\"Failed to remove %s. Reason: %s\" % (file_path, e))\n",
    "\n",
    "\n",
    "def romeSet(file_size: int) -> str:\n",
    "    return f\"dataset/rome/output/META-{file_size}.txt\""
   ]
  },
  {
   "cell_type": "code",
   "execution_count": 70,
   "metadata": {},
   "outputs": [],
   "source": [
    "# Using Cython DTW, to speed things up\n",
    "\n",
    "\n",
    "def generate_dtw_similarities(data_folder: str, meta_file: str, file_name: str):\n",
    "    deleteFile(file_name)\n",
    "\n",
    "    files = mfh.read_meta_file(meta_file)\n",
    "    trajectories = fh.load_trajectory_files(files, data_folder)\n",
    "\n",
    "    df = dtw.cy_dtw(trajectories)\n",
    "    df.to_csv(os.path.join(SIM_OUT_FOLDER, file_name))\n",
    "\n",
    "\n",
    "def generate_parallell_dtw_similarities(\n",
    "    data_folder: str, meta_file: str, file_name: str\n",
    "):\n",
    "    deleteFile(file_name)\n",
    "\n",
    "    files = mfh.read_meta_file(meta_file)\n",
    "    trajectories = fh.load_trajectory_files(files, data_folder)\n",
    "\n",
    "    df = dtw.cy_dtw_pool(trajectories)\n",
    "    df.to_csv(os.path.join(SIM_OUT_FOLDER, \"parallell-\" + file_name))"
   ]
  },
  {
   "cell_type": "code",
   "execution_count": 73,
   "metadata": {},
   "outputs": [],
   "source": [
    "# generate_dtw_similarities(DATA_ROME, TEST_SET_ROME, ROME_DTW_FILE)\n",
    "\n",
    "generate_parallell_dtw_similarities(DATA_ROME, TEST_SET_ROME, ROME_DTW_FILE_TEST)"
   ]
  }
 ],
 "metadata": {
  "kernelspec": {
   "display_name": "Python 3",
   "language": "python",
   "name": "python3"
  },
  "language_info": {
   "codemirror_mode": {
    "name": "ipython",
    "version": 3
   },
   "file_extension": ".py",
   "mimetype": "text/x-python",
   "name": "python",
   "nbconvert_exporter": "python",
   "pygments_lexer": "ipython3",
   "version": "3.11.7"
  }
 },
 "nbformat": 4,
 "nbformat_minor": 2
}
