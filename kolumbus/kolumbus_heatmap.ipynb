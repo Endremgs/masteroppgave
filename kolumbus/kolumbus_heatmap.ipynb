{
 "cells": [
  {
   "cell_type": "code",
   "execution_count": null,
   "metadata": {},
   "outputs": [
    {
     "ename": "",
     "evalue": "",
     "output_type": "error",
     "traceback": [
      "\u001b[1;31mRunning cells with '/Users/endremg/.pyenv/versions/3.11-dev/bin/python' requires the ipykernel package.\n",
      "\u001b[1;31mRun the following command to install 'ipykernel' into the Python environment. \n",
      "\u001b[1;31mCommand: '/Users/endremg/.pyenv/versions/3.11-dev/bin/python -m pip install ipykernel -U --force-reinstall'"
     ]
    }
   ],
   "source": [
    "import os\n",
    "import pandas as pd\n",
    "import folium  # Importing Folium\n",
    "from folium.plugins import HeatMap\n",
    "\n",
    "# Reading the data\n",
    "input_file_path = os.path.join(\"../dataset/kolumbus\", \"2023-09-04.csv\")\n",
    "data = pd.read_csv(input_file_path, usecols=[\"serviceJourney\", \"longitude\", \"latitude\"])\n",
    "# Filtering the data\n",
    "filtered_data = data[\n",
    "    (data[\"latitude\"] >= 58.71)\n",
    "    & (data[\"latitude\"] <= 59.02)\n",
    "    & (data[\"longitude\"] >= 5.53)\n",
    "    & (data[\"longitude\"] <= 5.85)\n",
    "]\n",
    "# Initialize a map centered around the average coordinates\n",
    "map_center = [filtered_data[\"latitude\"].mean(), filtered_data[\"longitude\"].mean()]\n",
    "map = folium.Map(location=map_center, zoom_start=10.5)\n",
    "# heat_data = [[row['latitude'], row['longitude']] for index, row in filtered_data.iterrows()]\n",
    "heat_data = [\n",
    "    [row[\"latitude\"], row[\"longitude\"]]\n",
    "    # iloc to skip rows\n",
    "    for index, row in filtered_data.iloc[::100].iterrows()\n",
    "]\n",
    "# Creating a HeatMap\n",
    "heatmap = HeatMap(\n",
    "    heat_data,\n",
    "    min_opacity=0.55,\n",
    "    radius=12.5,  # Adjust as needed\n",
    "    blur=12.5,  # Adjust the amount of blur\n",
    "    max_zoom=1,\n",
    "    gradient={\n",
    "        0.2: \"blue\",\n",
    "        0.4: \"cyan\",\n",
    "        0.6: \"lime\",\n",
    "        0.8: \"yellow\",\n",
    "        1: \"red\",\n",
    "    },  # Customize gradient colors\n",
    ")\n",
    "heatmap.add_to(map)\n",
    "# Save the map\n",
    "output_file_path = os.path.join(\"../kolumbus/output/\", \"kolumbus_heatmap2.html\")\n",
    "map.save(output_file_path)"
   ]
  }
 ],
 "metadata": {
  "kernelspec": {
   "display_name": "Python 3",
   "language": "python",
   "name": "python3"
  },
  "language_info": {
   "codemirror_mode": {
    "name": "ipython",
    "version": 3
   },
   "file_extension": ".py",
   "mimetype": "text/x-python",
   "name": "python",
   "nbconvert_exporter": "python",
   "pygments_lexer": "ipython3",
   "version": "3.11.6"
  }
 },
 "nbformat": 4,
 "nbformat_minor": 2
}
