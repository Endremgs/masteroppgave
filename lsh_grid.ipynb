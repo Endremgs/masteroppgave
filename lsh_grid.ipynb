{
 "cells": [
  {
   "cell_type": "code",
   "execution_count": 1,
   "metadata": {},
   "outputs": [],
   "source": [
    "# Importing nescessary modules\n",
    "import os\n",
    "import shutil\n",
    "\n",
    "from schemes.lsh_grid import GridLSH\n",
    "\n",
    "from processing.utils import metafile_handler as mfh\n",
    "\n",
    "from schemes.experiments import hashing\n",
    "\n",
    "from multiprocessing import Pool"
   ]
  },
  {
   "cell_type": "code",
   "execution_count": 2,
   "metadata": {},
   "outputs": [],
   "source": [
    "# Declaring global variables:\n",
    "\n",
    "SHOULD_DELETE_OLD_FILES = False\n",
    "\n",
    "OUTPUT_FOLDER_PORTO = \"hashed_data/grid/porto/\"\n",
    "OUTPUT_FOLDER_ROME = \"hashed_data/grid/rome/\"\n",
    "# OUTPUT_FOLDER_ROME = \"hashed_data/grid/rome/\"\n",
    "\n",
    "PORTO_DATA = \"dataset/porto/output/\"\n",
    "ROME_DATA = \"dataset/rome/output/\"\n",
    "\n",
    "P_MAX_LON = -0.00\n",
    "P_MIN_LON = -8.00\n",
    "P_MAX_LAT = 42.00\n",
    "P_MIN_LAT = 41.00\n",
    "\n",
    "R_MAX_LON = 12.53\n",
    "R_MIN_LON = 12.44\n",
    "R_MAX_LAT = 41.93\n",
    "R_MIN_LAT = 41.88"
   ]
  },
  {
   "cell_type": "markdown",
   "metadata": {},
   "source": [
    "# ROME LSH\n"
   ]
  },
  {
   "cell_type": "code",
   "execution_count": 3,
   "metadata": {},
   "outputs": [],
   "source": [
    "# Run this cell to clear the chosen files in the ROME folder\n",
    "\n",
    "if SHOULD_DELETE_OLD_FILES:\n",
    "    for filename in os.listdir(OUTPUT_FOLDER_ROME):\n",
    "        file_path = os.path.join(OUTPUT_FOLDER_ROME, filename)\n",
    "        try:\n",
    "            if os.path.isfile(file_path) or os.path.islink(file_path):\n",
    "                os.unlink(file_path)\n",
    "            elif os.path.isdir(file_path):\n",
    "                shutil.rmtree(file_path)\n",
    "        except Exception as e:\n",
    "            print(\"Failed to remove %s. Reason: %s\" % (file_path, e))"
   ]
  },
  {
   "cell_type": "code",
   "execution_count": 4,
   "metadata": {},
   "outputs": [],
   "source": [
    "# Create Grid hash object for Rome and saves them to output folder. Also copies the metafiles denoting the different datasets\n",
    "\n",
    "resolution = 1.2  # km\n",
    "layers = 4\n",
    "meta_file = \"dataset/rome/output/META-100.TXT\"\n",
    "\n",
    "GridRome = GridLSH(\n",
    "    \"Rome G1\",\n",
    "    R_MIN_LAT,\n",
    "    R_MAX_LAT,\n",
    "    R_MIN_LON,\n",
    "    R_MAX_LON,\n",
    "    resolution,\n",
    "    layers,\n",
    "    meta_file,\n",
    "    ROME_DATA,\n",
    ")"
   ]
  },
  {
   "cell_type": "code",
   "execution_count": 5,
   "metadata": {},
   "outputs": [
    {
     "ename": "NameError",
     "evalue": "name 'hashes' is not defined",
     "output_type": "error",
     "traceback": [
      "\u001b[0;31m---------------------------------------------------------------------------\u001b[0m",
      "\u001b[0;31mNameError\u001b[0m                                 Traceback (most recent call last)",
      "Cell \u001b[0;32mIn[5], line 6\u001b[0m\n\u001b[1;32m      1\u001b[0m \u001b[38;5;66;03m# Generate the hashes and save them to output folder\u001b[39;00m\n\u001b[1;32m      2\u001b[0m \n\u001b[1;32m      3\u001b[0m \u001b[38;5;66;03m# hashes = GridRome.compute_dataset_hashes()\u001b[39;00m\n\u001b[1;32m      4\u001b[0m \n\u001b[1;32m      5\u001b[0m \u001b[38;5;66;03m# Saving the hashes to files\u001b[39;00m\n\u001b[0;32m----> 6\u001b[0m \u001b[38;5;28;01mfor\u001b[39;00m key \u001b[38;5;129;01min\u001b[39;00m \u001b[43mhashes\u001b[49m:\n\u001b[1;32m      7\u001b[0m     \u001b[38;5;28;01mwith\u001b[39;00m \u001b[38;5;28mopen\u001b[39m(\u001b[38;5;124mf\u001b[39m\u001b[38;5;124m\"\u001b[39m\u001b[38;5;132;01m{\u001b[39;00mOUTPUT_FOLDER_ROME\u001b[38;5;132;01m}\u001b[39;00m\u001b[38;5;124m/\u001b[39m\u001b[38;5;132;01m{\u001b[39;00mkey\u001b[38;5;132;01m}\u001b[39;00m\u001b[38;5;124m.txt\u001b[39m\u001b[38;5;124m\"\u001b[39m, \u001b[38;5;124m\"\u001b[39m\u001b[38;5;124mw\u001b[39m\u001b[38;5;124m\"\u001b[39m) \u001b[38;5;28;01mas\u001b[39;00m file:\n\u001b[1;32m      8\u001b[0m         \u001b[38;5;28;01mfor\u001b[39;00m \u001b[38;5;28mhash\u001b[39m \u001b[38;5;129;01min\u001b[39;00m hashes[key]:\n",
      "\u001b[0;31mNameError\u001b[0m: name 'hashes' is not defined"
     ]
    }
   ],
   "source": [
    "# Generate the hashes and save them to output folder\n",
    "\n",
    "# hashes = GridRome.compute_dataset_hashes()\n",
    "\n",
    "# Saving the hashes to files\n",
    "for key in hashes:\n",
    "    with open(f\"{OUTPUT_FOLDER_ROME}/{key}.txt\", \"w\") as file:\n",
    "        for hash in hashes[key]:\n",
    "            file.write(\"%s\\n\" % hash)\n",
    "        file.close()\n",
    "\n",
    "# Copying the meta_files:\n",
    "# meta_files = mfh.get_meta_files(ROME_DATA)\n",
    "\n",
    "# for filename in meta_files:\n",
    "#     shutil.copy(ROME_DATA + filename, OUTPUT_FOLDER_ROME)"
   ]
  },
  {
   "cell_type": "markdown",
   "metadata": {},
   "source": [
    "# PORTO LSH\n"
   ]
  },
  {
   "cell_type": "code",
   "execution_count": 6,
   "metadata": {},
   "outputs": [],
   "source": [
    "# Run this cell to clear the chosen files in the PORTO folder\n",
    "\n",
    "if SHOULD_DELETE_OLD_FILES:\n",
    "    for filename in os.listdir(OUTPUT_FOLDER_PORTO):\n",
    "        file_path = os.path.join(OUTPUT_FOLDER_PORTO, filename)\n",
    "        try:\n",
    "            if os.path.isfile(file_path) or os.path.islink(file_path):\n",
    "                os.unlink(file_path)\n",
    "            elif os.path.isdir(file_path):\n",
    "                shutil.rmtree(file_path)\n",
    "        except Exception as e:\n",
    "            print(\"Failed to remove %s. Reason: %s\" % (file_path, e))"
   ]
  },
  {
   "cell_type": "code",
   "execution_count": 7,
   "metadata": {},
   "outputs": [],
   "source": [
    "# Create Grid LSH objec for Porto\n",
    "\n",
    "resolution = 1.6  # km\n",
    "layers = 5\n",
    "meta_file = \"dataset/porto/output/META-100.TXT\"\n",
    "\n",
    "GridPorto = GridLSH(\n",
    "    \"Porto G1\",\n",
    "    P_MIN_LAT,\n",
    "    P_MAX_LAT,\n",
    "    P_MIN_LON,\n",
    "    P_MAX_LON,\n",
    "    resolution,\n",
    "    layers,\n",
    "    meta_file,\n",
    "    PORTO_DATA,\n",
    ")"
   ]
  },
  {
   "cell_type": "code",
   "execution_count": 8,
   "metadata": {},
   "outputs": [
    {
     "name": "stdout",
     "output_type": "stream",
     "text": [
      "[-8.613126, 41.166864]\n",
      "-8.613126\n",
      "41.166864\n",
      "0.014469947727313836\n",
      "-3428\n",
      "2582\n"
     ]
    },
    {
     "ename": "ValueError",
     "evalue": "chr() arg not in range(0x110000)",
     "output_type": "error",
     "traceback": [
      "\u001b[0;31m---------------------------------------------------------------------------\u001b[0m",
      "\u001b[0;31mValueError\u001b[0m                                Traceback (most recent call last)",
      "Cell \u001b[0;32mIn[8], line 3\u001b[0m\n\u001b[1;32m      1\u001b[0m \u001b[38;5;66;03m# Creating the hashes and saving them to output folder\u001b[39;00m\n\u001b[0;32m----> 3\u001b[0m hashes \u001b[38;5;241m=\u001b[39m \u001b[43mGridPorto\u001b[49m\u001b[38;5;241;43m.\u001b[39;49m\u001b[43mcompute_dataset_hashes\u001b[49m\u001b[43m(\u001b[49m\u001b[43m)\u001b[49m\n\u001b[1;32m      5\u001b[0m \u001b[38;5;66;03m# Saving the hashes to files\u001b[39;00m\n\u001b[1;32m      6\u001b[0m \u001b[38;5;28;01mfor\u001b[39;00m key \u001b[38;5;129;01min\u001b[39;00m hashes:\n",
      "File \u001b[0;32m~/masteroppgave/masteroppgave/schemes/lsh_grid.py:170\u001b[0m, in \u001b[0;36mGridLSH.compute_dataset_hashes\u001b[0;34m(self)\u001b[0m\n\u001b[1;32m    168\u001b[0m \u001b[38;5;66;03m# Starting to hash the trajectories\u001b[39;00m\n\u001b[1;32m    169\u001b[0m \u001b[38;5;28;01mfor\u001b[39;00m key \u001b[38;5;129;01min\u001b[39;00m trajectories:\n\u001b[0;32m--> 170\u001b[0m     \u001b[38;5;28mself\u001b[39m\u001b[38;5;241m.\u001b[39mhashes[key] \u001b[38;5;241m=\u001b[39m \u001b[38;5;28;43mself\u001b[39;49m\u001b[38;5;241;43m.\u001b[39;49m\u001b[43m_create_trajectory_hash\u001b[49m\u001b[43m(\u001b[49m\u001b[43mtrajectories\u001b[49m\u001b[43m[\u001b[49m\u001b[43mkey\u001b[49m\u001b[43m]\u001b[49m\u001b[43m)\u001b[49m\n\u001b[1;32m    172\u001b[0m \u001b[38;5;28;01mreturn\u001b[39;00m \u001b[38;5;28mself\u001b[39m\u001b[38;5;241m.\u001b[39mhashes\n",
      "File \u001b[0;32m~/masteroppgave/masteroppgave/schemes/lsh_grid.py:143\u001b[0m, in \u001b[0;36mGridLSH._create_trajectory_hash\u001b[0;34m(self, trajectory)\u001b[0m\n\u001b[1;32m    141\u001b[0m         \u001b[38;5;28mprint\u001b[39m(lat_hash)\n\u001b[1;32m    142\u001b[0m         \u001b[38;5;28mprint\u001b[39m(lon_hash)\n\u001b[0;32m--> 143\u001b[0m         \u001b[38;5;28mhash\u001b[39m\u001b[38;5;241m.\u001b[39mappend(\u001b[43man\u001b[49m\u001b[38;5;241;43m.\u001b[39;49m\u001b[43mget_alphabetical_value\u001b[49m\u001b[43m(\u001b[49m\u001b[43m[\u001b[49m\u001b[43mlat_hash\u001b[49m\u001b[43m,\u001b[49m\u001b[43m \u001b[49m\u001b[43mlon_hash\u001b[49m\u001b[43m]\u001b[49m\u001b[43m)\u001b[49m)\n\u001b[1;32m    144\u001b[0m     hashes\u001b[38;5;241m.\u001b[39mappend(\u001b[38;5;28mhash\u001b[39m)\n\u001b[1;32m    146\u001b[0m \u001b[38;5;66;03m# Then remove consecutive duplicats and return result:\u001b[39;00m\n",
      "File \u001b[0;32m~/masteroppgave/masteroppgave/processing/utils/alphabetical_number.py:39\u001b[0m, in \u001b[0;36mget_alphabetical_value\u001b[0;34m(hash)\u001b[0m\n\u001b[1;32m     37\u001b[0m \u001b[38;5;28;01mmatch\u001b[39;00m i:\n\u001b[1;32m     38\u001b[0m     \u001b[38;5;28;01mcase\u001b[39;00m \u001b[38;5;241m0\u001b[39m:\n\u001b[0;32m---> 39\u001b[0m         out_value \u001b[38;5;241m+\u001b[39m\u001b[38;5;241m=\u001b[39m \u001b[43m_get_char_value\u001b[49m\u001b[43m(\u001b[49m\u001b[43mkey\u001b[49m\u001b[43m,\u001b[49m\u001b[43m \u001b[49m\u001b[38;5;124;43m\"\u001b[39;49m\u001b[38;5;124;43mA\u001b[39;49m\u001b[38;5;124;43m\"\u001b[39;49m\u001b[43m)\u001b[49m\n\u001b[1;32m     40\u001b[0m     \u001b[38;5;28;01mcase\u001b[39;00m \u001b[38;5;241m1\u001b[39m:\n\u001b[1;32m     41\u001b[0m         out_value \u001b[38;5;241m+\u001b[39m\u001b[38;5;241m=\u001b[39m _get_char_value(key, \u001b[38;5;124m\"\u001b[39m\u001b[38;5;124ma\u001b[39m\u001b[38;5;124m\"\u001b[39m)\n",
      "File \u001b[0;32m~/masteroppgave/masteroppgave/processing/utils/alphabetical_number.py:22\u001b[0m, in \u001b[0;36m_get_char_value\u001b[0;34m(key, base)\u001b[0m\n\u001b[1;32m     20\u001b[0m \u001b[38;5;28;01mif\u001b[39;00m key \u001b[38;5;241m>\u001b[39m\u001b[38;5;241m=\u001b[39m \u001b[38;5;241m676\u001b[39m:\n\u001b[1;32m     21\u001b[0m     \u001b[38;5;28;01mraise\u001b[39;00m \u001b[38;5;167;01mValueError\u001b[39;00m(\u001b[38;5;124m\"\u001b[39m\u001b[38;5;124mError: Too big number to be converted to alphabetic number\u001b[39m\u001b[38;5;124m\"\u001b[39m)\n\u001b[0;32m---> 22\u001b[0m \u001b[38;5;28;01mreturn\u001b[39;00m \u001b[38;5;28;43mchr\u001b[39;49m\u001b[43m(\u001b[49m\u001b[38;5;28;43mord\u001b[39;49m\u001b[43m(\u001b[49m\u001b[43mbase\u001b[49m\u001b[43m)\u001b[49m\u001b[43m \u001b[49m\u001b[38;5;241;43m+\u001b[39;49m\u001b[43m \u001b[49m\u001b[43mkey\u001b[49m\u001b[43m \u001b[49m\u001b[38;5;241;43m/\u001b[39;49m\u001b[38;5;241;43m/\u001b[39;49m\u001b[43m \u001b[49m\u001b[38;5;241;43m26\u001b[39;49m\u001b[43m)\u001b[49m \u001b[38;5;241m+\u001b[39m \u001b[38;5;28mchr\u001b[39m(\u001b[38;5;28mord\u001b[39m(base) \u001b[38;5;241m+\u001b[39m key \u001b[38;5;241m%\u001b[39m \u001b[38;5;241m26\u001b[39m)\n",
      "\u001b[0;31mValueError\u001b[0m: chr() arg not in range(0x110000)"
     ]
    }
   ],
   "source": [
    "# Creating the hashes and saving them to output folder\n",
    "\n",
    "hashes = GridPorto.compute_dataset_hashes()\n",
    "\n",
    "# Saving the hashes to files\n",
    "for key in hashes:\n",
    "    with open(f\"{OUTPUT_FOLDER_PORTO}/{key}.txt\", \"w\") as file:\n",
    "        for hash in hashes[key]:\n",
    "            file.write(\"%s\\n\" % hash)\n",
    "        file.close()\n",
    "\n",
    "# Copying the meta_files\n",
    "# meta_files = mfh.get_meta_files(PORTO_DATA)\n",
    "\n",
    "# for filename in meta_files:\n",
    "#     shutil.copy(PORTO_DATA + filename, OUTPUT_FOLDER_PORTO)"
   ]
  }
 ],
 "metadata": {
  "kernelspec": {
   "display_name": "Python 3",
   "language": "python",
   "name": "python3"
  },
  "language_info": {
   "codemirror_mode": {
    "name": "ipython",
    "version": 3
   },
   "file_extension": ".py",
   "mimetype": "text/x-python",
   "name": "python",
   "nbconvert_exporter": "python",
   "pygments_lexer": "ipython3",
   "version": "3.11.7"
  }
 },
 "nbformat": 4,
 "nbformat_minor": 2
}
