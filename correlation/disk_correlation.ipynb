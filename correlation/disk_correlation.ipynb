{
 "cells": [
  {
   "cell_type": "markdown",
   "metadata": {},
   "source": [
    "# Check correlation between similarities based on disk-based hashes and true similarities\n"
   ]
  },
  {
   "cell_type": "code",
   "execution_count": null,
   "metadata": {},
   "outputs": [],
   "source": [
    "# from correlation import compute_correlation_similarity\n",
    "from disk_resolution import plot_disk_dia_layers"
   ]
  },
  {
   "cell_type": "markdown",
   "metadata": {},
   "source": [
    "# Plot Pearson correlation coefficient with various layers and resolution\n"
   ]
  },
  {
   "cell_type": "markdown",
   "metadata": {},
   "source": [
    "## Disk Rome\n"
   ]
  },
  {
   "cell_type": "code",
   "execution_count": null,
   "metadata": {},
   "outputs": [],
   "source": [
    "plot_disk_dia_layers(\n",
    "    \"rome\",\n",
    "    [1, 2, 3, 4, 5, 6],\n",
    "    [1, 3, 0.2],\n",
    "    measure=\"dtw\",\n",
    "    reference=\"dtw\",\n",
    "    parallel_jobs=3,\n",
    "    disks=150,\n",
    ")\n",
    "\n",
    "plot_disk_dia_layers(\n",
    "    \"rome\",\n",
    "    [1, 2, 3, 4, 5, 6],\n",
    "    [1, 3, 0.2],\n",
    "    measure=\"dtw\",\n",
    "    reference=\"frechet\",\n",
    "    parallel_jobs=3,\n",
    "    disks=150,\n",
    ")\n",
    "\n",
    "\n",
    "# 66 minutes\n",
    "# plot_disk_dia_layers(\n",
    "#     \"rome\",\n",
    "#     [1, 2, 3, 4, 5, 6],\n",
    "#     [1, 3, 0.2],\n",
    "#     measure=\"frechet\",\n",
    "#     reference=\"frechet\",\n",
    "#     parallel_jobs=1,\n",
    "#     disks=150,\n",
    "# )"
   ]
  },
  {
   "cell_type": "markdown",
   "metadata": {},
   "source": [
    "## Disk Porto\n"
   ]
  },
  {
   "cell_type": "code",
   "execution_count": null,
   "metadata": {},
   "outputs": [],
   "source": [
    "plot_disk_dia_layers(\n",
    "    \"porto\",\n",
    "    [1, 2, 3, 4, 5, 6],\n",
    "    [1, 3, 0.2],\n",
    "    measure=\"dtw\",\n",
    "    reference=\"dtw\",\n",
    "    parallel_jobs=3,\n",
    "    disks=150,\n",
    ")\n",
    "\n",
    "plot_disk_dia_layers(\n",
    "    \"porto\",\n",
    "    [1, 2, 3, 4, 5, 6],\n",
    "    [1, 3, 0.2],\n",
    "    measure=\"dtw\",\n",
    "    reference=\"frechet\",\n",
    "    parallel_jobs=3,\n",
    "    disks=150,\n",
    ")"
   ]
  },
  {
   "cell_type": "markdown",
   "metadata": {},
   "source": [
    "## Disk Kolumbus\n"
   ]
  },
  {
   "cell_type": "code",
   "execution_count": null,
   "metadata": {},
   "outputs": [],
   "source": [
    "plot_disk_dia_layers(\n",
    "    city=\"kolumbus\",\n",
    "    layers=[1, 2, 3, 4, 5, 6],\n",
    "    diameter=[1, 3, 0.2],\n",
    "    measure=\"dtw\",\n",
    "    reference=\"dtw\",\n",
    "    parallel_jobs=3,\n",
    "    disks=150,\n",
    ")\n",
    "\n",
    "plot_disk_dia_layers(\n",
    "    city=\"kolumbus\",\n",
    "    layers=[1, 2, 3, 4, 5, 6],\n",
    "    diameter=[1, 3, 0.5],\n",
    "    measure=\"dtw\",\n",
    "    reference=\"frechet\",\n",
    "    parallel_jobs=3,\n",
    "    disks=150,\n",
    ")\n",
    "\n",
    "plot_disk_dia_layers(\n",
    "    city=\"kolumbus\",\n",
    "    layers=[1, 2, 3, 4, 5, 6],\n",
    "    diameter=[1, 3, 0.2],\n",
    "    measure=\"frechet\",\n",
    "    reference=\"dtw\",\n",
    "    parallel_jobs=3,\n",
    "    disks=150,\n",
    ")\n",
    "\n",
    "plot_disk_dia_layers(\n",
    "    city=\"kolumbus\",\n",
    "    layers=[1, 2, 3, 4, 5, 6],\n",
    "    diameter=[1, 3, 0.5],\n",
    "    measure=\"frechet\",\n",
    "    reference=\"frechet\",\n",
    "    parallel_jobs=3,\n",
    "    disks=150,\n",
    ")\n",
    "# NOTE: Achieves better results than dtw, so keeping it although ED code is removed\n",
    "# plot_disk_dia_layers(\n",
    "#     \"kolumbus\",\n",
    "#     [1, 2, 3, 4, 5, 6],\n",
    "#     [1, 3, 0.5],\n",
    "#     measure=\"py_ed\",\n",
    "#     reference=\"frechet\",\n",
    "#     parallel_jobs=3,\n",
    "#     disks=150,\n",
    "# )"
   ]
  }
 ],
 "metadata": {
  "kernelspec": {
   "display_name": "Python 3",
   "language": "python",
   "name": "python3"
  },
  "language_info": {
   "codemirror_mode": {
    "name": "ipython",
    "version": 3
   },
   "file_extension": ".py",
   "mimetype": "text/x-python",
   "name": "python",
   "nbconvert_exporter": "python",
   "pygments_lexer": "ipython3",
   "version": "3.11.6+"
  }
 },
 "nbformat": 4,
 "nbformat_minor": 2
}
