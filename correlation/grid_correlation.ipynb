{
 "cells": [
  {
   "cell_type": "markdown",
   "metadata": {},
   "source": [
    "# Check correlation between similarities based on grid-based hashes and true similarities\n"
   ]
  },
  {
   "cell_type": "code",
   "execution_count": null,
   "metadata": {},
   "outputs": [],
   "source": [
    "# from correlation import compute_correlation_similarity\n",
    "from grid_resolution import plot_grid_res_layers"
   ]
  },
  {
   "cell_type": "markdown",
   "metadata": {},
   "source": [
    "# Plot Pearson correlation coefficient with various layers and resolution\n"
   ]
  },
  {
   "cell_type": "markdown",
   "metadata": {},
   "source": [
    "## Grid Rome\n"
   ]
  },
  {
   "cell_type": "code",
   "execution_count": null,
   "metadata": {},
   "outputs": [],
   "source": [
    "plot_grid_res_layers(\n",
    "    city=\"rome\",\n",
    "    layers=[1, 2, 3, 4],\n",
    "    resolution=[1, 3, 0.2],\n",
    "    measure=\"dtw\",\n",
    "    reference=\"dtw\",\n",
    "    parallel_jobs=3,\n",
    ")\n",
    "\n",
    "plot_grid_res_layers(\n",
    "    city=\"rome\",\n",
    "    layers=[1, 2, 3, 4, 5, 6, 8, 10],\n",
    "    resolution=[1, 3, 0.2],\n",
    "    measure=\"dtw\",\n",
    "    reference=\"dtw\",\n",
    "    parallel_jobs=3,\n",
    ")\n",
    "\n",
    "plot_grid_res_layers(\n",
    "    city=\"rome\",\n",
    "    layers=[1, 2, 3, 4],\n",
    "    resolution=[1, 3, 0.2],\n",
    "    measure=\"dtw\",\n",
    "    reference=\"frechet\",\n",
    "    parallel_jobs=3,\n",
    ")\n",
    "\n",
    "plot_grid_res_layers(\n",
    "    city=\"rome\",\n",
    "    layers=[1, 2, 3, 4, 5, 6, 8, 10],\n",
    "    resolution=[1, 3, 0.2],\n",
    "    measure=\"dtw\",\n",
    "    reference=\"frechet\",\n",
    "    parallel_jobs=3,\n",
    ")"
   ]
  },
  {
   "cell_type": "markdown",
   "metadata": {},
   "source": [
    "## Grid Porto\n"
   ]
  },
  {
   "cell_type": "code",
   "execution_count": null,
   "metadata": {},
   "outputs": [],
   "source": [
    "plot_grid_res_layers(\n",
    "    city=\"porto\",\n",
    "    layers=[1, 2, 3, 4],\n",
    "    resolution=[0.2, 5, 0.2],\n",
    "    measure=\"dtw\",\n",
    "    reference=\"dtw\",\n",
    "    parallel_jobs=10,\n",
    ")\n",
    "\n",
    "plot_grid_res_layers(\n",
    "    city=\"porto\",\n",
    "    layers=[1, 2, 3, 4, 5, 6, 8, 10],\n",
    "    resolution=[0.2, 5, 0.2],\n",
    "    measure=\"dtw\",\n",
    "    reference=\"dtw\",\n",
    "    parallel_jobs=10,\n",
    ")\n",
    "\n",
    "plot_grid_res_layers(\n",
    "    city=\"porto\",\n",
    "    layers=[1, 2, 3, 4],\n",
    "    resolution=[0.2, 5, 0.2],\n",
    "    measure=\"dtw\",\n",
    "    reference=\"frechet\",\n",
    "    parallel_jobs=10,\n",
    ")\n",
    "\n",
    "plot_grid_res_layers(\n",
    "    city=\"porto\",\n",
    "    layers=[1, 2, 3, 4, 5, 6, 8, 10],\n",
    "    resolution=[0.2, 5, 0.2],\n",
    "    measure=\"dtw\",\n",
    "    reference=\"frechet\",\n",
    "    parallel_jobs=3,\n",
    ")"
   ]
  },
  {
   "cell_type": "markdown",
   "metadata": {},
   "source": [
    "## Grid Kolumbus\n"
   ]
  },
  {
   "cell_type": "code",
   "execution_count": null,
   "metadata": {},
   "outputs": [],
   "source": [
    "plot_grid_res_layers(\n",
    "    city=\"kolumbus\",\n",
    "    layers=[1, 2, 3, 4],\n",
    "    resolution=[0.2, 5, 0.4],\n",
    "    measure=\"dtw\",\n",
    "    reference=\"dtw\",\n",
    "    parallel_jobs=3,\n",
    ")\n",
    "\n",
    "plot_grid_res_layers(\n",
    "    city=\"kolumbus\",\n",
    "    layers=[1, 2, 3, 4],\n",
    "    resolution=[0.2, 5, 0.4],\n",
    "    measure=\"dtw\",\n",
    "    reference=\"frechet\",\n",
    "    parallel_jobs=3,\n",
    ")\n",
    "\n",
    "# plot_grid_res_layers(\n",
    "#     \"kolumbus\",\n",
    "#     [1, 2, 3, 4, 5, 6, 8, 10],\n",
    "#     [0.2, 5, 0.2],\n",
    "#     parallel_jobs=20,\n",
    "#     reference=\"dtw\",\n",
    "# )\n",
    "\n",
    "# plot_grid_res_layers(\n",
    "#     \"kolumbus\", [1, 2, 3, 4], [0.2, 5, 0.2], parallel_jobs=20, reference=\"frechet\"\n",
    "# )\n",
    "\n",
    "# plot_grid_res_layers(\n",
    "#     \"kolumbus\",\n",
    "#     [1, 2, 3, 4, 5, 6, 8, 10],\n",
    "#     [0.2, 5, 0.2],\n",
    "#     parallel_jobs=20,\n",
    "#     reference=\"frechet\",\n",
    "# )"
   ]
  },
  {
   "cell_type": "markdown",
   "metadata": {},
   "source": [
    "# Correlation variance\n"
   ]
  },
  {
   "cell_type": "code",
   "execution_count": null,
   "metadata": {},
   "outputs": [],
   "source": [
    "# compute_correlation_similarity(\"porto\", \"grid\", 5)"
   ]
  }
 ],
 "metadata": {
  "kernelspec": {
   "display_name": "Python 3",
   "language": "python",
   "name": "python3"
  },
  "language_info": {
   "codemirror_mode": {
    "name": "ipython",
    "version": 3
   },
   "file_extension": ".py",
   "mimetype": "text/x-python",
   "name": "python",
   "nbconvert_exporter": "python",
   "pygments_lexer": "ipython3",
   "version": "3.11.6+"
  }
 },
 "nbformat": 4,
 "nbformat_minor": 2
}
