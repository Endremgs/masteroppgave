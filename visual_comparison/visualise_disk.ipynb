{
 "cells": [
  {
   "cell_type": "markdown",
   "metadata": {},
   "source": [
    "# Notebook which visualises original trajectories and compares them to disk-hashed trajectories\n"
   ]
  },
  {
   "cell_type": "code",
   "execution_count": 1,
   "metadata": {},
   "outputs": [],
   "source": [
    "import folium\n",
    "import os\n",
    "import sys\n",
    "\n",
    "currentdir = os.path.dirname(os.path.abspath(\"__file__\"))\n",
    "parentdir = os.path.dirname(currentdir)\n",
    "sys.path.append(parentdir)\n",
    "\n",
    "from hashed_similarities.disk_similarity import (\n",
    "    generate_disk_hash_similarity_coordinates,\n",
    ")\n",
    "\n",
    "# Rome coordinates\n",
    "R_MAX_LON = 12.53\n",
    "R_MIN_LON = 12.44\n",
    "R_MAX_LAT = 41.93\n",
    "R_MIN_LAT = 41.88\n",
    "\n",
    "\n",
    "ROME_META_FILE = \"../dataset/rome/output/META-50.txt\""
   ]
  },
  {
   "cell_type": "code",
   "execution_count": 2,
   "metadata": {},
   "outputs": [
    {
     "data": {
      "text/plain": [
       "<folium.map.Marker at 0x284385910>"
      ]
     },
     "execution_count": 2,
     "metadata": {},
     "output_type": "execute_result"
    }
   ],
   "source": [
    "# Initialize a Folium map at a central point\n",
    "map = folium.Map(location=[41.9, 12.5], zoom_start=12)\n",
    "\n",
    "# Mark boundaries of Rome\n",
    "folium.Marker([R_MAX_LAT, R_MAX_LON]).add_to(map)\n",
    "folium.Marker([R_MIN_LAT, R_MIN_LON]).add_to(map)"
   ]
  },
  {
   "cell_type": "code",
   "execution_count": 3,
   "metadata": {},
   "outputs": [
    {
     "name": "stdout",
     "output_type": "stream",
     "text": [
      "Number of coordinates for <_io.TextIOWrapper name='../dataset/rome/output/R_ATG.txt' mode='r' encoding='UTF-8'>: 194\n",
      "Number of coordinates for <_io.TextIOWrapper name='../dataset/rome/output/R_AHN.txt' mode='r' encoding='UTF-8'>: 61\n",
      "Number of coordinates for <_io.TextIOWrapper name='../dataset/rome/output/R_ANQ.txt' mode='r' encoding='UTF-8'>: 89\n",
      "Number of coordinates for <_io.TextIOWrapper name='../dataset/rome/output/R_AGS.txt' mode='r' encoding='UTF-8'>: 132\n",
      "Number of coordinates for <_io.TextIOWrapper name='../dataset/rome/output/R_BDL.txt' mode='r' encoding='UTF-8'>: 86\n",
      "Number of coordinates for <_io.TextIOWrapper name='../dataset/rome/output/R_AXN.txt' mode='r' encoding='UTF-8'>: 50\n",
      "Number of coordinates for <_io.TextIOWrapper name='../dataset/rome/output/R_BHI.txt' mode='r' encoding='UTF-8'>: 257\n",
      "Number of coordinates for <_io.TextIOWrapper name='../dataset/rome/output/R_BHP.txt' mode='r' encoding='UTF-8'>: 46\n",
      "Number of coordinates for <_io.TextIOWrapper name='../dataset/rome/output/R_AZX.txt' mode='r' encoding='UTF-8'>: 100\n",
      "Number of coordinates for <_io.TextIOWrapper name='../dataset/rome/output/R_AMJ.txt' mode='r' encoding='UTF-8'>: 120\n",
      "Number of coordinates for <_io.TextIOWrapper name='../dataset/rome/output/R_AJI.txt' mode='r' encoding='UTF-8'>: 53\n",
      "Number of coordinates for <_io.TextIOWrapper name='../dataset/rome/output/R_AAA.txt' mode='r' encoding='UTF-8'>: 60\n",
      "Number of coordinates for <_io.TextIOWrapper name='../dataset/rome/output/R_BAN.txt' mode='r' encoding='UTF-8'>: 63\n",
      "Number of coordinates for <_io.TextIOWrapper name='../dataset/rome/output/R_AVR.txt' mode='r' encoding='UTF-8'>: 47\n",
      "Number of coordinates for <_io.TextIOWrapper name='../dataset/rome/output/R_BDR.txt' mode='r' encoding='UTF-8'>: 91\n",
      "Number of coordinates for <_io.TextIOWrapper name='../dataset/rome/output/R_AYM.txt' mode='r' encoding='UTF-8'>: 46\n",
      "Number of coordinates for <_io.TextIOWrapper name='../dataset/rome/output/R_BKQ.txt' mode='r' encoding='UTF-8'>: 178\n",
      "Number of coordinates for <_io.TextIOWrapper name='../dataset/rome/output/R_ANT.txt' mode='r' encoding='UTF-8'>: 101\n",
      "Number of coordinates for <_io.TextIOWrapper name='../dataset/rome/output/R_BKY.txt' mode='r' encoding='UTF-8'>: 62\n",
      "Number of coordinates for <_io.TextIOWrapper name='../dataset/rome/output/R_AKQ.txt' mode='r' encoding='UTF-8'>: 149\n",
      "Number of coordinates for <_io.TextIOWrapper name='../dataset/rome/output/R_AMZ.txt' mode='r' encoding='UTF-8'>: 110\n",
      "Number of coordinates for <_io.TextIOWrapper name='../dataset/rome/output/R_ALR.txt' mode='r' encoding='UTF-8'>: 60\n",
      "Number of coordinates for <_io.TextIOWrapper name='../dataset/rome/output/R_ADO.txt' mode='r' encoding='UTF-8'>: 114\n",
      "Number of coordinates for <_io.TextIOWrapper name='../dataset/rome/output/R_BFS.txt' mode='r' encoding='UTF-8'>: 51\n",
      "Number of coordinates for <_io.TextIOWrapper name='../dataset/rome/output/R_ABE.txt' mode='r' encoding='UTF-8'>: 126\n",
      "Number of coordinates for <_io.TextIOWrapper name='../dataset/rome/output/R_AUD.txt' mode='r' encoding='UTF-8'>: 45\n",
      "Number of coordinates for <_io.TextIOWrapper name='../dataset/rome/output/R_AVI.txt' mode='r' encoding='UTF-8'>: 113\n",
      "Number of coordinates for <_io.TextIOWrapper name='../dataset/rome/output/R_AUK.txt' mode='r' encoding='UTF-8'>: 123\n",
      "Number of coordinates for <_io.TextIOWrapper name='../dataset/rome/output/R_AQI.txt' mode='r' encoding='UTF-8'>: 79\n",
      "Number of coordinates for <_io.TextIOWrapper name='../dataset/rome/output/R_BLB.txt' mode='r' encoding='UTF-8'>: 146\n",
      "Number of coordinates for <_io.TextIOWrapper name='../dataset/rome/output/R_AIQ.txt' mode='r' encoding='UTF-8'>: 200\n",
      "Number of coordinates for <_io.TextIOWrapper name='../dataset/rome/output/R_AJY.txt' mode='r' encoding='UTF-8'>: 366\n",
      "Number of coordinates for <_io.TextIOWrapper name='../dataset/rome/output/R_AEI.txt' mode='r' encoding='UTF-8'>: 100\n",
      "Number of coordinates for <_io.TextIOWrapper name='../dataset/rome/output/R_ASN.txt' mode='r' encoding='UTF-8'>: 253\n",
      "Number of coordinates for <_io.TextIOWrapper name='../dataset/rome/output/R_AKF.txt' mode='r' encoding='UTF-8'>: 74\n",
      "Number of coordinates for <_io.TextIOWrapper name='../dataset/rome/output/R_BAH.txt' mode='r' encoding='UTF-8'>: 143\n",
      "Number of coordinates for <_io.TextIOWrapper name='../dataset/rome/output/R_BBU.txt' mode='r' encoding='UTF-8'>: 236\n",
      "Number of coordinates for <_io.TextIOWrapper name='../dataset/rome/output/R_AED.txt' mode='r' encoding='UTF-8'>: 186\n",
      "Number of coordinates for <_io.TextIOWrapper name='../dataset/rome/output/R_AUF.txt' mode='r' encoding='UTF-8'>: 55\n",
      "Number of coordinates for <_io.TextIOWrapper name='../dataset/rome/output/R_AGB.txt' mode='r' encoding='UTF-8'>: 128\n",
      "Number of coordinates for <_io.TextIOWrapper name='../dataset/rome/output/R_BHA.txt' mode='r' encoding='UTF-8'>: 188\n",
      "Number of coordinates for <_io.TextIOWrapper name='../dataset/rome/output/R_AVP.txt' mode='r' encoding='UTF-8'>: 46\n",
      "Number of coordinates for <_io.TextIOWrapper name='../dataset/rome/output/R_AQK.txt' mode='r' encoding='UTF-8'>: 50\n",
      "Number of coordinates for <_io.TextIOWrapper name='../dataset/rome/output/R_BBG.txt' mode='r' encoding='UTF-8'>: 419\n",
      "Number of coordinates for <_io.TextIOWrapper name='../dataset/rome/output/R_AKC.txt' mode='r' encoding='UTF-8'>: 217\n",
      "Number of coordinates for <_io.TextIOWrapper name='../dataset/rome/output/R_APY.txt' mode='r' encoding='UTF-8'>: 40\n",
      "Number of coordinates for <_io.TextIOWrapper name='../dataset/rome/output/R_APE.txt' mode='r' encoding='UTF-8'>: 303\n",
      "Number of coordinates for <_io.TextIOWrapper name='../dataset/rome/output/R_BAF.txt' mode='r' encoding='UTF-8'>: 68\n",
      "Number of coordinates for <_io.TextIOWrapper name='../dataset/rome/output/R_BIF.txt' mode='r' encoding='UTF-8'>: 104\n",
      "Number of coordinates for <_io.TextIOWrapper name='../dataset/rome/output/R_BLD.txt' mode='r' encoding='UTF-8'>: 149\n"
     ]
    }
   ],
   "source": [
    "def read_coordinates(file_path):\n",
    "    coordinates = []\n",
    "    with open(\"../dataset/rome/output/\" + file_path, \"r\") as file:\n",
    "        count = 0\n",
    "        for line in file:\n",
    "            count += 1\n",
    "            lat, lon = line.strip().split(\", \")\n",
    "            coordinates.append((float(lat), float(lon)))\n",
    "        print(f\"Number of coordinates for {file}: {str(count)}\")\n",
    "    return coordinates\n",
    "\n",
    "\n",
    "# Read the index file to get the list of files containing coordinates\n",
    "with open(ROME_META_FILE, \"r\") as index_file:\n",
    "    for file_name in index_file:\n",
    "        file_name = file_name.strip()  # Remove newline characters\n",
    "\n",
    "        coordinates = read_coordinates(file_name)\n",
    "        # Plot each coordinate on the map\n",
    "        for lat, lon in coordinates:\n",
    "            folium.CircleMarker(\n",
    "                [lat, lon], radius=1, color=\"red\", fill=False, fill_color=\"red\"\n",
    "            ).add_to(map)\n",
    "        folium.PolyLine(coordinates, color=\"red\",\n",
    "                        weight=1, opacity=1).add_to(map)\n",
    "\n",
    "\n",
    "# Save the map with coordinates to an HTML file\n",
    "\n",
    "# output_file_path = os.path.join(\"output/\", \"rome_map.html\")\n",
    "\n",
    "# map.save(output_file_path)"
   ]
  },
  {
   "cell_type": "code",
   "execution_count": 4,
   "metadata": {},
   "outputs": [
    {
     "name": "stdout",
     "output_type": "stream",
     "text": [
      "Number of layers 2\n",
      "Number of disks in layer 0: 50\n",
      "Number of disks in layer 1: 50\n"
     ]
    }
   ],
   "source": [
    "measure = \"dtw\"\n",
    "hashed_coordinates, all_disks = generate_disk_hash_similarity_coordinates(\n",
    "    city=\"rome\", diameter=1.0, layers=2, disks=50, measure=measure, size=50\n",
    ")\n",
    "\n",
    "print(\"Number of layers\", len(all_disks))\n",
    "for layer in all_disks:\n",
    "    print(f\"Number of disks in layer {layer}: {len(all_disks[layer])}\")\n",
    "    for disk in all_disks[layer]:\n",
    "        lat, lon = disk\n",
    "        # print(f\"Disk \\t{disk}\")\n",
    "        folium.CircleMarker(\n",
    "            [lat, lon], radius=3, color=\"black\", fill=True, fill_color=\"black\"\n",
    "        ).add_to(map)\n",
    "\n",
    "for key, disks in hashed_coordinates.items():\n",
    "    layerCount = 0\n",
    "    # print(\"Number of disks intersected for \", key, \": \", len(disks))\n",
    "    for disk in disks:\n",
    "        lat, lon = disk\n",
    "        folium.CircleMarker(\n",
    "            [lat, lon], radius=5, color=\"orange\", fill=True, fill_color=\"orange\"\n",
    "        ).add_to(map)\n",
    "    # folium.PolyLine(disks, color=\"blue\",\n",
    "    #                 weight=4, opacity=1).add_to(map)\n",
    "\n",
    "output_file_path = os.path.join(\"output/\", \"rome_hashed_and_original.html\")\n",
    "\n",
    "map.save(output_file_path)"
   ]
  }
 ],
 "metadata": {
  "kernelspec": {
   "display_name": "Python 3",
   "language": "python",
   "name": "python3"
  },
  "language_info": {
   "codemirror_mode": {
    "name": "ipython",
    "version": 3
   },
   "file_extension": ".py",
   "mimetype": "text/x-python",
   "name": "python",
   "nbconvert_exporter": "python",
   "pygments_lexer": "ipython3",
   "version": "3.11.7"
  }
 },
 "nbformat": 4,
 "nbformat_minor": 2
}
