{
 "cells": [
  {
   "cell_type": "markdown",
   "metadata": {},
   "source": [
    "# Notebook which visualises original trajectories and compares them to disk-hashed trajectories\n"
   ]
  },
  {
   "cell_type": "code",
   "execution_count": 9,
   "metadata": {},
   "outputs": [],
   "source": [
    "import folium\n",
    "import os\n",
    "import sys\n",
    "currentdir = os.path.dirname(os.path.abspath(\"__file__\"))\n",
    "parentdir = os.path.dirname(currentdir)\n",
    "sys.path.append(parentdir)\n",
    "\n",
    "from hashed_similarities.disk_similarity import (\n",
    "    generate_disk_hash_similarity_coordinates,\n",
    ")\n",
    "# Rome coordinates\n",
    "R_MAX_LON = 12.53\n",
    "R_MIN_LON = 12.44\n",
    "R_MAX_LAT = 41.93\n",
    "R_MIN_LAT = 41.88\n",
    "\n",
    "\n",
    "ROME_META_FILE = \"../dataset/rome/output/META-50.txt\""
   ]
  },
  {
   "cell_type": "code",
   "execution_count": 10,
   "metadata": {},
   "outputs": [
    {
     "data": {
      "text/plain": [
       "<folium.map.Marker at 0x286509210>"
      ]
     },
     "execution_count": 10,
     "metadata": {},
     "output_type": "execute_result"
    }
   ],
   "source": [
    "# Initialize a Folium map at a central point\n",
    "map = folium.Map(location=[41.9, 12.5], zoom_start=12)\n",
    "\n",
    "folium.Marker([R_MAX_LAT, R_MAX_LON]).add_to(map)\n",
    "folium.Marker([R_MIN_LAT, R_MIN_LON]).add_to(map)"
   ]
  },
  {
   "cell_type": "code",
   "execution_count": 11,
   "metadata": {},
   "outputs": [
    {
     "name": "stdout",
     "output_type": "stream",
     "text": [
      "Number of coordinates for <_io.TextIOWrapper name='../dataset/rome/output/R_ATG.txt' mode='r' encoding='UTF-8'>: 194\n"
     ]
    }
   ],
   "source": [
    "def read_coordinates(file_path):\n",
    "    coordinates = []\n",
    "    with open(\"../dataset/rome/output/\" + file_path, \"r\") as file:\n",
    "        count = 0\n",
    "        for line in file:\n",
    "            count += 1\n",
    "            lat, lon = line.strip().split(\", \")\n",
    "            coordinates.append((float(lat), float(lon)))\n",
    "        print(f\"Number of coordinates for {file}: {str(count)}\")\n",
    "    return coordinates\n",
    "\n",
    "\n",
    "# Read the index file to get the list of files containing coordinates\n",
    "with open(ROME_META_FILE, \"r\") as index_file:\n",
    "    for file_name in index_file:\n",
    "        file_name = file_name.strip()  # Remove newline characters\n",
    "\n",
    "        coordinates = read_coordinates(file_name)\n",
    "        # Plot each coordinate on the map\n",
    "        for lat, lon in coordinates:\n",
    "            folium.CircleMarker(\n",
    "                [lat, lon], radius=5, color=\"red\", fill=True, fill_color=\"red\"\n",
    "            ).add_to(map)\n",
    "        folium.PolyLine(coordinates, color=\"red\",\n",
    "                        weight=4, opacity=1).add_to(map)\n",
    "\n",
    "\n",
    "# Save the map to an HTML file\n",
    "\n",
    "output_file_path = os.path.join(\"output/\", \"rome_map.html\")\n",
    "\n",
    "map.save(output_file_path)"
   ]
  },
  {
   "cell_type": "code",
   "execution_count": 12,
   "metadata": {},
   "outputs": [
    {
     "name": "stdout",
     "output_type": "stream",
     "text": [
      "Number of layers 1\n",
      "Number of disks in layer 0: 50\n",
      "Number of disks intersected for  R_ATG :  11\n"
     ]
    }
   ],
   "source": [
    "measure = \"dtw\"\n",
    "disk_coordinates, disks = generate_disk_hash_similarity_coordinates(\n",
    "    city=\"rome\", diameter=2.2, layers=1, disks=50, measure=measure, size=50\n",
    ")\n",
    "\n",
    "print(\"Number of layers\", len(disks))\n",
    "for layer in disks:\n",
    "    print(f\"Number of disks in layer {layer}: {len(disks[layer])}\")\n",
    "    for disk in disks[layer]:\n",
    "        lat, lon = disk\n",
    "        # print(f\"Disk \\t{disk}\")\n",
    "        folium.CircleMarker(\n",
    "            [lat, lon], radius=3, color=\"green\", fill=True, fill_color=\"green\"\n",
    "        ).add_to(map)\n",
    "\n",
    "keyCount = 0\n",
    "for key, disks in disk_coordinates.items():\n",
    "    layerCount = 0\n",
    "    print(\"Number of disks intersected for \", key, \": \", len(disks))\n",
    "    for disk in disks:\n",
    "        lat, lon = disk\n",
    "        folium.CircleMarker(\n",
    "            [lat, lon], radius=5, color=\"blue\", fill=True, fill_color=\"blue\"\n",
    "        ).add_to(map)\n",
    "    # folium.PolyLine(disks, color=\"blue\",\n",
    "    #                 weight=4, opacity=1).add_to(map)\n",
    "\n",
    "output_file_path = os.path.join(\"output/\", \"rome_hashed_and_original.html\")\n",
    "\n",
    "map.save(output_file_path)"
   ]
  }
 ],
 "metadata": {
  "kernelspec": {
   "display_name": "Python 3",
   "language": "python",
   "name": "python3"
  },
  "language_info": {
   "codemirror_mode": {
    "name": "ipython",
    "version": 3
   },
   "file_extension": ".py",
   "mimetype": "text/x-python",
   "name": "python",
   "nbconvert_exporter": "python",
   "pygments_lexer": "ipython3",
   "version": "3.11.7"
  }
 },
 "nbformat": 4,
 "nbformat_minor": 2
}
