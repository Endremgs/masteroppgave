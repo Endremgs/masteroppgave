{
 "cells": [
  {
   "attachments": {},
   "cell_type": "markdown",
   "metadata": {},
   "source": [
    "# Sheet for extracting raw-data from Porto dataset"
   ]
  },
  {
   "cell_type": "code",
   "execution_count": 1,
   "metadata": {},
   "outputs": [],
   "source": [
    "# Importing necessary modules\n",
    "\n",
    "import pandas as pd\n",
    "import os, shutil\n",
    "from haversine import haversine, Unit\n",
    "# Helper function to compute distance between a list of coordinates (Trajectory distance)\n",
    "# Haversine distance used\n",
    "\n",
    "def calculate_trajectory_distance(positions: list[tuple[float]]) -> float:\n",
    "    \"\"\"\n",
    "    Calculate the trajectory distance for a trajectory\n",
    "\n",
    "    :param: List of coordinates (lat, lon)\n",
    "    \n",
    "    :return: Float (km) -> Combined distance between all pairs of points in km\n",
    "    \"\"\"\n",
    "    distance = 0\n",
    "    for i in range(1, len(positions)):\n",
    "        from_location = positions[i-1]\n",
    "        to_location = positions[i]\n",
    "\n",
    "        distance += haversine(from_location, to_location, unit=Unit.KILOMETERS)\n",
    "    return distance\n",
    "\n"
   ]
  },
  {
   "cell_type": "code",
   "execution_count": 2,
   "metadata": {},
   "outputs": [],
   "source": [
    "# Containning variables and constants for this spreadsheet\n",
    "SHOULD_DELETE_OLD_FILES= False\n",
    "\n",
    "OUTPUT_FOLDER = \"../dataset/porto\"\n",
    "RAW_DATA_FILE = \"../dataset/porto/porto_raw.csv\"\n",
    "CLEAN_DATA_FILE = \"../dataset/porto/porto.csv\"\n",
    "\n",
    "LOG = False # Set to true for printing during data extraction\n",
    "\n",
    "MAX_LON = -8.57\n",
    "MIN_LON = -8.66\n",
    "MAX_LAT = 41.19\n",
    "MIN_LAT = 41.14\n",
    "MIN_LEN = 40\n",
    "\n",
    "NUMBER_OF_TRACES = 1000\n",
    "MAX_DIST_BETWEEN_COORDINATES = 0.2 # Km\n",
    "\n",
    "X = calculate_trajectory_distance([ ( MIN_LAT, MIN_LON ) , ( MAX_LAT, MIN_LON ) ])\n",
    "Y = calculate_trajectory_distance([ ( MIN_LAT, MIN_LON ) , ( MIN_LAT, MAX_LON ) ])\n"
   ]
  },
  {
   "cell_type": "code",
   "execution_count": 3,
   "metadata": {},
   "outputs": [],
   "source": [
    "# Reading the dataset into dataframe\n",
    "\n",
    "raw_df = pd.read_csv(RAW_DATA_FILE)"
   ]
  },
  {
   "cell_type": "code",
   "execution_count": 4,
   "metadata": {},
   "outputs": [
    {
     "ename": "FileNotFoundError",
     "evalue": "[Errno 2] No such file or directory: '../dataset/porto/output/'",
     "output_type": "error",
     "traceback": [
      "\u001b[0;31m---------------------------------------------------------------------------\u001b[0m",
      "\u001b[0;31mFileNotFoundError\u001b[0m                         Traceback (most recent call last)",
      "Cell \u001b[0;32mIn[4], line 4\u001b[0m\n\u001b[1;32m      1\u001b[0m \u001b[38;5;66;03m# Run this cell to clear the chosen files in the PORTO folder\u001b[39;00m\n\u001b[1;32m      3\u001b[0m \u001b[38;5;28;01mif\u001b[39;00m SHOULD_DELETE_OLD_FILES:\n\u001b[0;32m----> 4\u001b[0m     \u001b[38;5;28;01mfor\u001b[39;00m filename \u001b[38;5;129;01min\u001b[39;00m \u001b[43mos\u001b[49m\u001b[38;5;241;43m.\u001b[39;49m\u001b[43mlistdir\u001b[49m\u001b[43m(\u001b[49m\u001b[43mOUTPUT_FOLDER\u001b[49m\u001b[43m)\u001b[49m:\n\u001b[1;32m      5\u001b[0m         file_path \u001b[38;5;241m=\u001b[39m os\u001b[38;5;241m.\u001b[39mpath\u001b[38;5;241m.\u001b[39mjoin(OUTPUT_FOLDER, filename)\n\u001b[1;32m      6\u001b[0m         \u001b[38;5;28;01mtry\u001b[39;00m:\n",
      "\u001b[0;31mFileNotFoundError\u001b[0m: [Errno 2] No such file or directory: '../dataset/porto/output/'"
     ]
    }
   ],
   "source": [
    "# Run this cell to clear the chosen files in the PORTO folder\n",
    "\n",
    "if SHOULD_DELETE_OLD_FILES:\n",
    "    for filename in os.listdir(OUTPUT_FOLDER):\n",
    "        file_path = os.path.join(OUTPUT_FOLDER, filename)\n",
    "        try:\n",
    "            if os.path.isfile(file_path) or os.path.islink(file_path):\n",
    "                os.unlink(file_path)\n",
    "            elif os.path.isdir(file_path):\n",
    "                shutil.rmtree(file_path)\n",
    "        except Exception as e:\n",
    "            print(\"Failed to remove %s. Reason: %s\" % (file_path, e))"
   ]
  },
  {
   "cell_type": "code",
   "execution_count": null,
   "metadata": {},
   "outputs": [
    {
     "name": "stdout",
     "output_type": "stream",
     "text": [
      "Number of cleaned trajectories written to file: 1000\n"
     ]
    }
   ],
   "source": [
    "#Read the data, clean it and insert to cleaned csv file\n",
    "\n",
    "cleaned_trajectories = []\n",
    "counter = 0\n",
    "for index, row in raw_df.iterrows():\n",
    "    trace_id = row[\"TRIP_ID\"] \n",
    "\n",
    "    # If row is missing data: ignore row\n",
    "    if row[\"MISSING_DATA\"] == True: \n",
    "        if LOG: print(trace_id, \"is missing data\") \n",
    "        continue\n",
    "\n",
    "    trace = row[\"POLYLINE\"][2:-2].split(\"],[\")\n",
    "\n",
    "    # If trace-length less than \"MIN_LEN\": ignore row\n",
    "    if len(trace) < MIN_LEN: \n",
    "        if LOG:  print(trace_id, \"is less than preferred length\")\n",
    "        continue\n",
    "\n",
    "\n",
    "    # If trace are outside bounded rectangle or noisy data: ignore row\n",
    "    \n",
    "    last_coordinate = trace[0]\n",
    "    for coordinate in trace:\n",
    "\n",
    "        lon, lat = list(map(float, coordinate.split(\",\")))\n",
    "\n",
    "        # Outside bounded rectangle\n",
    "        if ( not ( MIN_LAT <= lat <= MAX_LAT )) or ( not ( MIN_LON <= lon <= MAX_LON )):\n",
    "            if LOG: print(trace_id, \"is outside bounded rectangle\")\n",
    "            break\n",
    "\n",
    "        # Traces with noisy data:\n",
    "        if last_coordinate != coordinate:\n",
    "            last_lon, last_lat = list(map(float, last_coordinate.split(\",\")))\n",
    "            distance = calculate_trajectory_distance([(last_lat, last_lon), (lat, lon)])\n",
    "            \n",
    "            # If distance between two consecutive coordinates are too great:\n",
    "            if distance > MAX_DIST_BETWEEN_COORDINATES:\n",
    "                if LOG: print(\"Possibly noisy data - continuing with next trace\")\n",
    "                break \n",
    "            \n",
    "\n",
    "\n",
    "        last_coordinate = coordinate\n",
    "        # IMPLEMENT HERE, use distance function \n",
    "\n",
    "    # Else, everything is good so far --> Write trajectory to file\n",
    "    else:\n",
    "        cleaned_trajectories.append(row)\n",
    "        counter += 1\n",
    "        if counter >= NUMBER_OF_TRACES: \n",
    "            break\n",
    "\n",
    "cleaned_df_columns = [\"TRIP_ID\",\"CALL_TYPE\",\"ORIGIN_CALL\",\"ORIGIN_STAND\",\"TAXI_ID\",\"TIMESTAMP\",\"DAY_TYPE\",\"MISSING_DATA\",\"POLYLINE\"]\n",
    "cleaned_df = pd.DataFrame(cleaned_trajectories, columns=cleaned_df_columns)\n",
    "cleaned_df.to_csv(CLEAN_DATA_FILE, index=False)\n",
    "\n",
    "\n",
    "print(\"Number of cleaned trajectories written to file:\", counter)"
   ]
  }
 ],
 "metadata": {
  "kernelspec": {
   "display_name": "Python 3 (ipykernel)",
   "language": "python",
   "name": "python3"
  },
  "language_info": {
   "codemirror_mode": {
    "name": "ipython",
    "version": 3
   },
   "file_extension": ".py",
   "mimetype": "text/x-python",
   "name": "python",
   "nbconvert_exporter": "python",
   "pygments_lexer": "ipython3",
   "version": "3.11.6+"
  },
  "vscode": {
   "interpreter": {
    "hash": "6a8cebea5680a70624bfb085291ac11ac025ad85fe214511868677846ba38b53"
   }
  }
 },
 "nbformat": 4,
 "nbformat_minor": 4
}
