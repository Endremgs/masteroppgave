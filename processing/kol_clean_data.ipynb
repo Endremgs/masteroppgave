{
 "cells": [
  {
   "cell_type": "code",
   "execution_count": 1,
   "metadata": {},
   "outputs": [],
   "source": [
    "import pandas as pd\n",
    "import os, sys\n",
    "import shutil\n",
    "\n",
    "currentdir = os.path.dirname(os.path.abspath(\"__file__\"))\n",
    "parentdir = os.path.dirname(currentdir)\n",
    "sys.path.append(parentdir)\n",
    "\n",
    "import pandas as pd\n",
    "from utils.helpers.alphabetical_number import increment_alphabetical\n",
    "from utils.helpers.save_trajectory import save_current_trajectory\n",
    "from utils.helpers.metafile_handler import create_meta_files\n",
    "\n",
    "# Declaring variables and constants for this sheet\n",
    "\n",
    "SHOULD_DELETE_OLD_FILES = True\n",
    "LOG = False  # Set to true for printing/debug during data extraction\n",
    "\n",
    "OUTPUT_FOLDER = \"../dataset/kolumbus/output\"\n",
    "RAW_DATA_FILE = \"../dataset/kolumbus/2023-09-04.csv\"\n",
    "\n",
    "NUMBER_OF_TRACES = 1000\n",
    "MAX_TIME_DIFF_SECONDS = (\n",
    "    32  # Maximum time difference between two consecutive trackpoints in a trajectory\n",
    ")"
   ]
  },
  {
   "cell_type": "code",
   "execution_count": 2,
   "metadata": {},
   "outputs": [
    {
     "name": "stdout",
     "output_type": "stream",
     "text": [
      "                                 serviceJourney        recordedAtTime  \\\n",
      "0  KOL:ServiceJourney:1000_230509093645391_1000  2023-09-04T03:19:30Z   \n",
      "1  KOL:ServiceJourney:1000_230509093645391_1000  2023-09-04T03:19:32Z   \n",
      "2  KOL:ServiceJourney:1000_230509093645391_1000  2023-09-04T03:19:34Z   \n",
      "3  KOL:ServiceJourney:1000_230509093645391_1000  2023-09-04T03:19:36Z   \n",
      "4  KOL:ServiceJourney:1000_230509093645391_1000  2023-09-04T03:19:38Z   \n",
      "5  KOL:ServiceJourney:1000_230509093645391_1000  2023-09-04T03:19:40Z   \n",
      "6  KOL:ServiceJourney:1000_230509093645391_1000  2023-09-04T03:19:42Z   \n",
      "7  KOL:ServiceJourney:1000_230509093645391_1000  2023-09-04T03:19:44Z   \n",
      "8  KOL:ServiceJourney:1000_230509093645391_1000  2023-09-04T03:19:46Z   \n",
      "9  KOL:ServiceJourney:1000_230509093645391_1000  2023-09-04T03:19:48Z   \n",
      "\n",
      "   longitude   latitude  \n",
      "0   5.733078  59.003486  \n",
      "1   5.732808  59.003419  \n",
      "2   5.732552  59.003352  \n",
      "3   5.732305  59.003284  \n",
      "4   5.732059  59.003217  \n",
      "5   5.731810  59.003149  \n",
      "6   5.731591  59.003091  \n",
      "7   5.731410  59.003065  \n",
      "8   5.731244  59.003062  \n",
      "9   5.731107  59.003107  \n"
     ]
    }
   ],
   "source": [
    "# Reading the dataset into a dataframe\n",
    "\n",
    "raw_df = pd.read_csv(\n",
    "    RAW_DATA_FILE, usecols=[\"serviceJourney\",\n",
    "                            \"recordedAtTime\", \"longitude\", \"latitude\"]\n",
    ")\n",
    "# Filtering the data\n",
    "filtered_df = raw_df[\n",
    "    (raw_df[\"latitude\"] >= 58.71)\n",
    "    & (raw_df[\"latitude\"] <= 59.02)\n",
    "    & (raw_df[\"longitude\"] >= 5.53)\n",
    "    & (raw_df[\"longitude\"] <= 5.85)\n",
    "]\n",
    "# Deleting raw_df for performance reasons\n",
    "del raw_df\n",
    "print(filtered_df.head(10))"
   ]
  },
  {
   "cell_type": "code",
   "execution_count": 3,
   "metadata": {},
   "outputs": [],
   "source": [
    "# Run this cell to clear the chosen files in the PORTO folder\n",
    "\n",
    "if SHOULD_DELETE_OLD_FILES:\n",
    "    for filename in os.listdir(OUTPUT_FOLDER):\n",
    "        if filename.startswith(\"META\"):\n",
    "            continue\n",
    "        file_path = os.path.join(OUTPUT_FOLDER, filename)\n",
    "        try:\n",
    "            if os.path.isfile(file_path) or os.path.islink(file_path):\n",
    "                os.unlink(file_path)\n",
    "            elif os.path.isdir(file_path):\n",
    "                shutil.rmtree(file_path)\n",
    "        except Exception as e:\n",
    "            print(\"Failed to remove %s. Reason: %s\" % (file_path, e))"
   ]
  },
  {
   "cell_type": "code",
   "execution_count": 4,
   "metadata": {},
   "outputs": [],
   "source": [
    "# Cell to extract traces that are of a minimum length of N locations and within a given distance window\n",
    "counter = 0\n",
    "name_counter = \"AAA\"\n",
    "\n",
    "last_driver_id = None\n",
    "last_timestamp = None\n",
    "\n",
    "trajectory = []\n",
    "\n",
    "for index, row in filtered_df.iterrows():\n",
    "    current_driver_id = row[\"serviceJourney\"]\n",
    "    current_timestamp = pd.to_datetime(row[\"recordedAtTime\"])\n",
    "\n",
    "    lat = row[\"latitude\"]\n",
    "    lon = row[\"longitude\"]\n",
    "    current_location = [lat, lon]\n",
    "\n",
    "    # On first run or change in driver_id:\n",
    "    if (not last_timestamp) or (last_driver_id != current_driver_id):\n",
    "        last_timestamp = current_timestamp\n",
    "        last_driver_id = current_driver_id\n",
    "        # Check if trajectory is empty\n",
    "        if len(trajectory) > 0:\n",
    "            save_current_trajectory(\n",
    "                OUTPUT_FOLDER=OUTPUT_FOLDER,\n",
    "                file_name=name_counter,\n",
    "                trajectory=trajectory,\n",
    "                trajectory_file_prefix=\"K\",\n",
    "            )\n",
    "            counter += 1\n",
    "            name_counter = increment_alphabetical(name_counter)\n",
    "        trajectory.clear()\n",
    "        continue\n",
    "\n",
    "\n",
    "    trajectory.append((float(lat), float(lon)))\n",
    "\n",
    "    if counter >= NUMBER_OF_TRACES:\n",
    "        break"
   ]
  },
  {
   "cell_type": "code",
   "execution_count": 6,
   "metadata": {},
   "outputs": [],
   "source": [
    "# create_meta_files(path_to_files=OUTPUT_FOLDER, data_prefix=\"K_\", create_test_set=True)"
   ]
  }
 ],
 "metadata": {
  "kernelspec": {
   "display_name": "Python 3",
   "language": "python",
   "name": "python3"
  },
  "language_info": {
   "codemirror_mode": {
    "name": "ipython",
    "version": 3
   },
   "file_extension": ".py",
   "mimetype": "text/x-python",
   "name": "python",
   "nbconvert_exporter": "python",
   "pygments_lexer": "ipython3",
   "version": "3.11.6"
  }
 },
 "nbformat": 4,
 "nbformat_minor": 2
}
