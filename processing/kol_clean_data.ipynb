{
 "cells": [
  {
   "cell_type": "code",
   "execution_count": 1,
   "metadata": {},
   "outputs": [],
   "source": [
    "import pandas as pd\n",
    "import os, sys\n",
    "import shutil\n",
    "\n",
    "currentdir = os.path.dirname(os.path.abspath(\"__file__\"))\n",
    "parentdir = os.path.dirname(currentdir)\n",
    "sys.path.append(parentdir)\n",
    "\n",
    "import pandas as pd\n",
    "from utils.helpers.alphabetical_number import increment_alphabetical\n",
    "from utils.helpers.save_trajectory import save_current_trajectory\n",
    "from utils.helpers.metafile_handler import create_meta_files\n",
    "from utils.helpers.file_handler import delete_old_files\n",
    "\n",
    "from constants import K_MAX_LON, K_MAX_LAT, K_MIN_LAT, K_MIN_LON, KOLUMBUS_OUTPUT_FOLDER \n",
    "\n",
    "# Declaring variables and constants for this sheet\n",
    "\n",
    "SHOULD_DELETE_OLD_FILES = True\n",
    "LOG = False  # Set to true for printing/debug during data extraction\n",
    "\n",
    "OUTPUT_FOLDER = f\"../{KOLUMBUS_OUTPUT_FOLDER}\"\n",
    "RAW_DATA_FILE = \"../dataset/kolumbus/2023-09-04.csv\"\n",
    "\n",
    "NUMBER_OF_TRACES = 3000\n",
    "MAX_TIME_DIFF_SECONDS = (\n",
    "    32  # Maximum time difference between two consecutive trackpoints in a trajectory\n",
    ")"
   ]
  },
  {
   "cell_type": "code",
   "execution_count": 2,
   "metadata": {},
   "outputs": [
    {
     "name": "stdout",
     "output_type": "stream",
     "text": [
      "Total unique trips before boundaries:  5194\n",
      "Total unique trips after boundaries:  4022\n"
     ]
    }
   ],
   "source": [
    "# Reading the dataset into a dataframe\n",
    "\n",
    "raw_df = pd.read_csv(\n",
    "    RAW_DATA_FILE, usecols=[\"serviceJourney\",\n",
    "                            \"recordedAtTime\", \"longitude\", \"latitude\"]\n",
    ")\n",
    "\n",
    "print(\"Total unique trips before boundaries: \", raw_df[\"serviceJourney\"].nunique())\n",
    "\n",
    "filtered_df = raw_df[\n",
    "    (raw_df[\"latitude\"] >= K_MIN_LAT)\n",
    "    & (raw_df[\"latitude\"] <= K_MAX_LAT)\n",
    "    & (raw_df[\"longitude\"] >= K_MIN_LON)\n",
    "    & (raw_df[\"longitude\"] <= K_MAX_LON)\n",
    "]\n",
    "# Deleting raw_df for performance reasons\n",
    "del raw_df\n",
    "print(\"Total unique trips after boundaries: \", filtered_df[\"serviceJourney\"].nunique())"
   ]
  },
  {
   "cell_type": "code",
   "execution_count": 3,
   "metadata": {},
   "outputs": [],
   "source": [
    "# Run this cell to clear the chosen files in the PORTO folder\n",
    "\n",
    "if SHOULD_DELETE_OLD_FILES:\n",
    "    delete_old_files(OUTPUT_FOLDER, \"META\")"
   ]
  },
  {
   "cell_type": "code",
   "execution_count": 4,
   "metadata": {},
   "outputs": [
    {
     "name": "stdout",
     "output_type": "stream",
     "text": [
      "Skipped trajectories: 11\n"
     ]
    }
   ],
   "source": [
    "# Cell to extract traces that are of a minimum length of N locations and within a given distance window\n",
    "counter = 0\n",
    "name_counter = \"AAA\"\n",
    "\n",
    "last_driver_id = None\n",
    "last_timestamp = None\n",
    "\n",
    "trajectory = []\n",
    "skipped_trajs = 0\n",
    "for index, row in filtered_df.iterrows():\n",
    "    current_driver_id = row[\"serviceJourney\"]\n",
    "    current_timestamp = pd.to_datetime(row[\"recordedAtTime\"])\n",
    "\n",
    "    lat = row[\"latitude\"]\n",
    "    lon = row[\"longitude\"]\n",
    "    current_location = [lat, lon]\n",
    "\n",
    "    # On first run or change in driver_id:\n",
    "    if (not last_timestamp) or (last_driver_id != current_driver_id):\n",
    "        last_timestamp = current_timestamp\n",
    "        last_driver_id = current_driver_id\n",
    "        # Check if trajectory is empty\n",
    "        if len(trajectory) >= 100:\n",
    "            save_current_trajectory(\n",
    "                OUTPUT_FOLDER=OUTPUT_FOLDER,\n",
    "                file_name=name_counter,\n",
    "                trajectory=trajectory,\n",
    "                trajectory_file_prefix=\"K\",\n",
    "            )\n",
    "            counter += 1\n",
    "            name_counter = increment_alphabetical(name_counter)\n",
    "        else:\n",
    "            skipped_trajs += 1\n",
    "        trajectory.clear()\n",
    "        continue\n",
    "\n",
    "\n",
    "    trajectory.append((float(lat), float(lon)))\n",
    "\n",
    "    if counter >= NUMBER_OF_TRACES:\n",
    "        break\n",
    "\n",
    "print(f\"Skipped trajectories: {skipped_trajs}\")"
   ]
  },
  {
   "cell_type": "code",
   "execution_count": 6,
   "metadata": {},
   "outputs": [],
   "source": [
    "create_meta_files(path_to_files=OUTPUT_FOLDER, data_prefix=\"K_\", number=50, create_test_set=True)"
   ]
  }
 ],
 "metadata": {
  "kernelspec": {
   "display_name": "Python 3",
   "language": "python",
   "name": "python3"
  },
  "language_info": {
   "codemirror_mode": {
    "name": "ipython",
    "version": 3
   },
   "file_extension": ".py",
   "mimetype": "text/x-python",
   "name": "python",
   "nbconvert_exporter": "python",
   "pygments_lexer": "ipython3",
   "version": "3.11.7"
  }
 },
 "nbformat": 4,
 "nbformat_minor": 2
}
