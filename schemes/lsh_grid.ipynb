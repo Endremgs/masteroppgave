{
 "cells": [
  {
   "cell_type": "code",
   "execution_count": 1,
   "metadata": {},
   "outputs": [],
   "source": [
    "# Importing nescessary modules\n",
    "import os, sys\n",
    "import shutil\n",
    "from multiprocessing import Pool\n",
    "\n",
    "currentdir = os.path.dirname(os.path.abspath(\"__file__\"))\n",
    "parentdir = os.path.dirname(currentdir)\n",
    "sys.path.append(parentdir)\n",
    "\n",
    "from helpers.lsh_grid import GridLSH\n",
    "from utils.helpers import metafile_handler as mfh\n",
    "from schemes.experiments import hashing"
   ]
  },
  {
   "cell_type": "code",
   "execution_count": 2,
   "metadata": {},
   "outputs": [],
   "source": [
    "from constants import P_MAX_LON, P_MIN_LON,P_MAX_LAT,P_MIN_LAT,R_MAX_LON,R_MIN_LON,R_MAX_LAT,R_MIN_LAT,K_MAX_LON,K_MIN_LON,K_MAX_LAT,K_MIN_LAT, PORTO_OUTPUT_FOLDER, ROME_OUTPUT_FOLDER, KOLUMBUS_OUTPUT_FOLDER\n",
    "# Declaring global variables:\n",
    "\n",
    "SHOULD_DELETE_OLD_FILES = True\n",
    "\n",
    "OUTPUT_FOLDER_PORTO = \"../hashed_data/grid/porto/\"\n",
    "OUTPUT_FOLDER_ROME = \"../hashed_data/grid/rome/\"\n",
    "OUTPUT_FOLDER_KOLUMBUS = \"../hashed_data/grid/kolumbus/\"\n",
    "\n",
    "PORTO_DATA = f\"../{PORTO_OUTPUT_FOLDER}/\"\n",
    "ROME_DATA = f\"../{ROME_OUTPUT_FOLDER}/\"\n",
    "KOLUMBUS_DATA = f\"../{KOLUMBUS_OUTPUT_FOLDER}/\""
   ]
  },
  {
   "cell_type": "markdown",
   "metadata": {},
   "source": [
    "# Rome LSH Grid\n"
   ]
  },
  {
   "cell_type": "code",
   "execution_count": 3,
   "metadata": {},
   "outputs": [],
   "source": [
    "# Run this cell to clear the chosen files in the ROME folder\n",
    "\n",
    "if SHOULD_DELETE_OLD_FILES:\n",
    "    for filename in os.listdir(OUTPUT_FOLDER_ROME):\n",
    "        if filename.startswith(\".gitkeep\"):\n",
    "            continue\n",
    "        file_path = os.path.join(OUTPUT_FOLDER_ROME, filename)\n",
    "        try:\n",
    "            if os.path.isfile(file_path) or os.path.islink(file_path):\n",
    "                os.unlink(file_path)\n",
    "            elif os.path.isdir(file_path):\n",
    "                shutil.rmtree(file_path)\n",
    "        except Exception as e:\n",
    "            print(\"Failed to remove %s. Reason: %s\" % (file_path, e))"
   ]
  },
  {
   "cell_type": "code",
   "execution_count": 4,
   "metadata": {},
   "outputs": [],
   "source": [
    "# Create Grid hash object for Rome and saves them to output folder. Also copies the metafiles denoting the different datasets\n",
    "\n",
    "resolution = 1.2  # km\n",
    "layers = 5\n",
    "meta_file = f\"../{ROME_OUTPUT_FOLDER}/META-100.txt\"\n",
    "\n",
    "GridRome = GridLSH(\n",
    "    \"Rome G1\",\n",
    "    R_MIN_LAT,\n",
    "    R_MAX_LAT,\n",
    "    R_MIN_LON,\n",
    "    R_MAX_LON,\n",
    "    resolution,\n",
    "    layers,\n",
    "    meta_file,\n",
    "    ROME_DATA,\n",
    ")"
   ]
  },
  {
   "cell_type": "code",
   "execution_count": 5,
   "metadata": {},
   "outputs": [],
   "source": [
    "# Generate the hashes and save them to output folder\n",
    "\n",
    "hashes = GridRome.compute_dataset_hashes()\n",
    "\n",
    "# Saving the hashes to files\n",
    "for key in hashes:\n",
    "    with open(f\"{OUTPUT_FOLDER_ROME}/{key}.txt\", \"w\") as file:\n",
    "        for hash in hashes[key]:\n",
    "            file.write(\"%s\\n\" % hash)\n",
    "        file.close()\n",
    "\n",
    "# Copying the meta_files:\n",
    "meta_files = mfh.get_meta_files(ROME_DATA)\n",
    "\n",
    "for filename in meta_files:\n",
    "    shutil.copy(ROME_DATA + filename, OUTPUT_FOLDER_ROME)"
   ]
  },
  {
   "cell_type": "markdown",
   "metadata": {},
   "source": [
    "# Porto LSH Grid\n"
   ]
  },
  {
   "cell_type": "code",
   "execution_count": 6,
   "metadata": {},
   "outputs": [],
   "source": [
    "# Run this cell to clear the chosen files in the PORTO folder\n",
    "\n",
    "if SHOULD_DELETE_OLD_FILES:\n",
    "    for filename in os.listdir(OUTPUT_FOLDER_PORTO):\n",
    "        if filename.startswith(\".gitkeep\"):\n",
    "            continue\n",
    "        file_path = os.path.join(OUTPUT_FOLDER_PORTO, filename)\n",
    "        try:\n",
    "            if os.path.isfile(file_path) or os.path.islink(file_path):\n",
    "                os.unlink(file_path)\n",
    "            elif os.path.isdir(file_path):\n",
    "                shutil.rmtree(file_path)\n",
    "        except Exception as e:\n",
    "            print(\"Failed to remove %s. Reason: %s\" % (file_path, e))"
   ]
  },
  {
   "cell_type": "code",
   "execution_count": 7,
   "metadata": {},
   "outputs": [],
   "source": [
    "# Create Grid LSH objec for Porto\n",
    "\n",
    "resolution = 1.6  # km\n",
    "layers = 5\n",
    "meta_file = f\"../{PORTO_OUTPUT_FOLDER}/META-1000.txt\"\n",
    "\n",
    "GridPorto = GridLSH(\n",
    "    \"Porto G1\",\n",
    "    P_MIN_LAT,\n",
    "    P_MAX_LAT,\n",
    "    P_MIN_LON,\n",
    "    P_MAX_LON,\n",
    "    resolution,\n",
    "    layers,\n",
    "    meta_file,\n",
    "    PORTO_DATA,\n",
    ")"
   ]
  },
  {
   "cell_type": "code",
   "execution_count": 8,
   "metadata": {},
   "outputs": [],
   "source": [
    "# Creating the hashes and saving them to output folder\n",
    "\n",
    "hashes = GridPorto.compute_dataset_hashes()\n",
    "\n",
    "# Saving the hashes to files\n",
    "for key in hashes:\n",
    "    with open(f\"{OUTPUT_FOLDER_PORTO}/{key}.txt\", \"w\") as file:\n",
    "        for hash in hashes[key]:\n",
    "            file.write(\"%s\\n\" % hash)\n",
    "        file.close()\n",
    "\n",
    "# Copying the meta_files\n",
    "meta_files = mfh.get_meta_files(PORTO_DATA)\n",
    "\n",
    "for filename in meta_files:\n",
    "    shutil.copy(PORTO_DATA + filename, OUTPUT_FOLDER_PORTO)"
   ]
  },
  {
   "cell_type": "markdown",
   "metadata": {},
   "source": [
    "# Kolumbus LSH Grid\n"
   ]
  },
  {
   "cell_type": "code",
   "execution_count": 9,
   "metadata": {},
   "outputs": [],
   "source": [
    "# Run this cell to clear the chosen files in the PORTO folder\n",
    "\n",
    "if SHOULD_DELETE_OLD_FILES:\n",
    "    for filename in os.listdir(OUTPUT_FOLDER_KOLUMBUS):\n",
    "        if filename.startswith(\".gitkeep\"):\n",
    "            continue\n",
    "        file_path = os.path.join(OUTPUT_FOLDER_KOLUMBUS, filename)\n",
    "        try:\n",
    "            if os.path.isfile(file_path) or os.path.islink(file_path):\n",
    "                os.unlink(file_path)\n",
    "            elif os.path.isdir(file_path):\n",
    "                shutil.rmtree(file_path)\n",
    "        except Exception as e:\n",
    "            print(\"Failed to remove %s. Reason: %s\" % (file_path, e))"
   ]
  },
  {
   "cell_type": "code",
   "execution_count": 10,
   "metadata": {},
   "outputs": [],
   "source": [
    "# Create Grid LSH objec for Porto\n",
    "\n",
    "resolution = 1.6  # km\n",
    "layers = 5\n",
    "meta_file = f\"../{KOLUMBUS_OUTPUT_FOLDER}/META-100.txt\"\n",
    "\n",
    "GridKolumbus = GridLSH(\n",
    "    \"Kolumbus G1\",\n",
    "    K_MIN_LAT,\n",
    "    K_MAX_LAT,\n",
    "    K_MIN_LON,\n",
    "    K_MAX_LON,\n",
    "    resolution,\n",
    "    layers,\n",
    "    meta_file,\n",
    "    KOLUMBUS_DATA,\n",
    ")"
   ]
  },
  {
   "cell_type": "code",
   "execution_count": 11,
   "metadata": {},
   "outputs": [],
   "source": [
    "# Creating the hashes and saving them to output folder\n",
    "\n",
    "hashes = GridKolumbus.compute_dataset_hashes()\n",
    "\n",
    "# Saving the hashes to files\n",
    "for key in hashes:\n",
    "    with open(f\"{OUTPUT_FOLDER_KOLUMBUS}/{key}.txt\", \"w\") as file:\n",
    "        for hash in hashes[key]:\n",
    "            file.write(\"%s\\n\" % hash)\n",
    "        file.close()\n",
    "\n",
    "# Copying the meta_files\n",
    "meta_files = mfh.get_meta_files(KOLUMBUS_DATA)\n",
    "\n",
    "for filename in meta_files:\n",
    "    shutil.copy(KOLUMBUS_DATA + filename, OUTPUT_FOLDER_KOLUMBUS)"
   ]
  }
 ],
 "metadata": {
  "kernelspec": {
   "display_name": "Python 3",
   "language": "python",
   "name": "python3"
  },
  "language_info": {
   "codemirror_mode": {
    "name": "ipython",
    "version": 3
   },
   "file_extension": ".py",
   "mimetype": "text/x-python",
   "name": "python",
   "nbconvert_exporter": "python",
   "pygments_lexer": "ipython3",
   "version": "3.11.6"
  }
 },
 "nbformat": 4,
 "nbformat_minor": 2
}
