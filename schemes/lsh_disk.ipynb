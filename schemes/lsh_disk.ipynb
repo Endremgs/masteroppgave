{
 "cells": [
  {
   "cell_type": "markdown",
   "metadata": {},
   "source": [
    "# Notebook for the creation of the disk lsh hashes for both datasets\n",
    "\n",
    "Sheet that converts the extracted data from the data/chosen_data folder to hashes that will be stored in data/hashed_data/disk\n"
   ]
  },
  {
   "cell_type": "code",
   "execution_count": 1,
   "metadata": {},
   "outputs": [],
   "source": [
    "# Importing nescessary modules\n",
    "import os, sys\n",
    "import shutil\n",
    "import timeit as ti\n",
    "from tqdm import tqdm\n",
    "\n",
    "from multiprocessing import Pool\n",
    "\n",
    "currentdir = os.path.dirname(os.path.abspath(\"__file__\"))\n",
    "parentdir = os.path.dirname(currentdir)\n",
    "sys.path.append(parentdir)\n",
    "\n",
    "\n",
    "from helpers.lsh_disk import DiskLSH\n",
    "from utils.helpers import metafile_handler as mfh\n",
    "from utils.helpers import file_handler as fh\n",
    "from schemes.experiments import hashing\n",
    "\n"
   ]
  },
  {
   "cell_type": "code",
   "execution_count": 3,
   "metadata": {},
   "outputs": [],
   "source": [
    "from constants import P_MAX_LON, P_MIN_LON,P_MAX_LAT,P_MIN_LAT,R_MAX_LON,R_MIN_LON,R_MAX_LAT,R_MIN_LAT,K_MAX_LON,K_MIN_LON,K_MAX_LAT,K_MIN_LAT, PORTO_OUTPUT_FOLDER, ROME_OUTPUT_FOLDER, KOLUMBUS_OUTPUT_FOLDER\n",
    "# Declaring global variables:\n",
    "\n",
    "SHOULD_DELETE_OLD_FILES = True\n",
    "\n",
    "OUTPUT_FOLDER_PORTO = \"../hashed_data/disk/porto/\"\n",
    "OUTPUT_FOLDER_ROME = \"../hashed_data/disk/rome/\"\n",
    "OUTPUT_FOLDER_KOLUMBUS = \"../hashed_data/disk/kolumbus/\"\n",
    "\n",
    "PORTO_DATA = f\"../{PORTO_OUTPUT_FOLDER}/\"\n",
    "ROME_DATA = f\"../{ROME_OUTPUT_FOLDER}/\"\n",
    "KOLUMBUS_DATA = f\"../{KOLUMBUS_OUTPUT_FOLDER}/\""
   ]
  },
  {
   "cell_type": "markdown",
   "metadata": {},
   "source": [
    "# Rome LSH Disk\n",
    "\n",
    "Continuing with the rome set\n"
   ]
  },
  {
   "cell_type": "code",
   "execution_count": 5,
   "metadata": {},
   "outputs": [
    {
     "name": "stdout",
     "output_type": "stream",
     "text": [
      "['R_DYR.txt', 'R_AKD.txt', 'R_CRS.txt', 'META-2000.txt', 'META-200.txt', 'R_BOX.txt', 'R_DNZ.txt', 'META-50.txt', 'R_DYD.txt', 'R_AIO.txt', 'R_DMT.txt', 'R_CHI.txt', 'R_BVN.txt', 'META-2200.txt', 'R_DAV.txt', 'R_DTW.txt', 'R_AFR.txt', 'META-2600.txt', 'R_BMW.txt', 'R_BZI.txt', 'R_BYR.txt', 'R_BLR.txt', 'R_EIO.txt', 'R_DLC.txt', 'META-400.txt', 'R_AHO.txt', 'R_DWI.txt', 'R_DZN.txt', 'META-600.txt', 'R_AJE.txt', 'R_CFS.txt', 'R_CFD.txt', 'R_AQX.txt', 'R_DLA.txt', 'R_BMT.txt', 'META-1900.txt', 'R_CKB.txt', 'R_DTF.txt', 'META-2400.txt', 'R_ALT.txt', 'META-100.txt', 'R_DKC.txt', 'R_DJG.txt', 'R_CLV.txt', 'R_BRQ.txt', 'R_BSB.txt', 'R_DQL.txt', 'META-2300.txt', 'R_CWH.txt', 'META-2100.txt', 'R_CMF.txt', 'R_EAC.txt', '.gitkeep', 'R_BFW.txt', 'R_BDH.txt', 'R_EBY.txt', 'META-300.txt', 'R_CLC.txt', 'R_DGB.txt', 'R_CUE.txt', 'META-700.txt', 'META-2500.txt', 'R_CNY.txt', 'R_DFC.txt', 'R_CBM.txt', 'META-1800.txt', 'R_CBX.txt', 'META-2700.txt', 'R_BRU.txt', 'META-500.txt', 'R_CLR.txt', 'R_CAB.txt', 'R_CVK.txt', 'R_AMY.txt', 'R_AMN.txt', 'R_DIU.txt', 'META-900.txt', 'R_AMO.txt', 'META-1600.txt', 'R_DPC.txt', 'META-1400.txt', 'R_AYH.txt', 'R_EAJ.txt', 'META-2900.txt', 'R_BHT.txt', 'R_CAM.txt', 'META-3000.txt', 'R_DQU.txt', 'R_DPF.txt', 'R_DDT.txt', 'R_BEA.txt', 'META-1000.txt', 'R_AOC.txt', 'R_DHT.txt', 'R_BEU.txt', 'META-1200.txt', 'R_EMX.txt', 'R_DEE.txt', 'R_DBF.txt', 'META-2800.txt', 'META-1500.txt', 'R_EDQ.txt', 'R_BUH.txt', 'R_BBV.txt', 'R_ARN.txt', 'R_AQU.txt', 'R_CGZ.txt', 'R_CEE.txt', 'META-800.txt', 'R_DTH.txt', 'R_CFK.txt', 'R_EJY.txt', 'META-1700.txt', 'R_AQV.txt', 'R_CKZ.txt', 'R_AIG.txt', 'R_ADD.txt', 'R_AHG.txt', 'META-1300.txt', 'R_CIV.txt', 'R_AQE.txt', 'R_BBF.txt', 'R_BWG.txt', 'R_BVB.txt', 'R_DCR.txt', 'R_CQD.txt', 'R_CGI.txt', 'R_ASY.txt', 'R_CHP.txt', 'R_CSZ.txt', 'R_DVP.txt', 'META-1100.txt']\n"
     ]
    }
   ],
   "source": [
    "# Run this cell to clear the chosen files in the ROME folder\n",
    "\n",
    "if SHOULD_DELETE_OLD_FILES:\n",
    "    fh.delete_old_files(OUTPUT_FOLDER_ROME, \".gitkeep\")"
   ]
  },
  {
   "cell_type": "code",
   "execution_count": 9,
   "metadata": {},
   "outputs": [],
   "source": [
    "# Creating a disk based LSH hashing object over rome\n",
    "\n",
    "layers = 4\n",
    "diameter = 1.5\n",
    "num_disks = 50\n",
    "meta_file = f\"../{ROME_OUTPUT_FOLDER}/META-100.txt\"\n",
    "\n",
    "DiskRome = DiskLSH(\n",
    "    \"Rome D1\",\n",
    "    R_MIN_LAT,\n",
    "    R_MAX_LAT,\n",
    "    R_MIN_LON,\n",
    "    R_MAX_LON,\n",
    "    num_disks,\n",
    "    layers,\n",
    "    diameter,\n",
    "    meta_file,\n",
    "    ROME_DATA,\n",
    ")"
   ]
  },
  {
   "cell_type": "code",
   "execution_count": null,
   "metadata": {},
   "outputs": [],
   "source": []
  },
  {
   "cell_type": "code",
   "execution_count": 10,
   "metadata": {},
   "outputs": [],
   "source": [
    "# Generating the hashes and storing them in output folder along with the meta-files\n",
    "hashes = DiskRome.compute_dataset_hashes_with_KD_tree()\n",
    "\n",
    "for key in hashes:\n",
    "    with open(f\"{OUTPUT_FOLDER_ROME}/{key}.txt\", \"w\") as file:\n",
    "        for hash in hashes[key]:\n",
    "            file.write(\"%s\\n\" % hash)\n",
    "        file.close()\n",
    "\n",
    "# Copying meta_files as well\n",
    "meta_files = mfh.get_meta_files(ROME_DATA)\n",
    "\n",
    "for filename in meta_files:\n",
    "    shutil.copy(ROME_DATA + filename, OUTPUT_FOLDER_ROME)"
   ]
  },
  {
   "cell_type": "markdown",
   "metadata": {},
   "source": [
    "# Porto LSH Disk\n",
    "\n",
    "Beginning with the porto set\n"
   ]
  },
  {
   "cell_type": "code",
   "execution_count": 11,
   "metadata": {},
   "outputs": [],
   "source": [
    "# Run this cell to clear the chosen files in the PORTO folder\n",
    "\n",
    "if SHOULD_DELETE_OLD_FILES:\n",
    "    fh.delete_old_files(OUTPUT_FOLDER_PORTO, \".gitkeep\")"
   ]
  },
  {
   "cell_type": "code",
   "execution_count": 12,
   "metadata": {},
   "outputs": [],
   "source": [
    "# Create a disk-based LSH object over Porto\n",
    "\n",
    "layers = 4\n",
    "diameter = 1.5\n",
    "num_disks = 50\n",
    "meta_file = f\"../{PORTO_OUTPUT_FOLDER}/META-100.txt\"\n",
    "\n",
    "DiskPorto = DiskLSH(\n",
    "    \"Porto D1\",\n",
    "    P_MIN_LAT,\n",
    "    P_MAX_LAT,\n",
    "    P_MIN_LON,\n",
    "    P_MAX_LON,\n",
    "    num_disks,\n",
    "    layers,\n",
    "    diameter,\n",
    "    meta_file,\n",
    "    PORTO_DATA,\n",
    ")"
   ]
  },
  {
   "cell_type": "code",
   "execution_count": 13,
   "metadata": {},
   "outputs": [],
   "source": [
    "# Generating the disk-based LSH objects hashes and saving them to file\n",
    "\n",
    "hashes = DiskPorto.compute_dataset_hashes_with_KD_tree()\n",
    "\n",
    "for key in hashes:\n",
    "    with open(f\"{OUTPUT_FOLDER_PORTO}/{key}.txt\", \"w\") as file:\n",
    "        for hash in hashes[key]:\n",
    "            file.write(\"%s\\n\" % hash)\n",
    "        file.close\n",
    "\n",
    "# Copying meta_files as well\n",
    "meta_files = mfh.get_meta_files(PORTO_DATA)\n",
    "\n",
    "for filename in meta_files:\n",
    "    shutil.copy(PORTO_DATA + filename, OUTPUT_FOLDER_PORTO)"
   ]
  },
  {
   "cell_type": "markdown",
   "metadata": {},
   "source": [
    "# Kolumbus LSH Disk\n"
   ]
  },
  {
   "cell_type": "code",
   "execution_count": 14,
   "metadata": {},
   "outputs": [],
   "source": [
    "# Run this cell to clear the chosen files in the ROME folder\n",
    "\n",
    "if SHOULD_DELETE_OLD_FILES:\n",
    "    fh.delete_old_files(OUTPUT_FOLDER_KOLUMBUS, \".gitkeep\")"
   ]
  },
  {
   "cell_type": "code",
   "execution_count": 15,
   "metadata": {},
   "outputs": [],
   "source": [
    "# Creating a disk based LSH hashing object over Kolumbus\n",
    "\n",
    "layers = 4\n",
    "diameter = 1.5\n",
    "num_disks = 50\n",
    "meta_file = f\"../{KOLUMBUS_OUTPUT_FOLDER}/META-100.txt\"\n",
    "\n",
    "DiskKolumbus = DiskLSH(\n",
    "    \"Kolumbus D1\",\n",
    "    K_MIN_LAT,\n",
    "    K_MAX_LAT,\n",
    "    K_MIN_LON,\n",
    "    K_MAX_LON,\n",
    "    num_disks,\n",
    "    layers,\n",
    "    diameter,\n",
    "    meta_file,\n",
    "    KOLUMBUS_DATA,\n",
    ")"
   ]
  },
  {
   "cell_type": "code",
   "execution_count": 16,
   "metadata": {},
   "outputs": [],
   "source": [
    "# Generating the hashes and storing them in output folder along with the meta-files\n",
    "hashes = DiskKolumbus.compute_dataset_hashes_with_KD_tree()\n",
    "\n",
    "for key in hashes:\n",
    "    with open(f\"{OUTPUT_FOLDER_KOLUMBUS}/{key}.txt\", \"w\") as file:\n",
    "        for hash in hashes[key]:\n",
    "            file.write(\"%s\\n\" % hash)\n",
    "        file.close()\n",
    "\n",
    "# Copying meta_files as well\n",
    "meta_files = mfh.get_meta_files(KOLUMBUS_DATA)\n",
    "\n",
    "for filename in meta_files:\n",
    "    shutil.copy(KOLUMBUS_DATA + filename, OUTPUT_FOLDER_KOLUMBUS)"
   ]
  },
  {
   "cell_type": "markdown",
   "metadata": {},
   "source": [
    "# Measuring run-times of hash generation\n",
    "\n",
    "The cells below are created to measure the time-efficiency of the hash computation\n"
   ]
  },
  {
   "cell_type": "code",
   "execution_count": 17,
   "metadata": {},
   "outputs": [],
   "source": [
    "# #Cell for measrung DiskLSH hash generation times for all methods in both datasets - using coordiante hashes\n",
    "# import pandas as pd\n",
    "# from itertools import chain\n",
    "\n",
    "# output_folder = \"schemes/experiments/runtimes/\"\n",
    "# file_name = \"hashing_runtimes_disk_lsh.csv\"\n",
    "\n",
    "# hashing_map = {\n",
    "#     \"porto_naive\" : hashing.fun_wrapper_p_naive,\n",
    "#     \"porto_quadrants\" : hashing.fun_wrapper_p_quadrants,\n",
    "#     \"porto_kd_tree\" : hashing.fun_wrapper_p_KD_tree,\n",
    "#     \"rome_naive\" : hashing.fun_wrapper_r_naive,\n",
    "#     \"rome_quadrants\" : hashing.fun_wrapper_r_quadrants,\n",
    "#     \"rome_kd_tree\" : hashing.fun_wrapper_r_KD_tree\n",
    "# }\n",
    "\n",
    "# config = {\n",
    "#     \"porto\" : [1000, 60, 4, 2.2],\n",
    "#     # \"rome\" : [1000, 50, 5, 1.6]\n",
    "\n",
    "# }\n",
    "\n",
    "# runs = 10\n",
    "\n",
    "# df = pd.DataFrame(columns=[f\"Run_{run+1}\" for run in range(runs)])\n",
    "\n",
    "# for key in hashing_map.keys():\n",
    "#     with Pool() as pool:\n",
    "#         result = pool.map(hashing_map[key], [config[key.split(\"_\")[0]] for _ in range(runs)])\n",
    "#         df.loc[key] = list(chain.from_iterable(result))\n",
    "\n",
    "# df.to_csv(os.path.join(output_folder, file_name))"
   ]
  }
 ],
 "metadata": {
  "kernelspec": {
   "display_name": "Python 3",
   "language": "python",
   "name": "python3"
  },
  "language_info": {
   "codemirror_mode": {
    "name": "ipython",
    "version": 3
   },
   "file_extension": ".py",
   "mimetype": "text/x-python",
   "name": "python",
   "nbconvert_exporter": "python",
   "pygments_lexer": "ipython3",
   "version": "3.11.6+"
  }
 },
 "nbformat": 4,
 "nbformat_minor": 2
}
