{
 "cells": [
  {
   "cell_type": "markdown",
   "metadata": {},
   "source": [
    "# Notebook for the creation of the disk lsh hashes for both datasets\n",
    "\n",
    "Sheet that converts the extracted data from the data/chosen_data folder to hashes that will be stored in data/hashed_data/disk\n"
   ]
  },
  {
   "cell_type": "code",
   "execution_count": 1,
   "metadata": {},
   "outputs": [],
   "source": [
    "# Importing nescessary modules\n",
    "import os\n",
    "import shutil\n",
    "\n",
    "from schemes.lsh_disk import DiskLSH\n",
    "from schemes.experiments import hashing\n",
    "from processing.utils import metafile_handler as mfh\n",
    "\n",
    "import timeit as ti\n",
    "from tqdm import tqdm\n",
    "\n",
    "from multiprocessing import Pool"
   ]
  },
  {
   "cell_type": "code",
   "execution_count": 3,
   "metadata": {},
   "outputs": [],
   "source": [
    "# Declaring global variables:\n",
    "\n",
    "SHOULD_DELETE_OLD_FILES = True\n",
    "\n",
    "OUTPUT_FOLDER_PORTO = \"hashed_data/disk/porto/\"\n",
    "OUTPUT_FOLDER_ROME = \"hashed_data/disk/rome/\"\n",
    "OUTPUT_FOLDER_KOLUMBUS = \"hashed_data/disk/kolumbus/\"\n",
    "\n",
    "PORTO_DATA = \"dataset/porto/output/\"\n",
    "ROME_DATA = \"dataset/rome/output/\"\n",
    "KOLUMBUS_DATA = \"dataset/kolumbus/output/\"\n",
    "\n",
    "P_MAX_LON = -8.57\n",
    "P_MIN_LON = -8.66\n",
    "P_MAX_LAT = 41.19\n",
    "P_MIN_LAT = 41.14\n",
    "\n",
    "R_MAX_LON = 12.53\n",
    "R_MIN_LON = 12.44\n",
    "R_MAX_LAT = 41.93\n",
    "R_MIN_LAT = 41.88\n",
    "\n",
    "K_MAX_LON = 5.80\n",
    "K_MIN_LON = 5.70\n",
    "K_MAX_LAT = 59.10\n",
    "K_MIN_LAT = 58.85"
   ]
  },
  {
   "cell_type": "markdown",
   "metadata": {},
   "source": [
    "# Rome LSH Disk\n",
    "\n",
    "Continuing with the rome set\n"
   ]
  },
  {
   "cell_type": "code",
   "execution_count": null,
   "metadata": {},
   "outputs": [],
   "source": [
    "# Run this cell to clear the chosen files in the ROME folder\n",
    "\n",
    "if SHOULD_DELETE_OLD_FILES:\n",
    "    for filename in os.listdir(OUTPUT_FOLDER_ROME):\n",
    "        file_path = os.path.join(OUTPUT_FOLDER_ROME, filename)\n",
    "        try:\n",
    "            if os.path.isfile(file_path) or os.path.islink(file_path):\n",
    "                os.unlink(file_path)\n",
    "            elif os.path.isdir(file_path):\n",
    "                shutil.rmtree(file_path)\n",
    "        except Exception as e:\n",
    "            print(\"Failed to remove %s. Reason: %s\" % (file_path, e))"
   ]
  },
  {
   "cell_type": "code",
   "execution_count": null,
   "metadata": {},
   "outputs": [],
   "source": [
    "# Creating a disk based LSH hashing object over rome\n",
    "\n",
    "layers = 4\n",
    "diameter = 1.5\n",
    "num_disks = 50\n",
    "meta_file = \"dataset/rome/output/META-100.TXT\"\n",
    "\n",
    "DiskRome = DiskLSH(\n",
    "    \"Rome D1\",\n",
    "    R_MIN_LAT,\n",
    "    R_MAX_LAT,\n",
    "    R_MIN_LON,\n",
    "    R_MAX_LON,\n",
    "    num_disks,\n",
    "    layers,\n",
    "    diameter,\n",
    "    meta_file,\n",
    "    ROME_DATA,\n",
    ")"
   ]
  },
  {
   "cell_type": "code",
   "execution_count": null,
   "metadata": {},
   "outputs": [],
   "source": [
    "# Generating the hashes and storing them in output folder along with the meta-files\n",
    "hashes = DiskRome.compute_dataset_hashes_with_KD_tree()\n",
    "\n",
    "for key in hashes:\n",
    "    with open(f\"{OUTPUT_FOLDER_ROME}/{key}.txt\", \"w\") as file:\n",
    "        for hash in hashes[key]:\n",
    "            file.write(\"%s\\n\" % hash)\n",
    "        file.close()\n",
    "\n",
    "# Copying meta_files as well\n",
    "meta_files = mfh.get_meta_files(ROME_DATA)\n",
    "\n",
    "for filename in meta_files:\n",
    "    shutil.copy(ROME_DATA + filename, OUTPUT_FOLDER_ROME)"
   ]
  },
  {
   "cell_type": "markdown",
   "metadata": {},
   "source": [
    "# Porto LSH Disk\n",
    "\n",
    "Beginning with the porto set\n"
   ]
  },
  {
   "cell_type": "code",
   "execution_count": 3,
   "metadata": {},
   "outputs": [],
   "source": [
    "# Run this cell to clear the chosen files in the PORTO folder\n",
    "\n",
    "if SHOULD_DELETE_OLD_FILES:\n",
    "    for filename in os.listdir(OUTPUT_FOLDER_PORTO):\n",
    "        file_path = os.path.join(OUTPUT_FOLDER_PORTO, filename)\n",
    "        try:\n",
    "            if os.path.isfile(file_path) or os.path.islink(file_path):\n",
    "                os.unlink(file_path)\n",
    "            elif os.path.isdir(file_path):\n",
    "                shutil.rmtree(file_path)\n",
    "        except Exception as e:\n",
    "            print(\"Failed to remove %s. Reason: %s\" % (file_path, e))"
   ]
  },
  {
   "cell_type": "code",
   "execution_count": 4,
   "metadata": {},
   "outputs": [],
   "source": [
    "# Create a disk-based LSH object over Porto\n",
    "\n",
    "layers = 4\n",
    "diameter = 1.5\n",
    "num_disks = 50\n",
    "meta_file = \"dataset/porto/output/META-100.TXT\"\n",
    "\n",
    "DiskPorto = DiskLSH(\n",
    "    \"Porto D1\",\n",
    "    P_MIN_LAT,\n",
    "    P_MAX_LAT,\n",
    "    P_MIN_LON,\n",
    "    P_MAX_LON,\n",
    "    num_disks,\n",
    "    layers,\n",
    "    diameter,\n",
    "    meta_file,\n",
    "    PORTO_DATA,\n",
    ")"
   ]
  },
  {
   "cell_type": "code",
   "execution_count": null,
   "metadata": {},
   "outputs": [],
   "source": [
    "# Generating the disk-based LSH objects hashes and saving them to file\n",
    "\n",
    "hashes = DiskPorto.compute_dataset_hashes_with_KD_tree()\n",
    "\n",
    "for key in hashes:\n",
    "    # print(key)\n",
    "    with open(f\"{OUTPUT_FOLDER_PORTO}/{key}.txt\", \"w\") as file:\n",
    "        for hash in hashes[key]:\n",
    "            # print(hash)\n",
    "            file.write(\"%s\\n\" % hash)\n",
    "        file.close\n",
    "\n",
    "# Copying meta_files as well\n",
    "meta_files = mfh.get_meta_files(PORTO_DATA)\n",
    "\n",
    "for filename in meta_files:\n",
    "    shutil.copy(PORTO_DATA + filename, OUTPUT_FOLDER_PORTO)"
   ]
  },
  {
   "cell_type": "markdown",
   "metadata": {},
   "source": [
    "# Kolumbus LSH Disk\n"
   ]
  },
  {
   "cell_type": "code",
   "execution_count": 5,
   "metadata": {},
   "outputs": [],
   "source": [
    "# Run this cell to clear the chosen files in the ROME folder\n",
    "\n",
    "if SHOULD_DELETE_OLD_FILES:\n",
    "    for filename in os.listdir(OUTPUT_FOLDER_KOLUMBUS):\n",
    "        file_path = os.path.join(OUTPUT_FOLDER_KOLUMBUS, filename)\n",
    "        try:\n",
    "            if os.path.isfile(file_path) or os.path.islink(file_path):\n",
    "                os.unlink(file_path)\n",
    "            elif os.path.isdir(file_path):\n",
    "                shutil.rmtree(file_path)\n",
    "        except Exception as e:\n",
    "            print(\"Failed to remove %s. Reason: %s\" % (file_path, e))"
   ]
  },
  {
   "cell_type": "code",
   "execution_count": 6,
   "metadata": {},
   "outputs": [],
   "source": [
    "# Creating a disk based LSH hashing object over Kolumbus\n",
    "\n",
    "layers = 4\n",
    "diameter = 1.5\n",
    "num_disks = 50\n",
    "meta_file = \"dataset/kolumbus/output/META-100.TXT\"\n",
    "\n",
    "DiskKolumbus = DiskLSH(\n",
    "    \"Kolumbus D1\",\n",
    "    K_MIN_LAT,\n",
    "    K_MAX_LAT,\n",
    "    K_MIN_LON,\n",
    "    K_MAX_LON,\n",
    "    num_disks,\n",
    "    layers,\n",
    "    diameter,\n",
    "    meta_file,\n",
    "    KOLUMBUS_DATA,\n",
    ")"
   ]
  },
  {
   "cell_type": "code",
   "execution_count": 7,
   "metadata": {},
   "outputs": [],
   "source": [
    "# Generating the hashes and storing them in output folder along with the meta-files\n",
    "hashes = DiskKolumbus.compute_dataset_hashes_with_KD_tree()\n",
    "\n",
    "for key in hashes:\n",
    "    with open(f\"{OUTPUT_FOLDER_KOLUMBUS}/{key}.txt\", \"w\") as file:\n",
    "        for hash in hashes[key]:\n",
    "            file.write(\"%s\\n\" % hash)\n",
    "        file.close()\n",
    "\n",
    "# Copying meta_files as well\n",
    "meta_files = mfh.get_meta_files(KOLUMBUS_DATA)\n",
    "\n",
    "for filename in meta_files:\n",
    "    shutil.copy(KOLUMBUS_DATA + filename, OUTPUT_FOLDER_KOLUMBUS)"
   ]
  },
  {
   "cell_type": "markdown",
   "metadata": {},
   "source": [
    "# Measuring run-times of hash generation\n",
    "\n",
    "The cells below are created to measure the time-efficiency of the hash computation\n"
   ]
  },
  {
   "cell_type": "code",
   "execution_count": null,
   "metadata": {},
   "outputs": [],
   "source": [
    "# #Cell for measrung DiskLSH hash generation times for all methods in both datasets - using coordiante hashes\n",
    "# import pandas as pd\n",
    "# from itertools import chain\n",
    "\n",
    "# output_folder = \"schemes/experiments/runtimes/\"\n",
    "# file_name = \"hashing_runtimes_disk_lsh.csv\"\n",
    "\n",
    "# hashing_map = {\n",
    "#     \"porto_naive\" : hashing.fun_wrapper_p_naive,\n",
    "#     \"porto_quadrants\" : hashing.fun_wrapper_p_quadrants,\n",
    "#     \"porto_kd_tree\" : hashing.fun_wrapper_p_KD_tree,\n",
    "#     \"rome_naive\" : hashing.fun_wrapper_r_naive,\n",
    "#     \"rome_quadrants\" : hashing.fun_wrapper_r_quadrants,\n",
    "#     \"rome_kd_tree\" : hashing.fun_wrapper_r_KD_tree\n",
    "# }\n",
    "\n",
    "# config = {\n",
    "#     \"porto\" : [1000, 60, 4, 2.2],\n",
    "#     # \"rome\" : [1000, 50, 5, 1.6]\n",
    "\n",
    "# }\n",
    "\n",
    "# runs = 10\n",
    "\n",
    "# df = pd.DataFrame(columns=[f\"Run_{run+1}\" for run in range(runs)])\n",
    "\n",
    "# for key in hashing_map.keys():\n",
    "#     with Pool() as pool:\n",
    "#         result = pool.map(hashing_map[key], [config[key.split(\"_\")[0]] for _ in range(runs)])\n",
    "#         df.loc[key] = list(chain.from_iterable(result))\n",
    "\n",
    "# df.to_csv(os.path.join(output_folder, file_name))"
   ]
  }
 ],
 "metadata": {
  "kernelspec": {
   "display_name": "Python 3",
   "language": "python",
   "name": "python3"
  },
  "language_info": {
   "codemirror_mode": {
    "name": "ipython",
    "version": 3
   },
   "file_extension": ".py",
   "mimetype": "text/x-python",
   "name": "python",
   "nbconvert_exporter": "python",
   "pygments_lexer": "ipython3",
   "version": "3.11.7"
  }
 },
 "nbformat": 4,
 "nbformat_minor": 2
}
