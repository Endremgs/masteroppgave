{
 "cells": [
  {
   "cell_type": "code",
   "execution_count": null,
   "metadata": {},
   "outputs": [],
   "source": [
    "# Importing nescessary modules\n",
    "import os, sys\n",
    "import shutil\n",
    "\n",
    "currentdir = os.path.dirname(os.path.abspath(\"__file__\"))\n",
    "parentdir = os.path.dirname(currentdir)\n",
    "sys.path.append(parentdir)\n",
    "\n",
    "from utils.helpers import metafile_handler as mfh\n",
    "from utils.helpers import file_handler as fh\n",
    "from utils.similarity_measures import frechet\n"
   ]
  },
  {
   "cell_type": "code",
   "execution_count": null,
   "metadata": {},
   "outputs": [],
   "source": [
    "from constants import PORTO_OUTPUT_FOLDER, ROME_OUTPUT_FOLDER, KOLUMBUS_OUTPUT_FOLDER, SIMILARITIES_OUTPUT_FOLDER_PORTO, SIMILARITIES_OUTPUT_FOLDER_KOLUMBUS, SIMILARITIES_OUTPUT_FOLDER_ROME, NUMBER_OF_TRAJECTORIES\n",
    "\n",
    "DATA_ROME = f\"../{ROME_OUTPUT_FOLDER}/\"\n",
    "TEST_SET_ROME = f\"../{ROME_OUTPUT_FOLDER}/META-50.txt\"\n",
    "FULL_SET_ROME = f\"../{ROME_OUTPUT_FOLDER}/META-{NUMBER_OF_TRAJECTORIES}.txt\"\n",
    "SIMILARITIES_OUTPUT_FOLDER_ROME = f\"../{SIMILARITIES_OUTPUT_FOLDER_ROME}/\"\n",
    "FRECHET_FILENAME_ROME = f\"rome-frechet-{NUMBER_OF_TRAJECTORIES}.csv\"\n",
    "FRECHET_FILENAME_TEST_ROME = \"rome-frechet-50.csv\"\n",
    "\n",
    "DATA_PORTO = f\"../{PORTO_OUTPUT_FOLDER}/\"\n",
    "TEST_SET_PORTO = f\"../{PORTO_OUTPUT_FOLDER}/META-50.txt\"\n",
    "FULL_SET_PORTO = f\"../{PORTO_OUTPUT_FOLDER}/META-{NUMBER_OF_TRAJECTORIES}.txt\"\n",
    "SIMILARITIES_OUTPUT_FOLDER_PORTO = f\"../{SIMILARITIES_OUTPUT_FOLDER_PORTO}/\"\n",
    "FRECHET_FILENAME_PORTO = f\"porto-frechet-{NUMBER_OF_TRAJECTORIES}.csv\"\n",
    "FRECHET_FILENAME_TEST_PORTO = \"porto-frechet-50.csv\"\n",
    "\n",
    "DATA_KOLUMBUS = f\"../{KOLUMBUS_OUTPUT_FOLDER}/\"\n",
    "TEST_SET_KOLUMBUS = f\"../{KOLUMBUS_OUTPUT_FOLDER}/META-50.txt\"\n",
    "FULL_SET_KOLUMBUS = f\"../{KOLUMBUS_OUTPUT_FOLDER}/META-{NUMBER_OF_TRAJECTORIES}.txt\"\n",
    "SIMILARITIES_OUTPUT_FOLDER_KOLUMBUS = f\"../{SIMILARITIES_OUTPUT_FOLDER_KOLUMBUS}/\"\n",
    "FRECHET_FILENAME_KOLUMBUS = f\"kolumbus-frechet-{NUMBER_OF_TRAJECTORIES}.csv\"\n",
    "FRECHET_FILENAME_TEST_KOLUMBUS = \"kolumbus-frechet-50.csv\""
   ]
  },
  {
   "cell_type": "code",
   "execution_count": null,
   "metadata": {},
   "outputs": [],
   "source": [
    "def deleteFile(file_name: str, folder_name: str) -> None:\n",
    "    file_path = os.path.join(folder_name, file_name)\n",
    "    try:\n",
    "        if os.path.isfile(file_path) or os.path.islink(file_path):\n",
    "            os.unlink(file_path)\n",
    "        elif os.path.isdir(file_path):\n",
    "            shutil.rmtree(file_path)\n",
    "    except Exception as e:\n",
    "        print(\"Failed to remove %s. Reason: %s\" % (file_path, e))"
   ]
  },
  {
   "cell_type": "code",
   "execution_count": null,
   "metadata": {},
   "outputs": [],
   "source": [
    "# Using Cython Frechet, to speed things up\n",
    "\n",
    "\n",
    "# NOTE - Is not in use due to extensive computation time for non parallel version.\n",
    "def generate_frechet_similarities(\n",
    "    data_folder: str, meta_file: str, file_name: str, similarities_output_folder: str\n",
    "):\n",
    "    deleteFile(file_name, similarities_output_folder)\n",
    "\n",
    "    files = mfh.read_meta_file(meta_file)\n",
    "    trajectories = fh.load_trajectory_files(files, data_folder)\n",
    "\n",
    "    df = frechet.cy_frechet(trajectories)\n",
    "\n",
    "    df.to_csv(os.path.join(similarities_output_folder, file_name))\n",
    "\n",
    "\n",
    "def generate_parallell_frechet_similarities(\n",
    "    data_folder: str, meta_file: str, file_name: str, similarities_output_folder: str\n",
    "):\n",
    "    deleteFile(file_name, similarities_output_folder)\n",
    "\n",
    "    files = mfh.read_meta_file(meta_file)\n",
    "    trajectories = fh.load_trajectory_files(files, data_folder)\n",
    "\n",
    "    df = frechet.cy_frechet_pool(trajectories)\n",
    "    df.to_csv(os.path.join(similarities_output_folder, file_name))"
   ]
  },
  {
   "cell_type": "markdown",
   "metadata": {},
   "source": [
    "# Frechet similarities for Rome\n"
   ]
  },
  {
   "cell_type": "code",
   "execution_count": null,
   "metadata": {},
   "outputs": [],
   "source": [
    "# Test set\n",
    "# generate_parallell_frechet_similarities(\n",
    "#     DATA_ROME,\n",
    "#     TEST_SET_ROME,\n",
    "#     FRECHET_FILENAME_TEST_ROME,\n",
    "#     SIMILARITIES_OUTPUT_FOLDER_ROME,\n",
    "# )\n",
    "\n",
    "# Full set\n",
    "generate_parallell_frechet_similarities(\n",
    "    DATA_ROME, FULL_SET_ROME, FRECHET_FILENAME_ROME, SIMILARITIES_OUTPUT_FOLDER_ROME\n",
    ")"
   ]
  },
  {
   "cell_type": "markdown",
   "metadata": {},
   "source": [
    "# Frechet similarities for Porto\n"
   ]
  },
  {
   "cell_type": "code",
   "execution_count": null,
   "metadata": {},
   "outputs": [],
   "source": [
    "# Test set\n",
    "# generate_parallell_frechet_similarities(\n",
    "#     DATA_PORTO,\n",
    "#     TEST_SET_PORTO,\n",
    "#     FRECHET_FILENAME_TEST_PORTO,\n",
    "#     SIMILARITIES_OUTPUT_FOLDER_PORTO,\n",
    "# )\n",
    "\n",
    "# Full set\n",
    "generate_parallell_frechet_similarities(\n",
    "    DATA_PORTO, FULL_SET_PORTO, FRECHET_FILENAME_PORTO, SIMILARITIES_OUTPUT_FOLDER_PORTO\n",
    ")"
   ]
  },
  {
   "cell_type": "markdown",
   "metadata": {},
   "source": [
    "# Frechet similarities for Kolumbus\n"
   ]
  },
  {
   "cell_type": "code",
   "execution_count": null,
   "metadata": {},
   "outputs": [],
   "source": [
    "# NOTE - Not computed for frechet test set or full set due to extensive computation time\n",
    "# Test set\n",
    "generate_parallell_frechet_similarities(\n",
    "    DATA_KOLUMBUS,\n",
    "    TEST_SET_KOLUMBUS,\n",
    "    FRECHET_FILENAME_TEST_KOLUMBUS,\n",
    "    SIMILARITIES_OUTPUT_FOLDER_KOLUMBUS,\n",
    ")\n",
    "# # Full set\n",
    "# generate_parallell_frechet_similarities(\n",
    "#     DATA_KOLUMBUS, FULL_SET_KOLUMBUS, FRECHET_FILENAME_KOLUMBUS, SIMILARITIES_OUTPUT_FOLDER_KOLUMBUS\n",
    "# )"
   ]
  }
 ],
 "metadata": {
  "kernelspec": {
   "display_name": "Python 3",
   "language": "python",
   "name": "python3"
  },
  "language_info": {
   "codemirror_mode": {
    "name": "ipython",
    "version": 3
   },
   "file_extension": ".py",
   "mimetype": "text/x-python",
   "name": "python",
   "nbconvert_exporter": "python",
   "pygments_lexer": "ipython3",
   "version": "3.11.7"
  }
 },
 "nbformat": 4,
 "nbformat_minor": 2
}
