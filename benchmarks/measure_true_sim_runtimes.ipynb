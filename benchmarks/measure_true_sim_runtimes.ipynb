{
 "cells": [
  {
   "cell_type": "markdown",
   "metadata": {},
   "source": [
    "# Time measurement for true similarities\n"
   ]
  },
  {
   "cell_type": "code",
   "execution_count": 1,
   "metadata": {},
   "outputs": [],
   "source": [
    "import os, sys\n",
    "\n",
    "currentdir = os.path.dirname(os.path.abspath(\"__file__\"))\n",
    "parentdir = os.path.dirname(currentdir)\n",
    "sys.path.append(parentdir)\n",
    "\n",
    "from utils.helpers.measure_similarities import compute_true_similarity_runtimes"
   ]
  },
  {
   "cell_type": "markdown",
   "metadata": {},
   "source": [
    "## DTW"
   ]
  },
  {
   "cell_type": "code",
   "execution_count": 2,
   "metadata": {},
   "outputs": [
    {
     "name": "stdout",
     "output_type": "stream",
     "text": [
      "data_end_size 3000\n",
      "data sets range(3000, 3001, 100)\n",
      "Computing true_dtw_cy for porto with 5 jobs\n",
      "             300000, set 1/1\n",
      "run_1  787.842077\n",
      "run_2  787.995118\n",
      "run_3  787.907933\n",
      "run_4  787.743240\n",
      "run_5  787.490268\n"
     ]
    }
   ],
   "source": [
    "# Measuring the computation times of true similarities\n",
    "\n",
    "measure=\"true_dtw_cy\"\n",
    "city=\"porto\"\n",
    "parallel_jobs = 5\n",
    "data_start_size = 3000\n",
    "data_end_size = 3000\n",
    "data_step_size = 100\n",
    "\n",
    "compute_true_similarity_runtimes(measure=measure, city=city, parallel_jobs=parallel_jobs, data_start_size=data_start_size, data_end_size=data_end_size, data_step_size=data_step_size)"
   ]
  },
  {
   "cell_type": "markdown",
   "metadata": {},
   "source": [
    "## Frechet"
   ]
  },
  {
   "cell_type": "code",
   "execution_count": null,
   "metadata": {},
   "outputs": [],
   "source": [
    "# Measuring the computation times of true similarities\n",
    "\n",
    "measure=\"true_frechet_cy\"\n",
    "city=\"porto\"\n",
    "parallel_jobs = 10\n",
    "data_start_size = 100\n",
    "data_end_size = 200 + 1\n",
    "data_step_size = 100\n",
    "\n",
    "compute_true_similarity_runtimes(measure=measure, city=city, parallel_jobs=parallel_jobs, data_start_size=data_start_size, data_end_size=data_end_size, data_step_size=data_step_size)"
   ]
  }
 ],
 "metadata": {
  "kernelspec": {
   "display_name": "Python 3",
   "language": "python",
   "name": "python3"
  },
  "language_info": {
   "codemirror_mode": {
    "name": "ipython",
    "version": 3
   },
   "file_extension": ".py",
   "mimetype": "text/x-python",
   "name": "python",
   "nbconvert_exporter": "python",
   "pygments_lexer": "ipython3",
   "version": "3.11.6+"
  }
 },
 "nbformat": 4,
 "nbformat_minor": 2
}
