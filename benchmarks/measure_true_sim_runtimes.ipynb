{
 "cells": [
  {
   "cell_type": "markdown",
   "metadata": {},
   "source": [
    "# Time measurement for true similarities\n"
   ]
  },
  {
   "cell_type": "code",
   "execution_count": 1,
   "metadata": {},
   "outputs": [],
   "source": [
    "import os, sys\n",
    "\n",
    "currentdir = os.path.dirname(os.path.abspath(\"__file__\"))\n",
    "parentdir = os.path.dirname(currentdir)\n",
    "sys.path.append(parentdir)\n",
    "\n",
    "from utils.helpers.measure_similarities import compute_true_similarity_runtimes"
   ]
  },
  {
   "cell_type": "markdown",
   "metadata": {},
   "source": [
    "## DTW"
   ]
  },
  {
   "cell_type": "code",
   "execution_count": 2,
   "metadata": {},
   "outputs": [
    {
     "name": "stdout",
     "output_type": "stream",
     "text": [
      "data_end_size 3000\n",
      "data sets range(250, 3001, 250)\n",
      "Computing true_dtw_cy for kolumbus with 10 jobs\n",
      "            250        500        750        1000        1250        1500  \\\n",
      "run_1   5.117376  21.304009  45.993515  83.479477  127.195491  181.132152   \n",
      "run_2   5.066314  22.399566  45.925716  83.550316  127.230902  180.843777   \n",
      "run_3   5.123922  22.611349  45.819348  83.449952  127.571219  191.206670   \n",
      "run_4   5.108350  21.397627  45.974441  83.584425  127.096075  181.167729   \n",
      "run_5   5.153986  22.546510  45.990352  87.906361  127.132231  181.193331   \n",
      "run_6   5.104957  21.305926  48.400604  83.410864  133.702877  181.329876   \n",
      "run_7   5.126922  22.478976  46.190069  83.216085  134.032850  180.795055   \n",
      "run_8   5.108281  21.508028  45.876811  87.649334  127.011445  181.090596   \n",
      "run_9   5.336037  21.371079  45.960385  87.841220  126.958888  181.140834   \n",
      "run_10  5.410424  21.336274  48.707830  87.626811  126.625480  181.732358   \n",
      "\n",
      "              1750        2000        2250        2500        2750        3000  \n",
      "run_1   261.083471  327.947080  420.966149  520.757767  632.586596  798.356958  \n",
      "run_2   247.251565  326.801161  420.366075  520.212684  665.995836  749.737983  \n",
      "run_3   246.965810  327.079872  420.423198  521.035503  632.319817  750.923955  \n",
      "run_4   260.721329  326.645023  419.107034  549.169085  633.201031  750.866494  \n",
      "run_5   260.272296  327.004468  420.222538  520.858113  665.570717  750.590861  \n",
      "run_6   247.504778  327.304625  420.879539  523.051189  665.931272  750.371602  \n",
      "run_7   247.287637  327.190921  420.193699  521.150773  634.271224  750.669665  \n",
      "run_8   260.476112  327.992081  443.696899  520.546126  633.256176  750.608372  \n",
      "run_9   247.048359  345.303805  419.929924  549.344096  633.499334  752.459288  \n",
      "run_10  260.187700  327.281848  420.792059  520.265144  665.039327  749.753155  \n"
     ]
    }
   ],
   "source": [
    "# Measuring the computation times of true similarities\n",
    "\n",
    "measure=\"true_dtw_cy\"\n",
    "city=\"kolumbus\"\n",
    "parallel_jobs = 10\n",
    "data_start_size = 250\n",
    "data_end_size = 3000\n",
    "data_step_size = 250\n",
    "\n",
    "compute_true_similarity_runtimes(measure=measure, city=city, parallel_jobs=parallel_jobs, data_start_size=data_start_size, data_end_size=data_end_size, data_step_size=data_step_size)"
   ]
  },
  {
   "cell_type": "markdown",
   "metadata": {},
   "source": [
    "## Frechet"
   ]
  },
  {
   "cell_type": "code",
   "execution_count": null,
   "metadata": {},
   "outputs": [],
   "source": [
    "# Measuring the computation times of true similarities\n",
    "\n",
    "measure=\"true_frechet_cy\"\n",
    "city=\"porto\"\n",
    "parallel_jobs = 10\n",
    "data_start_size = 100\n",
    "data_end_size = 200 + 1\n",
    "data_step_size = 100\n",
    "\n",
    "compute_true_similarity_runtimes(measure=measure, city=city, parallel_jobs=parallel_jobs, data_start_size=data_start_size, data_end_size=data_end_size, data_step_size=data_step_size)"
   ]
  }
 ],
 "metadata": {
  "kernelspec": {
   "display_name": "Python 3",
   "language": "python",
   "name": "python3"
  },
  "language_info": {
   "codemirror_mode": {
    "name": "ipython",
    "version": 3
   },
   "file_extension": ".py",
   "mimetype": "text/x-python",
   "name": "python",
   "nbconvert_exporter": "python",
   "pygments_lexer": "ipython3",
   "version": "3.11.6+"
  }
 },
 "nbformat": 4,
 "nbformat_minor": 2
}
