{
 "cells": [
  {
   "cell_type": "code",
   "execution_count": 14,
   "metadata": {},
   "outputs": [
    {
     "name": "stdout",
     "output_type": "stream",
     "text": [
      "Average runtime for each dataset size:\n",
      "100: 0.13207254166666663\n",
      "200: 0.3521070416666666\n",
      "300: 0.6683898333333333\n",
      "400: 1.1773804166666666\n",
      "500: 1.85296675\n",
      "600: 2.7032980833333333\n",
      "700: 3.7643433333333336\n",
      "800: 4.737689\n",
      "900: 6.076730583333333\n",
      "1000: 7.404909875\n"
     ]
    }
   ],
   "source": [
    "import pandas as pd\n",
    "\n",
    "\n",
    "# Replace 'your_file.csv' with the path to your actual CSV file\n",
    "csv_file_path = 'similarity_runtimes_grid_dtw_cy_layers-5_res-1.6_porto_start-100_end-1000_step-100.csv'\n",
    "\n",
    "# Reading the CSV file\n",
    "df = pd.read_csv(csv_file_path, index_col=0)\n",
    "\n",
    "# Calculating the average for each column\n",
    "averages = df.mean()\n",
    "\n",
    "# Printing the average runtime for each dataset size\n",
    "print(\"Average runtime for each dataset size:\")\n",
    "for dataset_size, avg_runtime in averages.items():\n",
    "    print(f\"{dataset_size}: {avg_runtime}\")\n"
   ]
  }
 ],
 "metadata": {
  "kernelspec": {
   "display_name": "Python 3",
   "language": "python",
   "name": "python3"
  },
  "language_info": {
   "codemirror_mode": {
    "name": "ipython",
    "version": 3
   },
   "file_extension": ".py",
   "mimetype": "text/x-python",
   "name": "python",
   "nbconvert_exporter": "python",
   "pygments_lexer": "ipython3",
   "version": "3.11.6+"
  }
 },
 "nbformat": 4,
 "nbformat_minor": 2
}
