{
  "cells": [
    {
      "cell_type": "code",
      "execution_count": 1,
      "metadata": {},
      "outputs": [],
      "source": [
        "# Importing nescessary modules\n",
        "import os, sys\n",
        "import shutil\n",
        "\n",
        "currentdir = os.path.dirname(os.path.abspath(\"__file__\"))\n",
        "parentdir = os.path.dirname(currentdir)\n",
        "sys.path.append(parentdir)\n",
        "\n",
        "from utils.helpers import file_handler as fh\n",
        "from utils.helpers import metafile_handler as mfh\n",
        "from utils.similarity_measures import dtw"
      ]
    },
    {
      "cell_type": "code",
      "execution_count": 2,
      "metadata": {},
      "outputs": [],
      "source": [
        "from constants import PORTO_OUTPUT_FOLDER, ROME_OUTPUT_FOLDER, KOLUMBUS_OUTPUT_FOLDER, SIMILARITIES_OUTPUT_FOLDER_PORTO, SIMILARITIES_OUTPUT_FOLDER_KOLUMBUS, SIMILARITIES_OUTPUT_FOLDER_ROME, NUMBER_OF_TRAJECTORIES\n",
        "\n",
        "DATA_ROME = f\"../{ROME_OUTPUT_FOLDER}/\"\n",
        "TEST_SET_ROME = f\"../{ROME_OUTPUT_FOLDER}/META-50.txt\"\n",
        "FULL_SET_ROME = f\"../{ROME_OUTPUT_FOLDER}/META-{NUMBER_OF_TRAJECTORIES}.txt\"\n",
        "SIMILARITIES_OUTPUT_FOLDER_ROME = f\"../{SIMILARITIES_OUTPUT_FOLDER_ROME}/\"\n",
        "DTW_FILENAME_ROME = f\"rome-dtw-{NUMBER_OF_TRAJECTORIES}.csv\"\n",
        "DTW_FILENAME_TEST_ROME = \"rome-dtw-50.csv\"\n",
        "\n",
        "DATA_PORTO = f\"../{PORTO_OUTPUT_FOLDER}/\"\n",
        "TEST_SET_PORTO = f\"../{PORTO_OUTPUT_FOLDER}/META-50.txt\"\n",
        "FULL_SET_PORTO = f\"../{PORTO_OUTPUT_FOLDER}/META-{NUMBER_OF_TRAJECTORIES}.txt\"\n",
        "SIMILARITIES_OUTPUT_FOLDER_PORTO = f\"../{SIMILARITIES_OUTPUT_FOLDER_PORTO}/\"\n",
        "DTW_FILENAME_PORTO = f\"porto-dtw-{NUMBER_OF_TRAJECTORIES}.csv\"\n",
        "DTW_FILENAME_TEST_PORTO = \"porto-dtw-50.csv\"\n",
        "\n",
        "DATA_KOLUMBUS = f\"../{KOLUMBUS_OUTPUT_FOLDER}/\"\n",
        "TEST_SET_KOLUMBUS = f\"../{KOLUMBUS_OUTPUT_FOLDER}/META-50.txt\"\n",
        "FULL_SET_KOLUMBUS = f\"../{KOLUMBUS_OUTPUT_FOLDER}/META-{NUMBER_OF_TRAJECTORIES}.txt\"\n",
        "SIMILARITIES_OUTPUT_FOLDER_KOLUMBUS = f\"../{SIMILARITIES_OUTPUT_FOLDER_KOLUMBUS}/\"\n",
        "DTW_FILENAME_KOLUMBUS = f\"kolumbus-dtw-{NUMBER_OF_TRAJECTORIES}.csv\"\n",
        "DTW_FILENAME_TEST_KOLUMBUS = \"../kolumbus-dtw-50.csv\""
      ]
    },
    {
      "cell_type": "code",
      "execution_count": 3,
      "metadata": {},
      "outputs": [],
      "source": [
        "def deleteFile(file_name: str, folder_name: str) -> None:\n",
        "    file_path = os.path.join(folder_name, file_name)\n",
        "    try:\n",
        "        if os.path.isfile(file_path) or os.path.islink(file_path):\n",
        "            os.unlink(file_path)\n",
        "        elif os.path.isdir(file_path):\n",
        "            shutil.rmtree(file_path)\n",
        "    except Exception as e:\n",
        "        print(\"Failed to remove %s. Reason: %s\" % (file_path, e))"
      ]
    },
    {
      "cell_type": "code",
      "execution_count": 4,
      "metadata": {},
      "outputs": [],
      "source": [
        "# Using Cython DTW, to speed things up\n",
        "\n",
        "\n",
        "def generate_dtw_similarities(\n",
        "    data_folder: str, meta_file: str, file_name: str, similarities_output_folder: str\n",
        "):\n",
        "    deleteFile(file_name, similarities_output_folder)\n",
        "\n",
        "    files = mfh.read_meta_file(meta_file)\n",
        "    trajectories = fh.load_trajectory_files(files, data_folder)\n",
        "\n",
        "    df = dtw.cy_dtw(trajectories)\n",
        "\n",
        "    df.to_csv(os.path.join(similarities_output_folder, file_name))\n",
        "\n",
        "\n",
        "def generate_parallell_dtw_similarities(\n",
        "    data_folder: str, meta_file: str, file_name: str, similarities_output_folder: str\n",
        "):\n",
        "    deleteFile(file_name, similarities_output_folder)\n",
        "\n",
        "    files = mfh.read_meta_file(meta_file)\n",
        "    trajectories = fh.load_trajectory_files(files, data_folder)\n",
        "\n",
        "    df = dtw.cy_dtw_pool(trajectories)\n",
        "    df.to_csv(os.path.join(similarities_output_folder, file_name))"
      ]
    },
    {
      "cell_type": "markdown",
      "metadata": {},
      "source": [
        "# DTW similarities for Rome\n"
      ]
    },
    {
      "cell_type": "code",
      "execution_count": 5,
      "metadata": {},
      "outputs": [],
      "source": [
        "# DTW similarities for Rome\n",
        "\n",
        "# Test set\n",
        "# generate_dtw_similarities(\n",
        "#     DATA_ROME, TEST_SET_ROME, DTW_FILENAME_TEST_ROME, SIMILARITIES_OUTPUT_FOLDER_ROME\n",
        "# )\n",
        "# generate_parallell_dtw_similarities(\n",
        "#     DATA_ROME, TEST_SET_ROME, DTW_FILENAME_TEST_ROME, SIMILARITIES_OUTPUT_FOLDER_ROME\n",
        "# )\n",
        "\n",
        "# Full set\n",
        "# generate_dtw_similarities(DATA_ROME, FULL_SET_ROME, DTW_FILENAME_ROME)\n",
        "generate_parallell_dtw_similarities(\n",
        "    DATA_ROME, FULL_SET_ROME, DTW_FILENAME_ROME, SIMILARITIES_OUTPUT_FOLDER_ROME\n",
        ")"
      ]
    },
    {
      "cell_type": "markdown",
      "metadata": {},
      "source": [
        "# DTW similarities for Porto\n"
      ]
    },
    {
      "cell_type": "code",
      "execution_count": 6,
      "metadata": {},
      "outputs": [],
      "source": [
        "# DTW similarities for Porto\n",
        "# Test set\n",
        "# generate_dtw_similarities(\n",
        "#     DATA_PORTO,\n",
        "#     TEST_SET_PORTO,\n",
        "#     DTW_FILENAME_TEST_PORTO,\n",
        "#     SIMILARITIES_OUTPUT_FOLDER_PORTO,\n",
        "# )\n",
        "# generate_parallell_dtw_similarities(\n",
        "#     DATA_PORTO,\n",
        "#     TEST_SET_PORTO,\n",
        "#     DTW_FILENAME_TEST_PORTO,\n",
        "#     SIMILARITIES_OUTPUT_FOLDER_PORTO,\n",
        "# )\n",
        "\n",
        "# Full set\n",
        "# generate_dtw_similarities(\n",
        "#     DATA_PORTO, FULL_SET_PORTO, DTW_FILENAME_PORTO, SIMILARITIES_OUTPUT_FOLDER_PORTO\n",
        "# )\n",
        "generate_parallell_dtw_similarities(\n",
        "    DATA_PORTO, FULL_SET_PORTO, DTW_FILENAME_PORTO, SIMILARITIES_OUTPUT_FOLDER_PORTO\n",
        ")"
      ]
    },
    {
      "cell_type": "markdown",
      "metadata": {},
      "source": [
        "# DTW similarities for Kolumbus\n"
      ]
    },
    {
      "cell_type": "code",
      "execution_count": 7,
      "metadata": {},
      "outputs": [
        {
          "name": "stdout",
          "output_type": "stream",
          "text": [
            "Can't find file.\n"
          ]
        },
        {
          "ename": "UnboundLocalError",
          "evalue": "cannot access local variable 'trajectory' where it is not associated with a value",
          "output_type": "error",
          "traceback": [
            "\u001b[0;31m---------------------------------------------------------------------------\u001b[0m",
            "\u001b[0;31mUnboundLocalError\u001b[0m                         Traceback (most recent call last)",
            "Cell \u001b[0;32mIn[7], line 16\u001b[0m\n\u001b[1;32m      1\u001b[0m \u001b[38;5;66;03m# DTW similarities for KOLUMBUS\u001b[39;00m\n\u001b[1;32m      2\u001b[0m \u001b[38;5;66;03m# Test set\u001b[39;00m\n\u001b[1;32m      3\u001b[0m \u001b[38;5;66;03m# generate_dtw_similarities(DATA_KOLUMBUS, TEST_SET_KOLUMBUS, DTW_FILENAME_TEST_KOLUMBUS, SIMILARITIES_OUTPUT_FOLDER_KOLUMBUS)\u001b[39;00m\n\u001b[0;32m   (...)\u001b[0m\n\u001b[1;32m     14\u001b[0m \u001b[38;5;66;03m# )\u001b[39;00m\n\u001b[1;32m     15\u001b[0m \u001b[38;5;66;03m# generate_dtw_similarities(DATA_KOLUMBUS, FULL_SET_KOLUMBUS, DTW_FILENAME_KOLUMBUS, SIMILARITIES_OUTPUT_FOLDER_KOLUMBUS)\u001b[39;00m\n\u001b[0;32m---> 16\u001b[0m \u001b[43mgenerate_parallell_dtw_similarities\u001b[49m\u001b[43m(\u001b[49m\n\u001b[1;32m     17\u001b[0m \u001b[43m    \u001b[49m\u001b[43mDATA_KOLUMBUS\u001b[49m\u001b[43m,\u001b[49m\n\u001b[1;32m     18\u001b[0m \u001b[43m    \u001b[49m\u001b[43mFULL_SET_KOLUMBUS\u001b[49m\u001b[43m,\u001b[49m\n\u001b[1;32m     19\u001b[0m \u001b[43m    \u001b[49m\u001b[43mDTW_FILENAME_KOLUMBUS\u001b[49m\u001b[43m,\u001b[49m\n\u001b[1;32m     20\u001b[0m \u001b[43m    \u001b[49m\u001b[43mSIMILARITIES_OUTPUT_FOLDER_KOLUMBUS\u001b[49m\u001b[43m,\u001b[49m\n\u001b[1;32m     21\u001b[0m \u001b[43m)\u001b[49m\n",
            "Cell \u001b[0;32mIn[4], line 23\u001b[0m, in \u001b[0;36mgenerate_parallell_dtw_similarities\u001b[0;34m(data_folder, meta_file, file_name, similarities_output_folder)\u001b[0m\n\u001b[1;32m     20\u001b[0m deleteFile(file_name, similarities_output_folder)\n\u001b[1;32m     22\u001b[0m files \u001b[38;5;241m=\u001b[39m mfh\u001b[38;5;241m.\u001b[39mread_meta_file(meta_file)\n\u001b[0;32m---> 23\u001b[0m trajectories \u001b[38;5;241m=\u001b[39m \u001b[43mfh\u001b[49m\u001b[38;5;241;43m.\u001b[39;49m\u001b[43mload_trajectory_files\u001b[49m\u001b[43m(\u001b[49m\u001b[43mfiles\u001b[49m\u001b[43m,\u001b[49m\u001b[43m \u001b[49m\u001b[43mdata_folder\u001b[49m\u001b[43m)\u001b[49m\n\u001b[1;32m     25\u001b[0m df \u001b[38;5;241m=\u001b[39m dtw\u001b[38;5;241m.\u001b[39mcy_dtw_pool(trajectories)\n\u001b[1;32m     26\u001b[0m df\u001b[38;5;241m.\u001b[39mto_csv(os\u001b[38;5;241m.\u001b[39mpath\u001b[38;5;241m.\u001b[39mjoin(similarities_output_folder, file_name))\n",
            "File \u001b[0;32m~/masteroppgave/masteroppgave/utils/helpers/file_handler.py:52\u001b[0m, in \u001b[0;36mload_trajectory_files\u001b[0;34m(files, folder_path)\u001b[0m\n\u001b[1;32m     50\u001b[0m \u001b[38;5;28;01mfor\u001b[39;00m file_name \u001b[38;5;129;01min\u001b[39;00m file_list:\n\u001b[1;32m     51\u001b[0m     key \u001b[38;5;241m=\u001b[39m os\u001b[38;5;241m.\u001b[39mpath\u001b[38;5;241m.\u001b[39msplitext(file_name)[\u001b[38;5;241m0\u001b[39m]\n\u001b[0;32m---> 52\u001b[0m     trajectory \u001b[38;5;241m=\u001b[39m \u001b[43mread_trajectory_file\u001b[49m\u001b[43m(\u001b[49m\u001b[43mfolder_path\u001b[49m\u001b[43m \u001b[49m\u001b[38;5;241;43m+\u001b[39;49m\u001b[43m \u001b[49m\u001b[43mfile_name\u001b[49m\u001b[43m)\u001b[49m\n\u001b[1;32m     54\u001b[0m     trajectories[key] \u001b[38;5;241m=\u001b[39m trajectory\n\u001b[1;32m     56\u001b[0m \u001b[38;5;28;01mreturn\u001b[39;00m trajectories\n",
            "File \u001b[0;32m~/masteroppgave/masteroppgave/utils/helpers/file_handler.py:30\u001b[0m, in \u001b[0;36mread_trajectory_file\u001b[0;34m(file_path)\u001b[0m\n\u001b[1;32m     27\u001b[0m \u001b[38;5;28;01mexcept\u001b[39;00m \u001b[38;5;167;01mFileNotFoundError\u001b[39;00m:\n\u001b[1;32m     28\u001b[0m     \u001b[38;5;28mprint\u001b[39m(\u001b[38;5;124m\"\u001b[39m\u001b[38;5;124mCan\u001b[39m\u001b[38;5;124m'\u001b[39m\u001b[38;5;124mt find file.\u001b[39m\u001b[38;5;124m\"\u001b[39m)\n\u001b[0;32m---> 30\u001b[0m \u001b[38;5;28;01mreturn\u001b[39;00m \u001b[43mtrajectory\u001b[49m\n",
            "\u001b[0;31mUnboundLocalError\u001b[0m: cannot access local variable 'trajectory' where it is not associated with a value"
          ]
        }
      ],
      "source": [
        "# DTW similarities for KOLUMBUS\n",
        "# Test set\n",
        "# generate_dtw_similarities(DATA_KOLUMBUS, TEST_SET_KOLUMBUS, DTW_FILENAME_TEST_KOLUMBUS, SIMILARITIES_OUTPUT_FOLDER_KOLUMBUS)\n",
        "# generate_parallell_dtw_similarities(\n",
        "#     DATA_KOLUMBUS,\n",
        "#     TEST_SET_KOLUMBUS,\n",
        "#     DTW_FILENAME_TEST_KOLUMBUS,\n",
        "#     SIMILARITIES_OUTPUT_FOLDER_KOLUMBUS,\n",
        "# )\n",
        "\n",
        "# Full set\n",
        "# generate_dtw_similarities(\n",
        "#     DATA_PORTO, FULL_SET_PORTO, DTW_FILENAME_PORTO, SIMILARITIES_OUTPUT_FOLDER_PORTO\n",
        "# )\n",
        "# generate_dtw_similarities(DATA_KOLUMBUS, FULL_SET_KOLUMBUS, DTW_FILENAME_KOLUMBUS, SIMILARITIES_OUTPUT_FOLDER_KOLUMBUS)\n",
        "generate_parallell_dtw_similarities(\n",
        "    DATA_KOLUMBUS,\n",
        "    FULL_SET_KOLUMBUS,\n",
        "    DTW_FILENAME_KOLUMBUS,\n",
        "    SIMILARITIES_OUTPUT_FOLDER_KOLUMBUS,\n",
        ")"
      ]
    },
    {
      "cell_type": "markdown",
      "metadata": {},
      "source": [
        "# Time measurement\n"
      ]
    }
  ],
  "metadata": {
    "kernelspec": {
      "display_name": "Python 3",
      "language": "python",
      "name": "python3"
    },
    "language_info": {
      "codemirror_mode": {
        "name": "ipython",
        "version": 3
      },
      "file_extension": ".py",
      "mimetype": "text/x-python",
      "name": "python",
      "nbconvert_exporter": "python",
      "pygments_lexer": "ipython3",
      "version": "3.11.7"
    }
  },
  "nbformat": 4,
  "nbformat_minor": 2
}
