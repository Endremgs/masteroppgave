{
  "cells": [
    {
      "cell_type": "code",
      "execution_count": 1,
      "metadata": {},
      "outputs": [],
      "source": [
        "# Importing nescessary modules\n",
        "import os, sys\n",
        "import shutil\n",
        "\n",
        "currentdir = os.path.dirname(os.path.abspath(\"__file__\"))\n",
        "parentdir = os.path.dirname(currentdir)\n",
        "sys.path.append(parentdir)\n",
        "\n",
        "from utils.helpers import file_handler as fh\n",
        "from utils.helpers import metafile_handler as mfh\n",
        "from utils.similarity_measures import dtw"
      ]
    },
    {
      "cell_type": "code",
      "execution_count": 2,
      "metadata": {},
      "outputs": [],
      "source": [
        "from constants import PORTO_OUTPUT_FOLDER, ROME_OUTPUT_FOLDER, KOLUMBUS_OUTPUT_FOLDER, SIMILARITIES_OUTPUT_FOLDER_PORTO, SIMILARITIES_OUTPUT_FOLDER_KOLUMBUS, SIMILARITIES_OUTPUT_FOLDER_ROME, NUMBER_OF_TRAJECTORIES\n",
        "\n",
        "DATA_ROME = f\"../{ROME_OUTPUT_FOLDER}/\"\n",
        "TEST_SET_ROME = f\"../{ROME_OUTPUT_FOLDER}/META-50.txt\"\n",
        "FULL_SET_ROME = f\"../{ROME_OUTPUT_FOLDER}/META-{NUMBER_OF_TRAJECTORIES}.txt\"\n",
        "SIMILARITIES_OUTPUT_FOLDER_ROME = f\"../{SIMILARITIES_OUTPUT_FOLDER_ROME}/\"\n",
        "DTW_FILENAME_ROME = f\"rome-dtw-{NUMBER_OF_TRAJECTORIES}.csv\"\n",
        "DTW_FILENAME_TEST_ROME = \"rome-dtw-50.csv\"\n",
        "\n",
        "DATA_PORTO = f\"../{PORTO_OUTPUT_FOLDER}/\"\n",
        "TEST_SET_PORTO = f\"../{PORTO_OUTPUT_FOLDER}/META-50.txt\"\n",
        "FULL_SET_PORTO = f\"../{PORTO_OUTPUT_FOLDER}/META-{NUMBER_OF_TRAJECTORIES}.txt\"\n",
        "SIMILARITIES_OUTPUT_FOLDER_PORTO = f\"../{SIMILARITIES_OUTPUT_FOLDER_PORTO}/\"\n",
        "DTW_FILENAME_PORTO = f\"porto-dtw-{NUMBER_OF_TRAJECTORIES}.csv\"\n",
        "DTW_FILENAME_TEST_PORTO = \"porto-dtw-50.csv\"\n",
        "\n",
        "DATA_KOLUMBUS = f\"../{KOLUMBUS_OUTPUT_FOLDER}/\"\n",
        "TEST_SET_KOLUMBUS = f\"../{KOLUMBUS_OUTPUT_FOLDER}/META-50.txt\"\n",
        "FULL_SET_KOLUMBUS = f\"../{KOLUMBUS_OUTPUT_FOLDER}/META-{NUMBER_OF_TRAJECTORIES}.txt\"\n",
        "SIMILARITIES_OUTPUT_FOLDER_KOLUMBUS = f\"../{SIMILARITIES_OUTPUT_FOLDER_KOLUMBUS}/\"\n",
        "DTW_FILENAME_KOLUMBUS = f\"../kolumbus-dtw-{NUMBER_OF_TRAJECTORIES}.csv\"\n",
        "DTW_FILENAME_TEST_KOLUMBUS = \"../kolumbus-dtw-50.csv\""
      ]
    },
    {
      "cell_type": "code",
      "execution_count": 3,
      "metadata": {},
      "outputs": [],
      "source": [
        "def deleteFile(file_name: str, folder_name: str) -> None:\n",
        "    file_path = os.path.join(folder_name, file_name)\n",
        "    try:\n",
        "        if os.path.isfile(file_path) or os.path.islink(file_path):\n",
        "            os.unlink(file_path)\n",
        "        elif os.path.isdir(file_path):\n",
        "            shutil.rmtree(file_path)\n",
        "    except Exception as e:\n",
        "        print(\"Failed to remove %s. Reason: %s\" % (file_path, e))"
      ]
    },
    {
      "cell_type": "code",
      "execution_count": 4,
      "metadata": {},
      "outputs": [],
      "source": [
        "# Using Cython DTW, to speed things up\n",
        "\n",
        "\n",
        "def generate_dtw_similarities(\n",
        "    data_folder: str, meta_file: str, file_name: str, similarities_output_folder: str\n",
        "):\n",
        "    deleteFile(file_name, similarities_output_folder)\n",
        "\n",
        "    files = mfh.read_meta_file(meta_file)\n",
        "    trajectories = fh.load_trajectory_files(files, data_folder)\n",
        "\n",
        "    df = dtw.cy_dtw(trajectories)\n",
        "\n",
        "    df.to_csv(os.path.join(similarities_output_folder, file_name))\n",
        "\n",
        "\n",
        "def generate_parallell_dtw_similarities(\n",
        "    data_folder: str, meta_file: str, file_name: str, similarities_output_folder: str\n",
        "):\n",
        "    deleteFile(file_name, similarities_output_folder)\n",
        "\n",
        "    files = mfh.read_meta_file(meta_file)\n",
        "    trajectories = fh.load_trajectory_files(files, data_folder)\n",
        "\n",
        "    df = dtw.cy_dtw_pool(trajectories)\n",
        "    df.to_csv(os.path.join(similarities_output_folder, file_name))"
      ]
    },
    {
      "cell_type": "markdown",
      "metadata": {},
      "source": [
        "# DTW similarities for Rome\n"
      ]
    },
    {
      "cell_type": "code",
      "execution_count": null,
      "metadata": {},
      "outputs": [],
      "source": [
        "# DTW similarities for Rome\n",
        "\n",
        "# Test set\n",
        "# generate_dtw_similarities(\n",
        "#     DATA_ROME, TEST_SET_ROME, DTW_FILENAME_TEST_ROME, SIMILARITIES_OUTPUT_FOLDER_ROME\n",
        "# )\n",
        "generate_parallell_dtw_similarities(\n",
        "    DATA_ROME, TEST_SET_ROME, DTW_FILENAME_TEST_ROME, SIMILARITIES_OUTPUT_FOLDER_ROME\n",
        ")\n",
        "\n",
        "# Full set\n",
        "# generate_dtw_similarities(DATA_ROME, FULL_SET_ROME, DTW_FILENAME_ROME)\n",
        "generate_parallell_dtw_similarities(\n",
        "    DATA_ROME, FULL_SET_ROME, DTW_FILENAME_ROME, SIMILARITIES_OUTPUT_FOLDER_ROME\n",
        ")"
      ]
    },
    {
      "cell_type": "markdown",
      "metadata": {},
      "source": [
        "# DTW similarities for Porto\n"
      ]
    },
    {
      "cell_type": "code",
      "execution_count": 6,
      "metadata": {},
      "outputs": [],
      "source": [
        "# DTW similarities for Porto\n",
        "# Test set\n",
        "# generate_dtw_similarities(\n",
        "#     DATA_PORTO,\n",
        "#     TEST_SET_PORTO,\n",
        "#     DTW_FILENAME_TEST_PORTO,\n",
        "#     SIMILARITIES_OUTPUT_FOLDER_PORTO,\n",
        "# )\n",
        "# generate_parallell_dtw_similarities(\n",
        "#     DATA_PORTO,\n",
        "#     TEST_SET_PORTO,\n",
        "#     DTW_FILENAME_TEST_PORTO,\n",
        "#     SIMILARITIES_OUTPUT_FOLDER_PORTO,\n",
        "# )\n",
        "\n",
        "# Full set\n",
        "generate_dtw_similarities(\n",
        "    DATA_PORTO, FULL_SET_PORTO, DTW_FILENAME_PORTO, SIMILARITIES_OUTPUT_FOLDER_PORTO\n",
        ")\n",
        "# generate_parallell_dtw_similarities(\n",
        "#     DATA_PORTO, FULL_SET_PORTO, DTW_FILENAME_PORTO, SIMILARITIES_OUTPUT_FOLDER_PORTO\n",
        "# )"
      ]
    },
    {
      "cell_type": "markdown",
      "metadata": {},
      "source": [
        "# DTW similarities for Kolumbus\n"
      ]
    },
    {
      "cell_type": "code",
      "execution_count": 7,
      "metadata": {},
      "outputs": [],
      "source": [
        "# DTW similarities for KOLUMBUS\n",
        "# Test set\n",
        "# generate_dtw_similarities(DATA_KOLUMBUS, TEST_SET_KOLUMBUS, DTW_FILENAME_TEST_KOLUMBUS, SIMILARITIES_OUTPUT_FOLDER_KOLUMBUS)\n",
        "generate_parallell_dtw_similarities(\n",
        "    DATA_KOLUMBUS,\n",
        "    TEST_SET_KOLUMBUS,\n",
        "    DTW_FILENAME_TEST_KOLUMBUS,\n",
        "    SIMILARITIES_OUTPUT_FOLDER_KOLUMBUS,\n",
        ")\n",
        "\n",
        "# Full set\n",
        "# generate_dtw_similarities(\n",
        "#     DATA_PORTO, FULL_SET_PORTO, DTW_FILENAME_PORTO, SIMILARITIES_OUTPUT_FOLDER_PORTO\n",
        "# )\n",
        "# generate_dtw_similarities(DATA_KOLUMBUS, FULL_SET_KOLUMBUS, DTW_FILENAME_KOLUMBUS, SIMILARITIES_OUTPUT_FOLDER_KOLUMBUS)\n",
        "generate_parallell_dtw_similarities(\n",
        "    DATA_KOLUMBUS,\n",
        "    FULL_SET_KOLUMBUS,\n",
        "    DTW_FILENAME_KOLUMBUS,\n",
        "    SIMILARITIES_OUTPUT_FOLDER_KOLUMBUS,\n",
        ")"
      ]
    },
    {
      "cell_type": "markdown",
      "metadata": {},
      "source": [
        "# Time measurement\n"
      ]
    },
    {
      "cell_type": "code",
      "execution_count": 8,
      "metadata": {},
      "outputs": [],
      "source": [
        "def romeSet(file_size: int) -> str:\n",
        "    return f\"../dataset/rome/output/META-{file_size}.txt\"\n",
        "\n",
        "\n",
        "def portoSet(file_size: int) -> str:\n",
        "    return f\"../dataset/porto/output/META-{file_size}.txt\""
      ]
    },
    {
      "cell_type": "code",
      "execution_count": 9,
      "metadata": {},
      "outputs": [],
      "source": [
        "# Time Efficiency\n",
        "from multiprocessing import Pool\n",
        "\n",
        "# Using Python, for measuring computation time fairly against the hash computations\n",
        "\n",
        "sim = {\n",
        "    \"dtw_py\": dtw.measure_py_dtw,\n",
        "    # \"frechet_py\" : frechet.measure_py_frechet,\n",
        "    \"dtw_cy\": dtw.measure_cy_dtw,\n",
        "    # \"frechet_cy\" : frechet.measure_cy_frechet\n",
        "}\n",
        "\n",
        "\n",
        "def measure_similarities(\n",
        "    measure: str, data_folder: str, meta_file: str, parallell_jobs: int = 10\n",
        "):\n",
        "    \"\"\"Common method for measuring the efficiency of the similarity algorithms\"\"\"\n",
        "    files = mfh.read_meta_file(meta_file)\n",
        "    trajectories = fh.load_trajectory_files(files, data_folder)\n",
        "\n",
        "    with Pool() as pool:\n",
        "        result = pool.map(sim[measure], [[trajectories, 1, 1]\n",
        "                          for _ in range(parallell_jobs)])\n",
        "    return result"
      ]
    },
    {
      "cell_type": "code",
      "execution_count": 10,
      "metadata": {},
      "outputs": [
        {
          "data": {
            "text/plain": [
              "[[8.247053],\n",
              " [8.037764000000001],\n",
              " [8.123517000000001],\n",
              " [8.217421000000002],\n",
              " [8.054786],\n",
              " [8.066933],\n",
              " [8.05183],\n",
              " [8.594024],\n",
              " [8.228824999999999],\n",
              " [7.96889]]"
            ]
          },
          "execution_count": 10,
          "metadata": {},
          "output_type": "execute_result"
        }
      ],
      "source": [
        "measure_similarities(\"dtw_py\", DATA_PORTO, portoSet(50))"
      ]
    },
    {
      "cell_type": "code",
      "execution_count": 11,
      "metadata": {},
      "outputs": [
        {
          "data": {
            "text/plain": [
              "[[0.39924800000000005],\n",
              " [0.19247100000000006],\n",
              " [0.18231700000000006],\n",
              " [0.18209399999999998],\n",
              " [0.16656500000000007],\n",
              " [0.1754070000000001],\n",
              " [0.1780870000000001],\n",
              " [0.17242499999999983],\n",
              " [0.18212300000000003],\n",
              " [0.17462500000000003]]"
            ]
          },
          "execution_count": 11,
          "metadata": {},
          "output_type": "execute_result"
        }
      ],
      "source": [
        "measure_similarities(\"dtw_cy\", DATA_PORTO, portoSet(50))"
      ]
    },
    {
      "cell_type": "code",
      "execution_count": 12,
      "metadata": {},
      "outputs": [
        {
          "name": "stdout",
          "output_type": "stream",
          "text": [
            "Computing size 200\r"
          ]
        }
      ],
      "source": [
        "# Measuring the computation times of true similarities\n",
        "\n",
        "runs = 10\n",
        "data_sets = range(200, 201, 100)\n",
        "output_folder = \"../benchmarks/similarities_runtimes/\"\n",
        "file_name = \"similarity_runtimes_true_dtw_porto_200.csv\"\n",
        "\n",
        "df = pd.DataFrame(\n",
        "    index=[f\"run_{x+1}\" for x in range(runs)], columns=[x for x in data_sets]\n",
        ")\n",
        "\n",
        "for size in data_sets:\n",
        "    print(f\"Computing size {size}\", end=\"\\r\")\n",
        "    execution_times = measure_similarities(\n",
        "        \"dtw_py\", DATA_ROME, romeSet(size), parallell_jobs=runs\n",
        "    )\n",
        "    df[size] = [element[0] for element in execution_times]\n",
        "\n",
        "df.to_csv(os.path.join(output_folder, file_name))\n",
        "df\n",
        "of = pd.read_csv(\n",
        "    \"../benchmarks/similarities_runtimes/similarity_runtimes_true_dtw_porto.csv\", index_col=0\n",
        ")\n",
        "f1 = pd.read_csv(\n",
        "    \"../benchmarks/similarities_runtimes/similarity_runtimes_true_dtw_porto_200.csv\",\n",
        "    index_col=0,\n",
        ")\n",
        "\n",
        "of[\"200\"] = f1[\"200\"]\n",
        "\n",
        "of.to_csv(\"../benchmarks/similarities_runtimes/similarity_runtimes_true_dtw_porto.csv\")"
      ]
    }
  ],
  "metadata": {
    "kernelspec": {
      "display_name": "Python 3",
      "language": "python",
      "name": "python3"
    },
    "language_info": {
      "codemirror_mode": {
        "name": "ipython",
        "version": 3
      },
      "file_extension": ".py",
      "mimetype": "text/x-python",
      "name": "python",
      "nbconvert_exporter": "python",
      "pygments_lexer": "ipython3",
      "version": "3.11.7"
    }
  },
  "nbformat": 4,
  "nbformat_minor": 2
}
