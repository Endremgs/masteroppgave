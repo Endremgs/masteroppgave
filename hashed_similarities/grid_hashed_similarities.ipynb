{
 "cells": [
  {
   "cell_type": "markdown",
   "metadata": {},
   "source": [
    "# Generate grid-based hashed similarities\n"
   ]
  },
  {
   "cell_type": "code",
   "execution_count": 1,
   "metadata": {},
   "outputs": [],
   "source": [
    "from correlation import compute_correlation_similarity\n",
    "from grid_similarity import generate_grid_hash_similarity\n",
    "from grid_resolution import plot_grid_res_layers\n",
    "\n",
    "import os"
   ]
  },
  {
   "cell_type": "markdown",
   "metadata": {},
   "source": [
    "# Rome\n"
   ]
  },
  {
   "cell_type": "code",
   "execution_count": 2,
   "metadata": {},
   "outputs": [],
   "source": [
    "similarities = generate_grid_hash_similarity(\"rome\", 1.2, 4)\n",
    "output_path = \"output/grid/rome/grid_rome.csv\"\n",
    "similarities.to_csv(os.path.abspath(output_path))"
   ]
  },
  {
   "cell_type": "markdown",
   "metadata": {},
   "source": [
    "# Porto\n"
   ]
  },
  {
   "cell_type": "code",
   "execution_count": 2,
   "metadata": {},
   "outputs": [],
   "source": [
    "similarities = generate_grid_hash_similarity(\"porto\", 1.6, 5)\n",
    "output_path = \"output/grid/porto/grid_porto.csv\"\n",
    "similarities.to_csv(os.path.abspath(output_path))"
   ]
  },
  {
   "cell_type": "markdown",
   "metadata": {},
   "source": [
    "# Kolumbus\n"
   ]
  },
  {
   "cell_type": "code",
   "execution_count": 2,
   "metadata": {},
   "outputs": [],
   "source": [
    "similarities = generate_grid_hash_similarity(\"kolumbus\", 1.0, 5)\n",
    "output_path = \"output/grid/kolumbus/grid_kolumbus.csv\"\n",
    "similarities.to_csv(os.path.abspath(output_path))"
   ]
  }
 ],
 "metadata": {
  "kernelspec": {
   "display_name": "Python 3",
   "language": "python",
   "name": "python3"
  },
  "language_info": {
   "codemirror_mode": {
    "name": "ipython",
    "version": 3
   },
   "file_extension": ".py",
   "mimetype": "text/x-python",
   "name": "python",
   "nbconvert_exporter": "python",
   "pygments_lexer": "ipython3",
   "version": "3.11.7"
  }
 },
 "nbformat": 4,
 "nbformat_minor": 2
}
