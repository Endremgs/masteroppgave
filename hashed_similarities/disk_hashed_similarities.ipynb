{
 "cells": [
  {
   "cell_type": "markdown",
   "metadata": {},
   "source": [
    "# Generate disk-based hashed similarities\n"
   ]
  },
  {
   "cell_type": "code",
   "execution_count": 1,
   "metadata": {},
   "outputs": [],
   "source": [
    "from disk_similarity import generate_disk_hash_similarity\n",
    "\n",
    "import os"
   ]
  },
  {
   "cell_type": "markdown",
   "metadata": {},
   "source": [
    "# Rome\n"
   ]
  },
  {
   "cell_type": "markdown",
   "metadata": {},
   "source": [
    "### DTW"
   ]
  },
  {
   "cell_type": "code",
   "execution_count": null,
   "metadata": {},
   "outputs": [],
   "source": [
    "measure = \"dtw\"\n",
    "similarities = generate_disk_hash_similarity(city=\"rome\", diameter=1.6, layers=5, disks=50, measure=measure, size=50)\n",
    "output_path = f\"output/disk/rome/disk_rome-{measure}.csv\"\n",
    "similarities.to_csv(os.path.abspath(output_path))"
   ]
  },
  {
   "cell_type": "markdown",
   "metadata": {},
   "source": [
    "### Frechet"
   ]
  },
  {
   "cell_type": "code",
   "execution_count": 2,
   "metadata": {},
   "outputs": [
    {
     "name": "stdout",
     "output_type": "stream",
     "text": [
      "Cy Pool Frechet: 0/50\n",
      "Cy Pool Frechet: 5/50\n",
      "Cy Pool Frechet: 10/50\n",
      "Cy Pool Frechet: 15/50\n",
      "Cy Pool Frechet: 20/50\n",
      "Cy Pool Frechet: 25/50\n",
      "Cy Pool Frechet: 30/50\n",
      "Cy Pool Frechet: 35/50\n",
      "Cy Pool Frechet: 40/50\n",
      "Cy Pool Frechet: 45/50\n"
     ]
    }
   ],
   "source": [
    "\n",
    "measure = \"frechet\"\n",
    "similarities = generate_disk_hash_similarity(city=\"rome\", diameter=1.6, layers=5, disks=50, measure=measure, size=50)\n",
    "output_path = f\"output/disk/rome/disk_rome-{measure}.csv\"\n",
    "similarities.to_csv(os.path.abspath(output_path))"
   ]
  },
  {
   "cell_type": "markdown",
   "metadata": {},
   "source": [
    "# Porto\n"
   ]
  },
  {
   "cell_type": "code",
   "execution_count": 3,
   "metadata": {},
   "outputs": [],
   "source": [
    "# Disk Porto\n",
    "measure = \"dtw\"\n",
    "# measure = \"frechet\"\n",
    "similarities = generate_disk_hash_similarity(\n",
    "    \"porto\", 2.2, 4, 60, measure=measure)\n",
    "output_path = f\"output/disk/porto/disk_porto-{measure}.csv\"\n",
    "similarities.to_csv(os.path.abspath(output_path))"
   ]
  },
  {
   "cell_type": "markdown",
   "metadata": {},
   "source": [
    "# Kolumbus\n"
   ]
  },
  {
   "cell_type": "code",
   "execution_count": 4,
   "metadata": {},
   "outputs": [],
   "source": [
    "# Disk Kolumbus\n",
    "measure = \"dtw\"\n",
    "# measure = \"frechet\"\n",
    "similarities = generate_disk_hash_similarity(\n",
    "    \"kolumbus\", 2.2, 4, 60, measure=measure)\n",
    "output_path = f\"output/disk/kolumbus/disk_kolumbus-{measure}.csv\"\n",
    "similarities.to_csv(os.path.abspath(output_path))"
   ]
  }
 ],
 "metadata": {
  "kernelspec": {
   "display_name": "Python 3",
   "language": "python",
   "name": "python3"
  },
  "language_info": {
   "codemirror_mode": {
    "name": "ipython",
    "version": 3
   },
   "file_extension": ".py",
   "mimetype": "text/x-python",
   "name": "python",
   "nbconvert_exporter": "python",
   "pygments_lexer": "ipython3",
   "version": "3.11.6+"
  }
 },
 "nbformat": 4,
 "nbformat_minor": 2
}
