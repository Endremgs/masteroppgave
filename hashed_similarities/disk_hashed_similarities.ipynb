{
 "cells": [
  {
   "cell_type": "markdown",
   "metadata": {},
   "source": [
    "# Generate disk-based hashed similarities\n"
   ]
  },
  {
   "cell_type": "code",
   "execution_count": 1,
   "metadata": {},
   "outputs": [],
   "source": [
    "from disk_similarity import generate_disk_hash_similarity\n",
    "\n",
    "import os"
   ]
  },
  {
   "cell_type": "markdown",
   "metadata": {},
   "source": [
    "# Rome\n"
   ]
  },
  {
   "cell_type": "code",
   "execution_count": 2,
   "metadata": {},
   "outputs": [],
   "source": [
    "# Disk Rome\n",
    "similarities = generate_disk_hash_similarity(\"rome\", 1.6, 5, 50)\n",
    "output_path = \"output/disk/rome/disk_rome.csv\"\n",
    "similarities.to_csv(os.path.abspath(output_path))"
   ]
  },
  {
   "cell_type": "markdown",
   "metadata": {},
   "source": [
    "# Porto\n"
   ]
  },
  {
   "cell_type": "code",
   "execution_count": 3,
   "metadata": {},
   "outputs": [],
   "source": [
    "# Disk Porto\n",
    "similarities = generate_disk_hash_similarity(\"porto\", 2.2, 4, 60)\n",
    "output_path = \"output/disk/porto/disk_porto.csv\"\n",
    "similarities.to_csv(os.path.abspath(output_path))"
   ]
  },
  {
   "cell_type": "markdown",
   "metadata": {},
   "source": [
    "# Kolumbus\n"
   ]
  },
  {
   "cell_type": "code",
   "execution_count": 4,
   "metadata": {},
   "outputs": [],
   "source": [
    "# Disk Kolumbus\n",
    "similarities = generate_disk_hash_similarity(\"kolumbus\", 2.2, 4, 60)\n",
    "output_path = \"output/disk/kolumbus/disk_kolumbus.csv\"\n",
    "similarities.to_csv(os.path.abspath(output_path))"
   ]
  }
 ],
 "metadata": {
  "kernelspec": {
   "display_name": "Python 3",
   "language": "python",
   "name": "python3"
  },
  "language_info": {
   "codemirror_mode": {
    "name": "ipython",
    "version": 3
   },
   "file_extension": ".py",
   "mimetype": "text/x-python",
   "name": "python",
   "nbconvert_exporter": "python",
   "pygments_lexer": "ipython3",
   "version": "3.11.7"
  }
 },
 "nbformat": 4,
 "nbformat_minor": 2
}
