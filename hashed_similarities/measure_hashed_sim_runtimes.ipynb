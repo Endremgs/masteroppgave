{
 "cells": [
  {
   "cell_type": "markdown",
   "metadata": {},
   "source": [
    "# Time measurement for hashed similarity runtimes"
   ]
  },
  {
   "cell_type": "code",
   "execution_count": 1,
   "metadata": {},
   "outputs": [],
   "source": [
    "import os, sys\n",
    "\n",
    "currentdir = os.path.dirname(os.path.abspath(\"__file__\"))\n",
    "parentdir = os.path.dirname(currentdir)\n",
    "sys.path.append(parentdir)\n",
    "\n",
    "from utils.helpers.measure_similarities import compute_grid_similarity_runtimes, compute_disk_similarity_runtimes"
   ]
  },
  {
   "cell_type": "markdown",
   "metadata": {},
   "source": [
    "## Grid"
   ]
  },
  {
   "cell_type": "markdown",
   "metadata": {},
   "source": [
    "### DTW"
   ]
  },
  {
   "cell_type": "code",
   "execution_count": 2,
   "metadata": {},
   "outputs": [
    {
     "name": "stdout",
     "output_type": "stream",
     "text": [
      "Computing grid_frechet_cy for porto with 2 jobs\n",
      "Computing size 100, set 1/2\r"
     ]
    },
    {
     "name": "stdout",
     "output_type": "stream",
     "text": [
      "            100        2002\n",
      "run_1  8.189140  27.053445\n",
      "run_2  8.381534  27.916408\n"
     ]
    }
   ],
   "source": [
    "# Measuring the computation times of true similarities\n",
    "\n",
    "measure=\"grid_dtw_cy\"\n",
    "city=\"porto\"\n",
    "res=0.5\n",
    "layers=4\n",
    "parallel_jobs = 10\n",
    "data_start_size = 100\n",
    "data_end_size = 200 + 1\n",
    "data_step_size = 100\n",
    "\n",
    "compute_grid_similarity_runtimes(measure=measure, city=city, res=res, layers=layers, parallel_jobs=parallel_jobs, data_start_size=data_start_size, data_end_size=data_end_size, data_step_size=data_step_size)"
   ]
  },
  {
   "cell_type": "markdown",
   "metadata": {},
   "source": [
    "### Frechet"
   ]
  },
  {
   "cell_type": "markdown",
   "metadata": {},
   "source": [
    "## Disk"
   ]
  },
  {
   "cell_type": "code",
   "execution_count": 3,
   "metadata": {},
   "outputs": [
    {
     "name": "stdout",
     "output_type": "stream",
     "text": [
      "Computing disk_frechet_cy for porto with 2 jobs\n",
      "            100       200/2\n",
      "run_1  0.583324  3.817837\n",
      "run_2  0.663818  3.848540\n"
     ]
    }
   ],
   "source": [
    "# Measuring the computation times of true similarities\n",
    "\n",
    "measure=\"disk_dtw_cy\"\n",
    "city=\"porto\"\n",
    "diameter=0.5\n",
    "layers=4\n",
    "disks=100\n",
    "parallel_jobs = 10\n",
    "data_start_size = 100\n",
    "data_end_size = 200 + 1\n",
    "data_step_size = 100\n",
    "\n",
    "compute_disk_similarity_runtimes(measure=measure, city=city, diameter=diameter, layers=layers, disks=disks, parallel_jobs=parallel_jobs, data_start_size=data_start_size, data_end_size=data_end_size, data_step_size=data_step_size)"
   ]
  }
 ],
 "metadata": {
  "kernelspec": {
   "display_name": "Python 3",
   "language": "python",
   "name": "python3"
  },
  "language_info": {
   "codemirror_mode": {
    "name": "ipython",
    "version": 3
   },
   "file_extension": ".py",
   "mimetype": "text/x-python",
   "name": "python",
   "nbconvert_exporter": "python",
   "pygments_lexer": "ipython3",
   "version": "3.11.6+"
  }
 },
 "nbformat": 4,
 "nbformat_minor": 2
}
