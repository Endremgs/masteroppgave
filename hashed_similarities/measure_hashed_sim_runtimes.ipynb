{
 "cells": [
  {
   "cell_type": "markdown",
   "metadata": {},
   "source": [
    "# Time measurement for hashed similarity runtimes"
   ]
  },
  {
   "cell_type": "code",
   "execution_count": null,
   "metadata": {},
   "outputs": [],
   "source": [
    "import os, sys\n",
    "\n",
    "currentdir = os.path.dirname(os.path.abspath(\"__file__\"))\n",
    "parentdir = os.path.dirname(currentdir)\n",
    "sys.path.append(parentdir)\n",
    "\n",
    "from utils.helpers.measure_similarities import compute_grid_similarity_runtimes, compute_disk_similarity_runtimes"
   ]
  },
  {
   "cell_type": "markdown",
   "metadata": {},
   "source": [
    "## Grid"
   ]
  },
  {
   "cell_type": "markdown",
   "metadata": {},
   "source": [
    "### DTW"
   ]
  },
  {
   "cell_type": "code",
   "execution_count": null,
   "metadata": {},
   "outputs": [],
   "source": [
    "# Measuring the computation times of true similarities\n",
    "\n",
    "measure=\"grid_dtw_cy\"\n",
    "city=\"kolumbus\"\n",
    "res=0.2\n",
    "layers=5\n",
    "parallel_jobs = 10\n",
    "data_start_size = 250\n",
    "data_end_size = 3000\n",
    "data_step_size = 250\n",
    "\n",
    "compute_grid_similarity_runtimes(measure=measure, city=city, res=res, layers=layers, parallel_jobs=parallel_jobs, data_start_size=data_start_size, data_end_size=data_end_size, data_step_size=data_step_size)"
   ]
  },
  {
   "cell_type": "markdown",
   "metadata": {},
   "source": [
    "### Frechet"
   ]
  },
  {
   "cell_type": "markdown",
   "metadata": {},
   "source": [
    "## Disk"
   ]
  },
  {
   "cell_type": "code",
   "execution_count": null,
   "metadata": {},
   "outputs": [],
   "source": [
    "# Measuring the computation times of true similarities\n",
    "\n",
    "measure=\"disk_dtw_cy\"\n",
    "city=\"porto\"\n",
    "diameter=2.2\n",
    "layers=4\n",
    "disks=60\n",
    "parallel_jobs = 5\n",
    "data_start_size = 3000\n",
    "data_end_size = 3000\n",
    "data_step_size = 500\n",
    "\n",
    "compute_disk_similarity_runtimes(measure=measure, city=city, diameter=diameter, layers=layers, disks=disks, parallel_jobs=parallel_jobs, data_start_size=data_start_size, data_end_size=data_end_size, data_step_size=data_step_size)"
   ]
  }
 ],
 "metadata": {
  "kernelspec": {
   "display_name": "Python 3",
   "language": "python",
   "name": "python3"
  },
  "language_info": {
   "codemirror_mode": {
    "name": "ipython",
    "version": 3
   },
   "file_extension": ".py",
   "mimetype": "text/x-python",
   "name": "python",
   "nbconvert_exporter": "python",
   "pygments_lexer": "ipython3",
   "version": "3.11.6+"
  }
 },
 "nbformat": 4,
 "nbformat_minor": 2
}
