{
 "cells": [
  {
   "cell_type": "markdown",
   "metadata": {},
   "source": [
    "# Time measurement for hashed similarity runtimes"
   ]
  },
  {
   "cell_type": "code",
   "execution_count": 1,
   "metadata": {},
   "outputs": [],
   "source": [
    "import os, sys\n",
    "\n",
    "currentdir = os.path.dirname(os.path.abspath(\"__file__\"))\n",
    "parentdir = os.path.dirname(currentdir)\n",
    "sys.path.append(parentdir)\n",
    "\n",
    "from utils.helpers.measure_similarities import compute_grid_similarity_runtimes, compute_disk_similarity_runtimes"
   ]
  },
  {
   "cell_type": "markdown",
   "metadata": {},
   "source": [
    "## Grid"
   ]
  },
  {
   "cell_type": "markdown",
   "metadata": {},
   "source": [
    "### DTW"
   ]
  },
  {
   "cell_type": "code",
   "execution_count": 2,
   "metadata": {},
   "outputs": [
    {
     "name": "stdout",
     "output_type": "stream",
     "text": [
      "Computing grid_dtw_cy for porto with 5 jobs\n",
      "            100       200       300       400       500\n",
      "run_1  0.153158  0.605071  1.295102  2.309179  3.492663\n",
      "run_2  0.145902  0.588271  1.336958  2.226940  3.595378\n",
      "run_3  0.146391  0.563510  1.339752  2.232648  3.589008\n",
      "run_4  0.212220  0.580201  1.339176  2.356759  3.505701\n",
      "run_5  0.146280  0.559115  1.291246  2.298517  3.473409\n"
     ]
    }
   ],
   "source": [
    "# Measuring the computation times of true similarities\n",
    "\n",
    "measure=\"grid_dtw_cy\"\n",
    "city=\"porto\"\n",
    "res=0.5\n",
    "layers=4\n",
    "parallel_jobs = 5\n",
    "data_start_size = 100\n",
    "data_end_size = 500\n",
    "data_step_size = 100\n",
    "\n",
    "compute_grid_similarity_runtimes(measure=measure, city=city, res=res, layers=layers, parallel_jobs=parallel_jobs, data_start_size=data_start_size, data_end_size=data_end_size, data_step_size=data_step_size)"
   ]
  },
  {
   "cell_type": "markdown",
   "metadata": {},
   "source": [
    "### Frechet"
   ]
  },
  {
   "cell_type": "markdown",
   "metadata": {},
   "source": [
    "## Disk"
   ]
  },
  {
   "cell_type": "code",
   "execution_count": 3,
   "metadata": {},
   "outputs": [
    {
     "name": "stdout",
     "output_type": "stream",
     "text": [
      "Computing disk_dtw_cy for porto with 5 jobs\n",
      "            100       200       300       400       500\n",
      "run_1  0.062911  0.287202  0.516578  1.185704  1.566689\n",
      "run_2  0.092977  0.237542  0.484097  1.071445  1.560364\n",
      "run_3  0.071223  0.231594  0.487469  1.128040  1.562155\n",
      "run_4  0.105433  0.233696  0.497933  1.141500  1.559377\n",
      "run_5  0.118187  0.229757  0.485707  1.130927  1.572263\n"
     ]
    }
   ],
   "source": [
    "# Measuring the computation times of true similarities\n",
    "\n",
    "measure=\"disk_dtw_cy\"\n",
    "city=\"porto\"\n",
    "diameter=0.5\n",
    "layers=4\n",
    "disks=100\n",
    "parallel_jobs = 5\n",
    "data_start_size = 100\n",
    "data_end_size = 500\n",
    "data_step_size = 100\n",
    "\n",
    "compute_disk_similarity_runtimes(measure=measure, city=city, diameter=diameter, layers=layers, disks=disks, parallel_jobs=parallel_jobs, data_start_size=data_start_size, data_end_size=data_end_size, data_step_size=data_step_size)"
   ]
  }
 ],
 "metadata": {
  "kernelspec": {
   "display_name": "Python 3",
   "language": "python",
   "name": "python3"
  },
  "language_info": {
   "codemirror_mode": {
    "name": "ipython",
    "version": 3
   },
   "file_extension": ".py",
   "mimetype": "text/x-python",
   "name": "python",
   "nbconvert_exporter": "python",
   "pygments_lexer": "ipython3",
   "version": "3.11.6+"
  }
 },
 "nbformat": 4,
 "nbformat_minor": 2
}
