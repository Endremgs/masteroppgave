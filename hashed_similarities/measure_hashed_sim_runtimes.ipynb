{
 "cells": [
  {
   "cell_type": "markdown",
   "metadata": {},
   "source": [
    "# Time measurement for hashed similarity runtimes"
   ]
  },
  {
   "cell_type": "code",
   "execution_count": 1,
   "metadata": {},
   "outputs": [],
   "source": [
    "import os, sys\n",
    "\n",
    "currentdir = os.path.dirname(os.path.abspath(\"__file__\"))\n",
    "parentdir = os.path.dirname(currentdir)\n",
    "sys.path.append(parentdir)\n",
    "\n",
    "from utils.helpers.measure_similarities import compute_grid_similarity_runtimes, compute_disk_similarity_runtimes"
   ]
  },
  {
   "cell_type": "markdown",
   "metadata": {},
   "source": [
    "## Grid"
   ]
  },
  {
   "cell_type": "markdown",
   "metadata": {},
   "source": [
    "### DTW"
   ]
  },
  {
   "cell_type": "code",
   "execution_count": 2,
   "metadata": {},
   "outputs": [
    {
     "name": "stdout",
     "output_type": "stream",
     "text": [
      "Computing grid_dtw_cy for porto with 5 jobs\n",
      "Average length of keys in hashes: 3.41\n",
      "Elapsed time for hash generation in set 100: 0.06325000000651926\n",
      "Average length of keys in hashes: 2.775\n",
      "Elapsed time for hash generation in set 200: 0.08236125006806105\n",
      "Average length of keys in hashes: 2.8566666666666665\n",
      "Elapsed time for hash generation in set 300: 0.11355570890009403\n",
      "Average length of keys in hashes: 2.9325\n",
      "Elapsed time for hash generation in set 400: 0.1843679160811007\n",
      "Average length of keys in hashes: 3.608\n",
      "Elapsed time for hash generation in set 500: 0.17405533406417817\n",
      "            100       200       300       400       500\n",
      "run_1  0.075188  0.301045  0.614193  1.134088  1.811749\n",
      "run_2  0.103721  0.282827  0.622608  1.141972  1.836114\n",
      "run_3  0.079515  0.299477  0.616469  1.172980  1.812233\n",
      "run_4  0.119923  0.283214  0.622201  1.139510  1.751462\n",
      "run_5  0.076789  0.313607  0.616048  1.185300  1.778877\n"
     ]
    }
   ],
   "source": [
    "# Measuring the computation times of true similarities\n",
    "\n",
    "measure=\"grid_dtw_cy\"\n",
    "city=\"porto\"\n",
    "res=1.6\n",
    "layers=5\n",
    "parallel_jobs = 5\n",
    "data_start_size = 3000\n",
    "data_end_size = 3000\n",
    "data_step_size = 100\n",
    "\n",
    "compute_grid_similarity_runtimes(measure=measure, city=city, res=res, layers=layers, parallel_jobs=parallel_jobs, data_start_size=data_start_size, data_end_size=data_end_size, data_step_size=data_step_size)"
   ]
  },
  {
   "cell_type": "markdown",
   "metadata": {},
   "source": [
    "### Frechet"
   ]
  },
  {
   "cell_type": "markdown",
   "metadata": {},
   "source": [
    "## Disk"
   ]
  },
  {
   "cell_type": "code",
   "execution_count": 5,
   "metadata": {},
   "outputs": [
    {
     "name": "stdout",
     "output_type": "stream",
     "text": [
      "Computing disk_dtw_cy for porto with 5 jobs\n",
      "Average length of keys in hashes: 10.301\n",
      "Elapsed time for hash generation in set 3000: 4.150663458043709\n",
      "             3000\n",
      "run_1  186.145584\n",
      "run_2  179.377963\n",
      "run_3  179.320001\n",
      "run_4  179.268669\n",
      "run_5  186.227069\n"
     ]
    }
   ],
   "source": [
    "# Measuring the computation times of true similarities\n",
    "\n",
    "measure=\"disk_dtw_cy\"\n",
    "city=\"porto\"\n",
    "diameter=2.2\n",
    "layers=4\n",
    "disks=60\n",
    "parallel_jobs = 5\n",
    "data_start_size = 3000\n",
    "data_end_size = 3000\n",
    "data_step_size = 500\n",
    "\n",
    "compute_disk_similarity_runtimes(measure=measure, city=city, diameter=diameter, layers=layers, disks=disks, parallel_jobs=parallel_jobs, data_start_size=data_start_size, data_end_size=data_end_size, data_step_size=data_step_size)"
   ]
  }
 ],
 "metadata": {
  "kernelspec": {
   "display_name": "Python 3",
   "language": "python",
   "name": "python3"
  },
  "language_info": {
   "codemirror_mode": {
    "name": "ipython",
    "version": 3
   },
   "file_extension": ".py",
   "mimetype": "text/x-python",
   "name": "python",
   "nbconvert_exporter": "python",
   "pygments_lexer": "ipython3",
   "version": "3.11.6+"
  }
 },
 "nbformat": 4,
 "nbformat_minor": 2
}
