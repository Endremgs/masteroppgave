{
 "cells": [
  {
   "cell_type": "markdown",
   "metadata": {},
   "source": [
    "# Time measurement for hashed similarity runtimes"
   ]
  },
  {
   "cell_type": "code",
   "execution_count": 1,
   "metadata": {},
   "outputs": [],
   "source": [
    "import os, sys\n",
    "\n",
    "currentdir = os.path.dirname(os.path.abspath(\"__file__\"))\n",
    "parentdir = os.path.dirname(currentdir)\n",
    "sys.path.append(parentdir)\n",
    "\n",
    "from utils.helpers.measure_similarities import compute_grid_similarity_runtimes, compute_disk_similarity_runtimes"
   ]
  },
  {
   "cell_type": "markdown",
   "metadata": {},
   "source": [
    "## Grid"
   ]
  },
  {
   "cell_type": "markdown",
   "metadata": {},
   "source": [
    "### DTW"
   ]
  },
  {
   "cell_type": "code",
   "execution_count": 2,
   "metadata": {},
   "outputs": [
    {
     "name": "stdout",
     "output_type": "stream",
     "text": [
      "Iteration 1/3\n",
      "Computing grid_dtw_cy for porto with 8 jobs - Iteration 1/3\n",
      "Elapsed time for hash generation in set 100: 0.07249370800127508\n",
      "Elapsed time for hash generation in set 200: 0.0890222919988446\n",
      "Elapsed time for hash generation in set 300: 0.13517920799858985\n",
      "Elapsed time for hash generation in set 400: 0.1975150409998605\n",
      "Elapsed time for hash generation in set 500: 0.1961334999978135\n",
      "Elapsed time for hash generation in set 600: 0.3068669589993078\n",
      "Elapsed time for hash generation in set 700: 0.3405061250014114\n",
      "Elapsed time for hash generation in set 800: 0.3657250420001219\n",
      "Elapsed time for hash generation in set 900: 0.48709662499823025\n",
      "Elapsed time for hash generation in set 1000: 0.5433929999999236\n",
      "Iteration 2/3\n",
      "Computing grid_dtw_cy for porto with 8 jobs - Iteration 2/3\n",
      "Elapsed time for hash generation in set 100: 0.034701000000495696\n",
      "Elapsed time for hash generation in set 200: 0.08769795799889835\n",
      "Elapsed time for hash generation in set 300: 0.12795329099753872\n",
      "Elapsed time for hash generation in set 400: 0.2233431250024296\n",
      "Elapsed time for hash generation in set 500: 0.22631016699961037\n",
      "Elapsed time for hash generation in set 600: 0.27698316700116266\n",
      "Elapsed time for hash generation in set 700: 0.3154472499991243\n",
      "Elapsed time for hash generation in set 800: 0.4618878750006843\n",
      "Elapsed time for hash generation in set 900: 0.4659880839972175\n",
      "Elapsed time for hash generation in set 1000: 0.5341845420007303\n",
      "Iteration 3/3\n",
      "Computing grid_dtw_cy for porto with 8 jobs - Iteration 3/3\n",
      "Elapsed time for hash generation in set 100: 0.04741345900038141\n",
      "Elapsed time for hash generation in set 200: 0.08701266600110102\n",
      "Elapsed time for hash generation in set 300: 0.1289519999991171\n",
      "Elapsed time for hash generation in set 400: 0.19900754199989024\n",
      "Elapsed time for hash generation in set 500: 0.2787296249989595\n",
      "Elapsed time for hash generation in set 600: 0.2449492919986369\n",
      "Elapsed time for hash generation in set 700: 0.35349304099872825\n",
      "Elapsed time for hash generation in set 800: 0.3810693750019709\n",
      "Elapsed time for hash generation in set 900: 0.4915653749994817\n",
      "Elapsed time for hash generation in set 1000: 0.6439083750010468\n",
      "           100       200       300       400       500       600       700   \\\n",
      "run_1  0.085350  0.323055  0.745444  1.232105  2.018261  2.860627  4.208825   \n",
      "run_2  0.146276  0.320978  0.719835  1.237109  2.042647  2.855953  4.137178   \n",
      "run_3  0.081371  0.317806  0.727879  1.310308  2.047367  2.961948  4.154812   \n",
      "run_4  0.082137  0.471517  0.720696  1.234368  1.986105  2.853031  4.146122   \n",
      "run_5  0.183186  0.313715  0.707628  1.259650  2.044630  2.895950  4.161187   \n",
      "run_6  0.088699  0.311896  0.706586  1.246224  2.003769  2.922765  4.165403   \n",
      "run_7  0.086225  0.317525  0.703398  1.270716  1.997025  2.900675  4.167338   \n",
      "run_8  0.089318  0.348104  0.713270  1.220881  2.018696  2.877603  4.232834   \n",
      "\n",
      "           800       900       1000  \n",
      "run_1  5.304593  6.688388  8.158226  \n",
      "run_2  5.201010  6.614858  7.988882  \n",
      "run_3  5.186826  6.650026  8.047733  \n",
      "run_4  5.363330  6.601867  8.061910  \n",
      "run_5  5.198678  6.496146  8.225965  \n",
      "run_6  5.193062  6.515637  7.981268  \n",
      "run_7  5.154743  6.494789  8.035383  \n",
      "run_8  5.176262  6.746449  8.031358  \n"
     ]
    }
   ],
   "source": [
    "# Measuring the computation times of true similarities\n",
    "\n",
    "measure=\"grid_dtw_cy\"\n",
    "city=\"porto\"\n",
    "res=1.6\n",
    "layers=5\n",
    "parallel_jobs = 8\n",
    "data_start_size = 100\n",
    "data_end_size = 300\n",
    "data_step_size = 100\n",
    "iterations = 3\n",
    "\n",
    "compute_grid_similarity_runtimes(measure=measure, city=city, res=res, layers=layers, parallel_jobs=parallel_jobs, data_start_size=data_start_size, data_end_size=data_end_size, data_step_size=data_step_size, iterations=iterations)"
   ]
  },
  {
   "cell_type": "markdown",
   "metadata": {},
   "source": [
    "### Frechet"
   ]
  },
  {
   "cell_type": "markdown",
   "metadata": {},
   "source": [
    "## Disk"
   ]
  },
  {
   "cell_type": "code",
   "execution_count": null,
   "metadata": {},
   "outputs": [],
   "source": [
    "# Measuring the computation times of true similarities\n",
    "\n",
    "measure=\"disk_dtw_cy\"\n",
    "city=\"kolumbus\"\n",
    "diameter=2.2\n",
    "layers=4\n",
    "disks=60\n",
    "parallel_jobs = 8\n",
    "data_start_size = 100\n",
    "data_end_size = 1000\n",
    "data_step_size = 100\n",
    "iterations = 3\n",
    "\n",
    "compute_disk_similarity_runtimes(measure=measure, city=city, diameter=diameter, layers=layers, disks=disks, parallel_jobs=parallel_jobs, data_start_size=data_start_size, data_end_size=data_end_size, data_step_size=data_step_size, iterations=iterations)"
   ]
  }
 ],
 "metadata": {
  "kernelspec": {
   "display_name": "Python 3",
   "language": "python",
   "name": "python3"
  },
  "language_info": {
   "codemirror_mode": {
    "name": "ipython",
    "version": 3
   },
   "file_extension": ".py",
   "mimetype": "text/x-python",
   "name": "python",
   "nbconvert_exporter": "python",
   "pygments_lexer": "ipython3",
   "version": "3.11.6+"
  }
 },
 "nbformat": 4,
 "nbformat_minor": 2
}
