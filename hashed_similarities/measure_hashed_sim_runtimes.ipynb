{
 "cells": [
  {
   "cell_type": "markdown",
   "metadata": {},
   "source": [
    "# Time measurement for hashed similarity runtimes"
   ]
  },
  {
   "cell_type": "code",
   "execution_count": 2,
   "metadata": {},
   "outputs": [],
   "source": [
    "import os, sys\n",
    "\n",
    "currentdir = os.path.dirname(os.path.abspath(\"__file__\"))\n",
    "parentdir = os.path.dirname(currentdir)\n",
    "sys.path.append(parentdir)\n",
    "\n",
    "from utils.helpers.measure_similarities import compute_grid_similarity_runtimes, compute_disk_similarity_runtimes"
   ]
  },
  {
   "cell_type": "markdown",
   "metadata": {},
   "source": [
    "## Grid"
   ]
  },
  {
   "cell_type": "markdown",
   "metadata": {},
   "source": [
    "### DTW"
   ]
  },
  {
   "cell_type": "code",
   "execution_count": null,
   "metadata": {},
   "outputs": [],
   "source": [
    "# Measuring the computation times of true similarities\n",
    "\n",
    "measure=\"grid_dtw_cy\"\n",
    "city=\"porto\"\n",
    "res=1.6\n",
    "layers=5\n",
    "parallel_jobs = 8\n",
    "data_start_size = 100\n",
    "data_end_size = 1000\n",
    "data_step_size = 100\n",
    "iterations = 3\n",
    "\n",
    "compute_grid_similarity_runtimes(measure=measure, city=city, res=res, layers=layers, parallel_jobs=parallel_jobs, data_start_size=data_start_size, data_end_size=data_end_size, data_step_size=data_step_size, iterations=iterations)"
   ]
  },
  {
   "cell_type": "markdown",
   "metadata": {},
   "source": [
    "### Frechet"
   ]
  },
  {
   "cell_type": "markdown",
   "metadata": {},
   "source": [
    "## Disk"
   ]
  },
  {
   "cell_type": "code",
   "execution_count": 3,
   "metadata": {},
   "outputs": [
    {
     "name": "stdout",
     "output_type": "stream",
     "text": [
      "Iteration 1/3\n",
      "Computing disk_dtw_py for porto with 8 jobs - Iteration 1/3\n",
      "Computing size 100, set 1/10\r"
     ]
    },
    {
     "name": "stdout",
     "output_type": "stream",
     "text": [
      "Iteration 2/3e 1000, set 10/10\n",
      "Computing disk_dtw_py for porto with 8 jobs - Iteration 2/3\n",
      "Iteration 3/3e 1000, set 10/10\n",
      "Computing disk_dtw_py for porto with 8 jobs - Iteration 3/3\n",
      "Computing size 1000, set 10/10\n",
      "Runtimes - Iteration 1:\n",
      "           100        200        300        400         500         600   \\\n",
      "run_1  7.038324  24.201756  61.722004  87.295388  163.321839  214.991799   \n",
      "run_2  7.058454  24.231026  62.621074  87.594069  163.512625  213.462067   \n",
      "run_3  7.119111  24.193197  62.343040  87.581619  163.023094  215.369786   \n",
      "run_4  7.087453  23.998858  61.589353  87.926492  163.457832  215.866516   \n",
      "run_5  7.083727  24.372450  61.807905  88.995026  164.432471  213.409759   \n",
      "run_6  7.503392  24.111915  61.954252  88.022865  166.403308  213.595729   \n",
      "run_7  7.072404  24.331871  62.312953  87.696669  163.726075  215.056733   \n",
      "run_8  7.054998  24.978085  62.248784  87.682278  163.927925  215.210426   \n",
      "\n",
      "             700         800         900         1000  \n",
      "run_1  328.470963  433.118428  579.909626  673.591303  \n",
      "run_2  328.233368  427.040845  577.279742  677.858106  \n",
      "run_3  330.569471  425.259795  585.600601  672.434251  \n",
      "run_4  333.182895  425.606099  579.198676  675.073264  \n",
      "run_5  331.335208  425.481912  583.270070  675.312400  \n",
      "run_6  331.634251  426.471102  590.203958  674.933308  \n",
      "run_7  331.292214  425.676381  581.999351  671.813038  \n",
      "run_8  333.504473  424.733059  576.845399  676.775583  \n",
      "\n",
      "Runtimes - Iteration 2:\n",
      "           100        200        300        400         500         600   \\\n",
      "run_1  7.592690  24.773350  79.161814  77.290155  221.973671  184.366177   \n",
      "run_2  7.579623  24.343888  78.947042  76.813226  223.754482  183.173731   \n",
      "run_3  7.596046  24.343567  79.806920  77.450359  223.426960  185.147000   \n",
      "run_4  7.578934  24.379013  78.942732  76.928057  221.598648  183.562634   \n",
      "run_5  7.623657  24.335823  79.809304  77.109836  223.087974  183.294910   \n",
      "run_6  7.605791  24.353727  79.309821  76.782077  224.654029  185.932707   \n",
      "run_7  7.925151  25.001818  79.005907  77.340841  222.560524  184.626139   \n",
      "run_8  7.552098  24.196713  79.099996  76.526352  222.226018  184.595164   \n",
      "\n",
      "             700         800         900         1000  \n",
      "run_1  330.877370  418.701275  904.842312  553.902006  \n",
      "run_2  332.970944  418.323898  903.753057  561.517659  \n",
      "run_3  332.118175  420.000576  910.626964  552.139596  \n",
      "run_4  333.398365  417.690332  903.072429  557.998247  \n",
      "run_5  331.440090  417.382479  907.224809  552.771428  \n",
      "run_6  332.506743  417.246000  904.528366  559.008238  \n",
      "run_7  330.115134  419.311038  910.077291  558.285508  \n",
      "run_8  330.179427  416.017015  906.714923  554.112918  \n",
      "\n",
      "Runtimes - Iteration 3:\n",
      "           100        200        300        400         500         600   \\\n",
      "run_1  6.657441  24.501969  51.902876  96.278058  149.198426  207.068291   \n",
      "run_2  6.831426  24.520181  52.147497  95.633540  148.434652  207.301546   \n",
      "run_3  6.550172  24.442960  52.694003  97.029468  147.076306  208.396810   \n",
      "run_4  6.560565  24.358436  51.793829  95.143006  147.283495  208.836751   \n",
      "run_5  6.595292  24.562095  51.561324  96.152798  148.224594  208.120013   \n",
      "run_6  6.595514  24.251954  52.004358  95.522789  149.785188  208.323028   \n",
      "run_7  7.235674  24.712501  52.444035  95.530584  148.443174  210.188507   \n",
      "run_8  7.203454  24.271440  51.873822  95.729025  149.016928  207.784772   \n",
      "\n",
      "             700         800         900         1000  \n",
      "run_1  275.461113  484.088461  784.378949  571.883744  \n",
      "run_2  275.399708  484.025750  778.018475  568.044963  \n",
      "run_3  272.706012  480.708181  781.352010  569.403242  \n",
      "run_4  276.646661  483.586768  786.677204  571.111892  \n",
      "run_5  273.794667  484.516210  786.297836  575.967524  \n",
      "run_6  275.537838  483.810410  783.688020  569.821300  \n",
      "run_7  274.554702  483.020351  786.768472  570.954340  \n",
      "run_8  272.533521  483.033474  778.031525  569.008817  \n",
      "\n",
      "Average Hash Generation Times:\n",
      "Size 100: 0.1521 seconds\n",
      "Size 200: 0.2837 seconds\n",
      "Size 300: 0.4459 seconds\n",
      "Size 400: 0.5534 seconds\n",
      "Size 500: 0.7051 seconds\n",
      "Size 600: 0.8153 seconds\n",
      "Size 700: 0.9728 seconds\n",
      "Size 800: 1.1887 seconds\n",
      "Size 900: 1.3709 seconds\n",
      "Size 1000: 1.4550 seconds\n",
      "\n",
      "Average Runtimes:\n",
      "           100        200        300        400         500         600   \\\n",
      "run_1  7.096152  24.492358  64.262231  86.954534  178.164645  202.142089   \n",
      "run_2  7.156501  24.365032  64.571871  86.680278  178.567253  201.312448   \n",
      "run_3  7.088443  24.326575  64.947988  87.353815  177.842120  202.971199   \n",
      "run_4  7.075651  24.245436  64.108638  86.665852  177.446658  202.755300   \n",
      "run_5  7.100892  24.423456  64.392844  87.419220  178.581680  201.608227   \n",
      "run_6  7.234899  24.239199  64.422810  86.775910  180.280842  202.617155   \n",
      "run_7  7.411076  24.682063  64.587632  86.856031  178.243258  203.290460   \n",
      "run_8  7.270183  24.482079  64.407534  86.645885  178.390290  202.530121   \n",
      "\n",
      "             700         800         900         1000  \n",
      "run_1  311.603149  445.302721  756.376962  599.792351  \n",
      "run_2  312.201340  443.130164  753.017091  602.473576  \n",
      "run_3  311.797886  441.989517  759.193192  597.992363  \n",
      "run_4  314.409307  442.294400  756.316103  601.394468  \n",
      "run_5  312.189988  442.460200  758.930905  601.350451  \n",
      "run_6  313.226277  442.509171  759.473448  601.254282  \n",
      "run_7  311.987350  442.669257  759.615038  600.350962  \n",
      "run_8  312.072474  441.261183  753.863949  599.965773  \n"
     ]
    }
   ],
   "source": [
    "# Measuring the computation times of true similarities\n",
    "\n",
    "measure=\"disk_dtw_py\"\n",
    "city=\"porto\"\n",
    "diameter=2.2\n",
    "layers=4\n",
    "disks=60\n",
    "parallel_jobs = 8\n",
    "data_start_size = 100\n",
    "data_end_size = 1000\n",
    "data_step_size = 100\n",
    "iterations = 3\n",
    "\n",
    "compute_disk_similarity_runtimes(measure=measure, city=city, diameter=diameter, layers=layers, disks=disks, parallel_jobs=parallel_jobs, data_start_size=data_start_size, data_end_size=data_end_size, data_step_size=data_step_size, iterations=iterations)"
   ]
  }
 ],
 "metadata": {
  "kernelspec": {
   "display_name": "Python 3",
   "language": "python",
   "name": "python3"
  },
  "language_info": {
   "codemirror_mode": {
    "name": "ipython",
    "version": 3
   },
   "file_extension": ".py",
   "mimetype": "text/x-python",
   "name": "python",
   "nbconvert_exporter": "python",
   "pygments_lexer": "ipython3",
   "version": "3.11.6+"
  }
 },
 "nbformat": 4,
 "nbformat_minor": 2
}
