{
 "cells": [
  {
   "cell_type": "code",
   "execution_count": 1,
   "metadata": {},
   "outputs": [],
   "source": [
    "import pandas as pd\n",
    "import csv\n",
    "import numpy as np\n",
    "\n",
    "# Replace 'your_file.csv' with the path to your CSV file\n",
    "file_path = 'disk_rome-dtw.csv'\n",
    "df = pd.read_csv(file_path)\n",
    "\n",
    "# Convert the DataFrame to a NumPy array for manipulation\n",
    "matrix = df.values\n",
    "\n",
    "# Use NumPy's tril function to keep only the lower triangle of the matrix, setting the rest to 0\n",
    "# This includes setting the diagonal and everything above it to 0\n",
    "modified_matrix = np.tril(matrix)  # -1 keeps everything below the diagonal\n",
    "\n",
    "# Convert the modified matrix back to a DataFrame\n",
    "modified_df = pd.DataFrame(modified_matrix, columns=df.columns)\n",
    "\n",
    "# Save the modified DataFrame to a new CSV file\n",
    "output_csv_path = 'disk_rome-dtw-unmirrored.csv'\n",
    "modified_df.to_csv(output_csv_path, index=False)"
   ]
  }
 ],
 "metadata": {
  "kernelspec": {
   "display_name": "Python 3",
   "language": "python",
   "name": "python3"
  },
  "language_info": {
   "codemirror_mode": {
    "name": "ipython",
    "version": 3
   },
   "file_extension": ".py",
   "mimetype": "text/x-python",
   "name": "python",
   "nbconvert_exporter": "python",
   "pygments_lexer": "ipython3",
   "version": "3.11.6+"
  }
 },
 "nbformat": 4,
 "nbformat_minor": 2
}
