{
 "cells": [
  {
   "cell_type": "code",
   "execution_count": 1,
   "metadata": {},
   "outputs": [],
   "source": [
    "from correlation import compute_correlation_similarity\n",
    "from grid_similarity import generate_grid_hash_similarity\n",
    "\n",
    "# from experiments.disk_similarity import generate_disk_hash_similarity\n",
    "import os"
   ]
  },
  {
   "cell_type": "code",
   "execution_count": 2,
   "metadata": {},
   "outputs": [],
   "source": [
    "# Grid Porto\n",
    "# similarities = generate_grid_hash_similarity(\"porto\", 1.6, 5)\n",
    "# output_path = \"output/grid/porto/grid_porto.csv\"\n",
    "# similarities.to_csv(os.path.abspath(output_path))"
   ]
  },
  {
   "cell_type": "code",
   "execution_count": 3,
   "metadata": {},
   "outputs": [
    {
     "name": "stdout",
     "output_type": "stream",
     "text": [
      "Run : 0\n",
      "DTW:  0.09514148507883749\n",
      "Frechet:  0.16228572410767458\n",
      "Run : 1\n",
      "DTW:  0.06847512141302155\n",
      "Frechet:  0.12276265175768564\n",
      "Run : 2\n",
      "DTW:  0.08389151051381805\n",
      "Frechet:  0.14075252169551752\n",
      "Run : 3\n",
      "DTW:  0.14186660853783148\n",
      "Frechet:  0.19141726825641317\n",
      "Run : 4\n",
      "DTW:  0.1238429727436364\n",
      "Frechet:  0.1676971125384616\n",
      "porto grid : (min, max, avg, std)\n",
      "DTW: 0.06847512141302155 0.14186660853783148 0.102643539657429 0.02669556263052397\n",
      "FRE: 0.12276265175768564 0.19141726825641317 0.1569830556711505 0.023507830953133912\n"
     ]
    }
   ],
   "source": [
    "compute_correlation_similarity(\"porto\", \"grid\", 5)"
   ]
  }
 ],
 "metadata": {
  "kernelspec": {
   "display_name": "Python 3",
   "language": "python",
   "name": "python3"
  },
  "language_info": {
   "codemirror_mode": {
    "name": "ipython",
    "version": 3
   },
   "file_extension": ".py",
   "mimetype": "text/x-python",
   "name": "python",
   "nbconvert_exporter": "python",
   "pygments_lexer": "ipython3",
   "version": "3.11.7"
  }
 },
 "nbformat": 4,
 "nbformat_minor": 2
}
